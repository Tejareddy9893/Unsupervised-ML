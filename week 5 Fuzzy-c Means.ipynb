{
 "cells": [
  {
   "attachments": {},
   "cell_type": "markdown",
   "metadata": {},
   "source": [
    "##  Fuzzy C-means (FCM) algorithm -Week 5"
   ]
  },
  {
   "cell_type": "code",
   "execution_count": 12,
   "metadata": {},
   "outputs": [],
   "source": [
    "#Below are the required libraries\n",
    "\n",
    "import pandas as pd\n",
    "import numpy as np\n",
    "import matplotlib.pyplot as plt\n",
    "from PIL import Image\n",
    "import random\n",
    "import math\n",
    "\n"
   ]
  },
  {
   "cell_type": "code",
   "execution_count": 13,
   "metadata": {},
   "outputs": [],
   "source": [
    "data_1 = np.array(Image.open('Five_Clust.PGM'))\n",
    "data_2 = np.array(Image.open('Two_Separat_Clust.PGM'))"
   ]
  },
  {
   "cell_type": "code",
   "execution_count": 14,
   "metadata": {},
   "outputs": [],
   "source": [
    "#initializing the Matrix\n",
    "def init_matrix(n_samples, n_clusters):\n",
    "    matrix = [[random.random() for j in range(n_clusters)] for i in range(n_samples)]\n",
    "    row_sums = [sum(row) for row in matrix]\n",
    "    for i in range(n_samples):\n",
    "        for j in range(n_clusters):\n",
    "            matrix[i][j] /= row_sums[i]\n",
    "    return matrix\n"
   ]
  },
  {
   "cell_type": "code",
   "execution_count": 7,
   "metadata": {},
   "outputs": [],
   "source": [
    "#updating the cluster\n",
    "\n",
    "def update_cluster_centers(data, matrix, m):\n",
    "    n_clusters = len(matrix[0])\n",
    "    n_features = len(data[0])\n",
    "    centers = [[0.0 for j in range(n_features)] for i in range(n_clusters)]\n",
    "    for j in range(n_clusters):\n",
    "        weights = [math.pow(matrix[i][j], m) for i in range(len(matrix))]\n",
    "        for k in range(n_features):\n",
    "            centers[j][k] = sum([weights[i] * data[i][k] for i in range(len(data))]) / sum(weights)\n",
    "    return centers\n"
   ]
  },
  {
   "cell_type": "code",
   "execution_count": 8,
   "metadata": {},
   "outputs": [],
   "source": [
    "#updating the matrix\n",
    "def update_matrix(data, centers, m):\n",
    "    n_samples = len(data)\n",
    "    n_clusters = len(centers)\n",
    "    dist_mat = [[0.0 for j in range(n_clusters)] for i in range(n_samples)]\n",
    "    for i in range(n_samples):\n",
    "        for j in range(n_clusters):\n",
    "            dist_mat[i][j] = sum([math.pow(abs(data[i][k] - centers[j][k]), m) for k in range(len(data[i]))])\n",
    "            if dist_mat[i][j] == 0.0:\n",
    "                dist_mat[i][j] = 1e-10\n",
    "    matrix = [[0.0 for j in range(n_clusters)] for i in range(n_samples)]\n",
    "    for i in range(n_samples):\n",
    "        for j in range(n_clusters):\n",
    "            matrix[i][j] = 1.0 / sum([math.pow(dist_mat[i][j] / dist_mat[i][k], 2 / (m - 1)) for k in range(n_clusters)])\n",
    "    return matrix\n"
   ]
  },
  {
   "cell_type": "code",
   "execution_count": 9,
   "metadata": {},
   "outputs": [],
   "source": [
    "#Fuzzy-c Means Algorithm \n",
    "def fuzzy_c_means(data, n_clusters, m, max_iter=100):\n",
    "    matrix = init_matrix(len(data), n_clusters)\n",
    "    centers = update_cluster_centers(data, matrix, m)\n",
    "    for i in range(max_iter):\n",
    "        matrix = update_matrix(data, centers, m)\n",
    "        new_centers = update_cluster_centers(data, matrix, m)\n",
    "        center_shift = sum([sum([abs(new_centers[j][k] - centers[j][k]) for k in range(len(centers[j]))]) for j in range(len(centers))])\n",
    "        if center_shift < 1e-5:\n",
    "            break\n",
    "        centers = new_centers\n",
    "    labels = [max(enumerate(row), key=lambda x: x[1])[0] for row in matrix]\n",
    "    return labels, centers\n"
   ]
  },
  {
   "cell_type": "code",
   "execution_count": 11,
   "metadata": {},
   "outputs": [
    {
     "data": {
      "image/png": "[encoded data removed]",
      "text/plain": [
       "<Figure size 640x480 with 1 Axes>"
      ]
     },
     "metadata": {},
     "output_type": "display_data"
    }
   ],
   "source": [
    "# Dispalying the result\n",
    "data = data_1\n",
    "n_clusters = 5\n",
    "m = 3\n",
    "labels, centers = fuzzy_c_means(data, n_clusters=n_clusters, m=m)\n",
    "\n",
    "plt.scatter(data[:, 0], data[:, 1], c=labels)\n",
    "plt.scatter(np.array([center[0] for center in centers]), \n",
    "            np.array([center[1] for center in centers]), \n",
    "            marker=\"o\", s=5, c='b')\n",
    "plt.show()\n"
   ]
  }
 ],
 "metadata": {
  "kernelspec": {
   "display_name": "Python 3",
   "language": "python",
   "name": "python3"
  },
  "language_info": {
   "codemirror_mode": {
    "name": "ipython",
    "version": 3
   },
   "file_extension": ".py",
   "mimetype": "text/x-python",
   "name": "python",
   "nbconvert_exporter": "python",
   "pygments_lexer": "ipython3",
   "version": "3.11.2"
  },
  "orig_nbformat": 4
 },
 "nbformat": 4,
 "nbformat_minor": 2
}
