{
 "cells": [
  {
   "attachments": {},
   "cell_type": "markdown",
   "metadata": {},
   "source": [
    "# PCA and LDA techniques on the Iris Dataset"
   ]
  },
  {
   "cell_type": "code",
   "execution_count": 7,
   "metadata": {},
   "outputs": [
    {
     "name": "stdout",
     "output_type": "stream",
     "text": [
      "Requirement already satisfied: pandas in c:\\users\\saite\\appdata\\local\\programs\\python\\python311\\lib\\site-packages (2.0.0)\n",
      "Requirement already satisfied: python-dateutil>=2.8.2 in c:\\users\\saite\\appdata\\roaming\\python\\python311\\site-packages (from pandas) (2.8.2)\n",
      "Requirement already satisfied: pytz>=2020.1 in c:\\users\\saite\\appdata\\local\\programs\\python\\python311\\lib\\site-packages (from pandas) (2023.3)\n",
      "Requirement already satisfied: tzdata>=2022.1 in c:\\users\\saite\\appdata\\local\\programs\\python\\python311\\lib\\site-packages (from pandas) (2023.3)\n",
      "Requirement already satisfied: numpy>=1.21.0 in c:\\users\\saite\\appdata\\local\\programs\\python\\python311\\lib\\site-packages (from pandas) (1.24.2)\n",
      "Requirement already satisfied: six>=1.5 in c:\\users\\saite\\appdata\\roaming\\python\\python311\\site-packages (from python-dateutil>=2.8.2->pandas) (1.16.0)\n",
      "Note: you may need to restart the kernel to use updated packages.\n"
     ]
    }
   ],
   "source": [
    "pip install pandas"
   ]
  },
  {
   "cell_type": "code",
   "execution_count": 8,
   "metadata": {},
   "outputs": [
    {
     "name": "stdout",
     "output_type": "stream",
     "text": [
      "Collecting matplotlib\n",
      "  Downloading matplotlib-3.7.1-cp311-cp311-win_amd64.whl (7.6 MB)\n",
      "     ---------------------------------------- 0.0/7.6 MB ? eta -:--:--\n",
      "     - -------------------------------------- 0.2/7.6 MB 7.6 MB/s eta 0:00:01\n",
      "     ------ --------------------------------- 1.1/7.6 MB 14.6 MB/s eta 0:00:01\n",
      "     ------------ --------------------------- 2.3/7.6 MB 21.2 MB/s eta 0:00:01\n",
      "     ------------------------- -------------- 4.9/7.6 MB 28.2 MB/s eta 0:00:01\n",
      "     --------------------------------- ------ 6.4/7.6 MB 31.4 MB/s eta 0:00:01\n",
      "     ------------------------------------- -- 7.1/7.6 MB 26.5 MB/s eta 0:00:01\n",
      "     ---------------------------------------  7.6/7.6 MB 25.6 MB/s eta 0:00:01\n",
      "     ---------------------------------------- 7.6/7.6 MB 22.1 MB/s eta 0:00:00\n",
      "Collecting contourpy>=1.0.1\n",
      "  Downloading contourpy-1.0.7-cp311-cp311-win_amd64.whl (162 kB)\n",
      "     ---------------------------------------- 0.0/163.0 kB ? eta -:--:--\n",
      "     -------------------------------------- 163.0/163.0 kB 9.5 MB/s eta 0:00:00\n",
      "Collecting cycler>=0.10\n",
      "  Downloading cycler-0.11.0-py3-none-any.whl (6.4 kB)\n",
      "Collecting fonttools>=4.22.0\n",
      "  Downloading fonttools-4.39.3-py3-none-any.whl (1.0 MB)\n",
      "     ---------------------------------------- 0.0/1.0 MB ? eta -:--:--\n",
      "     -------------------------------- ------- 0.8/1.0 MB 25.6 MB/s eta 0:00:01\n",
      "     ---------------------------------------- 1.0/1.0 MB 15.9 MB/s eta 0:00:00\n",
      "Collecting kiwisolver>=1.0.1\n",
      "  Downloading kiwisolver-1.4.4-cp311-cp311-win_amd64.whl (55 kB)\n",
      "     ---------------------------------------- 0.0/55.4 kB ? eta -:--:--\n",
      "     ---------------------------------------- 55.4/55.4 kB ? eta 0:00:00\n",
      "Requirement already satisfied: numpy>=1.20 in c:\\users\\saite\\appdata\\local\\programs\\python\\python311\\lib\\site-packages (from matplotlib) (1.24.2)\n",
      "Requirement already satisfied: packaging>=20.0 in c:\\users\\saite\\appdata\\roaming\\python\\python311\\site-packages (from matplotlib) (23.0)\n",
      "Collecting pillow>=6.2.0\n",
      "  Downloading Pillow-9.5.0-cp311-cp311-win_amd64.whl (2.5 MB)\n",
      "     ---------------------------------------- 0.0/2.5 MB ? eta -:--:--\n",
      "     -------------- ------------------------- 0.9/2.5 MB 18.5 MB/s eta 0:00:01\n",
      "     ---------------------------- ----------- 1.8/2.5 MB 19.2 MB/s eta 0:00:01\n",
      "     ---------------------------------------  2.5/2.5 MB 20.0 MB/s eta 0:00:01\n",
      "     ---------------------------------------- 2.5/2.5 MB 17.9 MB/s eta 0:00:00\n",
      "Collecting pyparsing>=2.3.1\n",
      "  Downloading pyparsing-3.0.9-py3-none-any.whl (98 kB)\n",
      "     ---------------------------------------- 0.0/98.3 kB ? eta -:--:--\n",
      "     ---------------------------------------- 98.3/98.3 kB 5.9 MB/s eta 0:00:00\n",
      "Requirement already satisfied: python-dateutil>=2.7 in c:\\users\\saite\\appdata\\roaming\\python\\python311\\site-packages (from matplotlib) (2.8.2)\n",
      "Requirement already satisfied: six>=1.5 in c:\\users\\saite\\appdata\\roaming\\python\\python311\\site-packages (from python-dateutil>=2.7->matplotlib) (1.16.0)\n",
      "Installing collected packages: pyparsing, pillow, kiwisolver, fonttools, cycler, contourpy, matplotlib\n",
      "Successfully installed contourpy-1.0.7 cycler-0.11.0 fonttools-4.39.3 kiwisolver-1.4.4 matplotlib-3.7.1 pillow-9.5.0 pyparsing-3.0.9\n",
      "Note: you may need to restart the kernel to use updated packages.\n"
     ]
    }
   ],
   "source": [
    "pip install matplotlib"
   ]
  },
  {
   "cell_type": "code",
   "execution_count": 10,
   "metadata": {},
   "outputs": [
    {
     "name": "stdout",
     "output_type": "stream",
     "text": [
      "Collecting seaborn\n",
      "  Downloading seaborn-0.12.2-py3-none-any.whl (293 kB)\n",
      "     ---------------------------------------- 0.0/293.3 kB ? eta -:--:--\n",
      "     ------------------------------ ------- 235.5/293.3 kB 7.3 MB/s eta 0:00:01\n",
      "     -------------------------------------- 293.3/293.3 kB 4.5 MB/s eta 0:00:00\n",
      "Requirement already satisfied: numpy!=1.24.0,>=1.17 in c:\\users\\saite\\appdata\\local\\programs\\python\\python311\\lib\\site-packages (from seaborn) (1.24.2)\n",
      "Requirement already satisfied: pandas>=0.25 in c:\\users\\saite\\appdata\\local\\programs\\python\\python311\\lib\\site-packages (from seaborn) (2.0.0)\n",
      "Requirement already satisfied: matplotlib!=3.6.1,>=3.1 in c:\\users\\saite\\appdata\\local\\programs\\python\\python311\\lib\\site-packages (from seaborn) (3.7.1)\n",
      "Requirement already satisfied: contourpy>=1.0.1 in c:\\users\\saite\\appdata\\local\\programs\\python\\python311\\lib\\site-packages (from matplotlib!=3.6.1,>=3.1->seaborn) (1.0.7)\n",
      "Requirement already satisfied: cycler>=0.10 in c:\\users\\saite\\appdata\\local\\programs\\python\\python311\\lib\\site-packages (from matplotlib!=3.6.1,>=3.1->seaborn) (0.11.0)\n",
      "Requirement already satisfied: fonttools>=4.22.0 in c:\\users\\saite\\appdata\\local\\programs\\python\\python311\\lib\\site-packages (from matplotlib!=3.6.1,>=3.1->seaborn) (4.39.3)\n",
      "Requirement already satisfied: kiwisolver>=1.0.1 in c:\\users\\saite\\appdata\\local\\programs\\python\\python311\\lib\\site-packages (from matplotlib!=3.6.1,>=3.1->seaborn) (1.4.4)\n",
      "Requirement already satisfied: packaging>=20.0 in c:\\users\\saite\\appdata\\roaming\\python\\python311\\site-packages (from matplotlib!=3.6.1,>=3.1->seaborn) (23.0)\n",
      "Requirement already satisfied: pillow>=6.2.0 in c:\\users\\saite\\appdata\\local\\programs\\python\\python311\\lib\\site-packages (from matplotlib!=3.6.1,>=3.1->seaborn) (9.5.0)\n",
      "Requirement already satisfied: pyparsing>=2.3.1 in c:\\users\\saite\\appdata\\local\\programs\\python\\python311\\lib\\site-packages (from matplotlib!=3.6.1,>=3.1->seaborn) (3.0.9)\n",
      "Requirement already satisfied: python-dateutil>=2.7 in c:\\users\\saite\\appdata\\roaming\\python\\python311\\site-packages (from matplotlib!=3.6.1,>=3.1->seaborn) (2.8.2)\n",
      "Requirement already satisfied: pytz>=2020.1 in c:\\users\\saite\\appdata\\local\\programs\\python\\python311\\lib\\site-packages (from pandas>=0.25->seaborn) (2023.3)\n",
      "Requirement already satisfied: tzdata>=2022.1 in c:\\users\\saite\\appdata\\local\\programs\\python\\python311\\lib\\site-packages (from pandas>=0.25->seaborn) (2023.3)\n",
      "Requirement already satisfied: six>=1.5 in c:\\users\\saite\\appdata\\roaming\\python\\python311\\site-packages (from python-dateutil>=2.7->matplotlib!=3.6.1,>=3.1->seaborn) (1.16.0)\n",
      "Installing collected packages: seaborn\n",
      "Successfully installed seaborn-0.12.2\n",
      "Note: you may need to restart the kernel to use updated packages.\n"
     ]
    }
   ],
   "source": [
    "pip install seaborn"
   ]
  },
  {
   "cell_type": "code",
   "execution_count": 12,
   "metadata": {},
   "outputs": [
    {
     "name": "stdout",
     "output_type": "stream",
     "text": [
      "Collecting plotly\n",
      "  Downloading plotly-5.14.0-py2.py3-none-any.whl (15.3 MB)\n",
      "     ---------------------------------------- 0.0/15.3 MB ? eta -:--:--\n",
      "     - -------------------------------------- 0.4/15.3 MB 13.4 MB/s eta 0:00:02\n",
      "     ---- ----------------------------------- 1.7/15.3 MB 17.9 MB/s eta 0:00:01\n",
      "     ---------- ----------------------------- 3.9/15.3 MB 27.9 MB/s eta 0:00:01\n",
      "     ----------------- ---------------------- 6.8/15.3 MB 35.9 MB/s eta 0:00:01\n",
      "     ------------------------ --------------- 9.2/15.3 MB 42.1 MB/s eta 0:00:01\n",
      "     ------------------------------ -------- 12.0/15.3 MB 59.5 MB/s eta 0:00:01\n",
      "     ------------------------------------- - 15.0/15.3 MB 59.5 MB/s eta 0:00:01\n",
      "     --------------------------------------  15.3/15.3 MB 59.5 MB/s eta 0:00:01\n",
      "     --------------------------------------- 15.3/15.3 MB 40.9 MB/s eta 0:00:00\n",
      "Collecting tenacity>=6.2.0\n",
      "  Downloading tenacity-8.2.2-py3-none-any.whl (24 kB)\n",
      "Requirement already satisfied: packaging in c:\\users\\saite\\appdata\\roaming\\python\\python311\\site-packages (from plotly) (23.0)\n",
      "Installing collected packages: tenacity, plotly\n",
      "Successfully installed plotly-5.14.0 tenacity-8.2.2\n",
      "Note: you may need to restart the kernel to use updated packages.\n"
     ]
    }
   ],
   "source": [
    "pip install plotly"
   ]
  },
  {
   "cell_type": "code",
   "execution_count": 13,
   "metadata": {},
   "outputs": [],
   "source": [
    "#import required libraries\n",
    "\n",
    "import pandas as pd\n",
    "import numpy as np\n",
    "import matplotlib.pyplot as plt\n",
    "import seaborn as sns\n",
    "import plotly.express as px"
   ]
  },
  {
   "cell_type": "code",
   "execution_count": 14,
   "metadata": {},
   "outputs": [
    {
     "data": {
      "text/html": [
       "<div>\n",
       "<style scoped>\n",
       "    .dataframe tbody tr th:only-of-type {\n",
       "        vertical-align: middle;\n",
       "    }\n",
       "\n",
       "    .dataframe tbody tr th {\n",
       "        vertical-align: top;\n",
       "    }\n",
       "\n",
       "    .dataframe thead th {\n",
       "        text-align: right;\n",
       "    }\n",
       "</style>\n",
       "<table border=\"1\" class=\"dataframe\">\n",
       "  <thead>\n",
       "    <tr style=\"text-align: right;\">\n",
       "      <th></th>\n",
       "      <th>sepal_length</th>\n",
       "      <th>sepal_width</th>\n",
       "      <th>petal_length</th>\n",
       "      <th>petal_width</th>\n",
       "      <th>species</th>\n",
       "    </tr>\n",
       "  </thead>\n",
       "  <tbody>\n",
       "    <tr>\n",
       "      <th>0</th>\n",
       "      <td>5.1</td>\n",
       "      <td>3.5</td>\n",
       "      <td>1.4</td>\n",
       "      <td>0.2</td>\n",
       "      <td>Iris-setosa</td>\n",
       "    </tr>\n",
       "    <tr>\n",
       "      <th>1</th>\n",
       "      <td>4.9</td>\n",
       "      <td>3.0</td>\n",
       "      <td>1.4</td>\n",
       "      <td>0.2</td>\n",
       "      <td>Iris-setosa</td>\n",
       "    </tr>\n",
       "    <tr>\n",
       "      <th>2</th>\n",
       "      <td>4.7</td>\n",
       "      <td>3.2</td>\n",
       "      <td>1.3</td>\n",
       "      <td>0.2</td>\n",
       "      <td>Iris-setosa</td>\n",
       "    </tr>\n",
       "    <tr>\n",
       "      <th>3</th>\n",
       "      <td>4.6</td>\n",
       "      <td>3.1</td>\n",
       "      <td>1.5</td>\n",
       "      <td>0.2</td>\n",
       "      <td>Iris-setosa</td>\n",
       "    </tr>\n",
       "    <tr>\n",
       "      <th>4</th>\n",
       "      <td>5.0</td>\n",
       "      <td>3.6</td>\n",
       "      <td>1.4</td>\n",
       "      <td>0.2</td>\n",
       "      <td>Iris-setosa</td>\n",
       "    </tr>\n",
       "  </tbody>\n",
       "</table>\n",
       "</div>"
      ],
      "text/plain": [
       "   sepal_length  sepal_width  petal_length  petal_width      species\n",
       "0           5.1          3.5           1.4          0.2  Iris-setosa\n",
       "1           4.9          3.0           1.4          0.2  Iris-setosa\n",
       "2           4.7          3.2           1.3          0.2  Iris-setosa\n",
       "3           4.6          3.1           1.5          0.2  Iris-setosa\n",
       "4           5.0          3.6           1.4          0.2  Iris-setosa"
      ]
     },
     "execution_count": 14,
     "metadata": {},
     "output_type": "execute_result"
    }
   ],
   "source": [
    "#load IRIS dataset\n",
    "\n",
    "iris = pd.read_csv(\"http://archive.ics.uci.edu/ml/machine-learning-databases/iris/iris.data\", names = ['sepal_length', 'sepal_width', 'petal_length', 'petal_width', 'species'])\n",
    "iris.head()"
   ]
  },
  {
   "attachments": {},
   "cell_type": "markdown",
   "metadata": {},
   "source": [
    "In the iris dataset, there are 4 attributes and 1 label. The attributes are sepal length, sepal width, petal length, and petal width. The label is the species of the iris flower."
   ]
  },
  {
   "attachments": {},
   "cell_type": "markdown",
   "metadata": {},
   "source": [
    "## PCA Analysis on the Iris Dataset"
   ]
  },
  {
   "cell_type": "code",
   "execution_count": 15,
   "metadata": {},
   "outputs": [
    {
     "data": {
      "text/html": [
       "<div>\n",
       "<style scoped>\n",
       "    .dataframe tbody tr th:only-of-type {\n",
       "        vertical-align: middle;\n",
       "    }\n",
       "\n",
       "    .dataframe tbody tr th {\n",
       "        vertical-align: top;\n",
       "    }\n",
       "\n",
       "    .dataframe thead th {\n",
       "        text-align: right;\n",
       "    }\n",
       "</style>\n",
       "<table border=\"1\" class=\"dataframe\">\n",
       "  <thead>\n",
       "    <tr style=\"text-align: right;\">\n",
       "      <th></th>\n",
       "      <th>sepal_length</th>\n",
       "      <th>sepal_width</th>\n",
       "      <th>petal_length</th>\n",
       "      <th>petal_width</th>\n",
       "    </tr>\n",
       "  </thead>\n",
       "  <tbody>\n",
       "    <tr>\n",
       "      <th>0</th>\n",
       "      <td>-0.897674</td>\n",
       "      <td>1.028611</td>\n",
       "      <td>-1.336794</td>\n",
       "      <td>-1.308593</td>\n",
       "    </tr>\n",
       "    <tr>\n",
       "      <th>1</th>\n",
       "      <td>-1.139200</td>\n",
       "      <td>-0.124540</td>\n",
       "      <td>-1.336794</td>\n",
       "      <td>-1.308593</td>\n",
       "    </tr>\n",
       "    <tr>\n",
       "      <th>2</th>\n",
       "      <td>-1.380727</td>\n",
       "      <td>0.336720</td>\n",
       "      <td>-1.393470</td>\n",
       "      <td>-1.308593</td>\n",
       "    </tr>\n",
       "    <tr>\n",
       "      <th>3</th>\n",
       "      <td>-1.501490</td>\n",
       "      <td>0.106090</td>\n",
       "      <td>-1.280118</td>\n",
       "      <td>-1.308593</td>\n",
       "    </tr>\n",
       "    <tr>\n",
       "      <th>4</th>\n",
       "      <td>-1.018437</td>\n",
       "      <td>1.259242</td>\n",
       "      <td>-1.336794</td>\n",
       "      <td>-1.308593</td>\n",
       "    </tr>\n",
       "  </tbody>\n",
       "</table>\n",
       "</div>"
      ],
      "text/plain": [
       "   sepal_length  sepal_width  petal_length  petal_width\n",
       "0     -0.897674     1.028611     -1.336794    -1.308593\n",
       "1     -1.139200    -0.124540     -1.336794    -1.308593\n",
       "2     -1.380727     0.336720     -1.393470    -1.308593\n",
       "3     -1.501490     0.106090     -1.280118    -1.308593\n",
       "4     -1.018437     1.259242     -1.336794    -1.308593"
      ]
     },
     "execution_count": 15,
     "metadata": {},
     "output_type": "execute_result"
    }
   ],
   "source": [
    "#1. Standardize the data. Data is standardized by subtracting the mean and dividing by the standard deviation. \n",
    "#This is done so that all the features to the same level of magnitudes.\n",
    "\n",
    "std_iris = iris.iloc[:,0:4].apply(lambda x: (x - x.mean()) / x.std())\n",
    "std_iris.head()"
   ]
  },
  {
   "cell_type": "code",
   "execution_count": 16,
   "metadata": {},
   "outputs": [],
   "source": [
    "#2. Calculate the covariance matrix. Covariance matrix is a matrix that shows the covariance between each pair of features.\n",
    "\n",
    "covariance_matrix = np.cov(std_iris.T)"
   ]
  },
  {
   "cell_type": "code",
   "execution_count": 17,
   "metadata": {},
   "outputs": [],
   "source": [
    "#3. Calculate the eigenvalues and eigenvectors of the covariance matrix.\n",
    "\n",
    "eigen_values, eigen_vectors = np.linalg.eig(covariance_matrix)"
   ]
  },
  {
   "cell_type": "code",
   "execution_count": 18,
   "metadata": {},
   "outputs": [],
   "source": [
    "#4. sort the eigenvalues in descending order.\n",
    "\n",
    "eigen_pairs=[]\n",
    "for i in range(len(eigen_values)):\n",
    "    eigen_pairs.append((np.abs(eigen_values[i]), eigen_vectors[:,i]))\n",
    "eigen_pairs.sort(reverse=True)"
   ]
  },
  {
   "cell_type": "code",
   "execution_count": 19,
   "metadata": {},
   "outputs": [
    {
     "data": {
      "text/plain": [
       "[(2.9108180837520528,\n",
       "  array([ 0.52237162, -0.26335492,  0.58125401,  0.56561105])),\n",
       " (0.9212209307072246,\n",
       "  array([-0.37231836, -0.92555649, -0.02109478, -0.06541577]))]"
      ]
     },
     "execution_count": 19,
     "metadata": {},
     "output_type": "execute_result"
    }
   ],
   "source": [
    "#5. Select top k eigenvectors.\n",
    "\n",
    "k=2\n",
    "eigen_pairs = eigen_pairs[0:k]\n",
    "eigen_pairs"
   ]
  },
  {
   "cell_type": "code",
   "execution_count": 20,
   "metadata": {},
   "outputs": [
    {
     "data": {
      "text/plain": [
       "array([[ 0.52237162, -0.37231836],\n",
       "       [-0.26335492, -0.92555649],\n",
       "       [ 0.58125401, -0.02109478],\n",
       "       [ 0.56561105, -0.06541577]])"
      ]
     },
     "execution_count": 20,
     "metadata": {},
     "output_type": "execute_result"
    }
   ],
   "source": [
    "#6. Create a projection matrix.\n",
    "\n",
    "projection_matrix = np.hstack((eigen_pairs[0][1].reshape(4,1), eigen_pairs[1][1].reshape(4,1)))\n",
    "projection_matrix"
   ]
  },
  {
   "cell_type": "code",
   "execution_count": 22,
   "metadata": {},
   "outputs": [
    {
     "data": {
      "text/html": [
       "<div>\n",
       "<style scoped>\n",
       "    .dataframe tbody tr th:only-of-type {\n",
       "        vertical-align: middle;\n",
       "    }\n",
       "\n",
       "    .dataframe tbody tr th {\n",
       "        vertical-align: top;\n",
       "    }\n",
       "\n",
       "    .dataframe thead th {\n",
       "        text-align: right;\n",
       "    }\n",
       "</style>\n",
       "<table border=\"1\" class=\"dataframe\">\n",
       "  <thead>\n",
       "    <tr style=\"text-align: right;\">\n",
       "      <th></th>\n",
       "      <th>0</th>\n",
       "      <th>1</th>\n",
       "    </tr>\n",
       "  </thead>\n",
       "  <tbody>\n",
       "    <tr>\n",
       "      <th>0</th>\n",
       "      <td>-2.256981</td>\n",
       "      <td>-0.504015</td>\n",
       "    </tr>\n",
       "    <tr>\n",
       "      <th>1</th>\n",
       "      <td>-2.079459</td>\n",
       "      <td>0.653216</td>\n",
       "    </tr>\n",
       "    <tr>\n",
       "      <th>2</th>\n",
       "      <td>-2.360044</td>\n",
       "      <td>0.317414</td>\n",
       "    </tr>\n",
       "    <tr>\n",
       "      <th>3</th>\n",
       "      <td>-2.296504</td>\n",
       "      <td>0.573447</td>\n",
       "    </tr>\n",
       "    <tr>\n",
       "      <th>4</th>\n",
       "      <td>-2.380802</td>\n",
       "      <td>-0.672514</td>\n",
       "    </tr>\n",
       "  </tbody>\n",
       "</table>\n",
       "</div>"
      ],
      "text/plain": [
       "          0         1\n",
       "0 -2.256981 -0.504015\n",
       "1 -2.079459  0.653216\n",
       "2 -2.360044  0.317414\n",
       "3 -2.296504  0.573447\n",
       "4 -2.380802 -0.672514"
      ]
     },
     "execution_count": 22,
     "metadata": {},
     "output_type": "execute_result"
    }
   ],
   "source": [
    "#7. Transform the data into the new subspace.\n",
    "\n",
    "transformed_data = std_iris.dot(projection_matrix)\n",
    "transformed_data.head()"
   ]
  },
  {
   "cell_type": "code",
   "execution_count": 23,
   "metadata": {},
   "outputs": [
    {
     "data": {
      "text/html": [
       "<div>\n",
       "<style scoped>\n",
       "    .dataframe tbody tr th:only-of-type {\n",
       "        vertical-align: middle;\n",
       "    }\n",
       "\n",
       "    .dataframe tbody tr th {\n",
       "        vertical-align: top;\n",
       "    }\n",
       "\n",
       "    .dataframe thead th {\n",
       "        text-align: right;\n",
       "    }\n",
       "</style>\n",
       "<table border=\"1\" class=\"dataframe\">\n",
       "  <thead>\n",
       "    <tr style=\"text-align: right;\">\n",
       "      <th></th>\n",
       "      <th>PC1</th>\n",
       "      <th>PC2</th>\n",
       "      <th>species</th>\n",
       "    </tr>\n",
       "  </thead>\n",
       "  <tbody>\n",
       "    <tr>\n",
       "      <th>0</th>\n",
       "      <td>-2.256981</td>\n",
       "      <td>-0.504015</td>\n",
       "      <td>Iris-setosa</td>\n",
       "    </tr>\n",
       "    <tr>\n",
       "      <th>1</th>\n",
       "      <td>-2.079459</td>\n",
       "      <td>0.653216</td>\n",
       "      <td>Iris-setosa</td>\n",
       "    </tr>\n",
       "    <tr>\n",
       "      <th>2</th>\n",
       "      <td>-2.360044</td>\n",
       "      <td>0.317414</td>\n",
       "      <td>Iris-setosa</td>\n",
       "    </tr>\n",
       "    <tr>\n",
       "      <th>3</th>\n",
       "      <td>-2.296504</td>\n",
       "      <td>0.573447</td>\n",
       "      <td>Iris-setosa</td>\n",
       "    </tr>\n",
       "    <tr>\n",
       "      <th>4</th>\n",
       "      <td>-2.380802</td>\n",
       "      <td>-0.672514</td>\n",
       "      <td>Iris-setosa</td>\n",
       "    </tr>\n",
       "  </tbody>\n",
       "</table>\n",
       "</div>"
      ],
      "text/plain": [
       "        PC1       PC2      species\n",
       "0 -2.256981 -0.504015  Iris-setosa\n",
       "1 -2.079459  0.653216  Iris-setosa\n",
       "2 -2.360044  0.317414  Iris-setosa\n",
       "3 -2.296504  0.573447  Iris-setosa\n",
       "4 -2.380802 -0.672514  Iris-setosa"
      ]
     },
     "execution_count": 23,
     "metadata": {},
     "output_type": "execute_result"
    }
   ],
   "source": [
    "\n",
    "#add the species column to the transformed data\n",
    "transformed_data['species'] = iris['species']\n",
    "#rename the columns\n",
    "transformed_data.columns = ['PC1', 'PC2', 'species']\n",
    "transformed_data.head()"
   ]
  },
  {
   "cell_type": "code",
   "execution_count": 24,
   "metadata": {},
   "outputs": [
    {
     "data": {
      "application/vnd.plotly.v1+json": {
       "config": {
        "plotlyServerURL": "https://plot.ly"
       },
       "data": [
        {
         "hovertemplate": "species=Iris-setosa<br>PC1=%{x}<br>PC2=%{y}<extra></extra>",
         "legendgroup": "Iris-setosa",
         "marker": {
          "color": "#636efa",
          "symbol": "circle"
         },
         "mode": "markers",
         "name": "Iris-setosa",
         "orientation": "v",
         "showlegend": true,
         "type": "scatter",
         "x": [
          -2.2569806330680264,
          -2.079459118895403,
          -2.3600440815842076,
          -2.2965036600038844,
          -2.380801586452744,
          -2.0636234763372356,
          -2.437545335732414,
          -2.226383267407072,
          -2.3341380964400837,
          -2.181367969419478,
          -2.1562628748102597,
          -2.3196068551308353,
          -2.2166567155972627,
          -2.630902492463204,
          -2.184971649971556,
          -2.243947780527032,
          -2.1953957000147137,
          -2.182866358187733,
          -1.8877501541896786,
          -2.332136196957817,
          -1.9081638682820667,
          -2.1972842905143724,
          -2.7649070974164878,
          -1.8143333775427344,
          -2.220777687372727,
          -1.9504896852350972,
          -2.045211661727115,
          -2.16095425532709,
          -2.1331596796833083,
          -2.2612149138260995,
          -2.137393960441382,
          -1.8258214303602183,
          -2.5994943195862907,
          -2.429810766723819,
          -2.181367969419478,
          -2.203737172038878,
          -2.0375904017011295,
          -2.181367969419478,
          -2.4278187839226044,
          -2.1632999455855058,
          -2.2788927359286686,
          -1.8654577662786858,
          -2.549294047048907,
          -1.957720743529679,
          -2.1262496984000454,
          -2.068428165836676,
          -2.373307415918741,
          -2.390184347486405,
          -2.219346196631826,
          -2.19858869176329
         ],
         "xaxis": "x",
         "y": [
          -0.5040154042276547,
          0.6532163936125878,
          0.3174139445702812,
          0.5734466129712318,
          -0.6725144107910782,
          -1.5134782667356717,
          -0.0743137171331967,
          -0.24678717174216416,
          1.0914897701958337,
          0.44713111745010825,
          -1.0670209564555613,
          -0.158057945820097,
          0.7067504781046798,
          0.9351491453748196,
          -1.8836680489153355,
          -2.713281331410138,
          -1.50869601039751,
          -0.5125870937164427,
          -1.4263323606900673,
          -1.1541668625011638,
          -0.4290278799244602,
          -0.9492771504232258,
          -0.48788257443970146,
          -0.10639436181418549,
          -0.1616446380737181,
          0.6058628704402034,
          -0.2651261148042807,
          -0.550173363315499,
          -0.3355163976642314,
          0.3138272523166601,
          0.4823262588800838,
          -0.4437801307329555,
          -1.8223700832270726,
          -2.1780947952079592,
          0.44713111745010825,
          0.18372232364491045,
          -0.6826694201563295,
          0.44713111745010825,
          0.879223932713647,
          -0.29174956674546776,
          -0.4664291346285987,
          2.319919659188645,
          0.45230112958019253,
          -0.49573089534858394,
          -1.1675208083281134,
          0.6896070991271037,
          -1.1467907370969161,
          0.36118077548904487,
          -1.0220585614522573,
          -0.03213020609089653
         ],
         "yaxis": "y"
        },
        {
         "hovertemplate": "species=Iris-versicolor<br>PC1=%{x}<br>PC2=%{y}<extra></extra>",
         "legendgroup": "Iris-versicolor",
         "marker": {
          "color": "#EF553B",
          "symbol": "circle"
         },
         "mode": "markers",
         "name": "Iris-versicolor",
         "orientation": "v",
         "showlegend": true,
         "type": "scatter",
         "x": [
          1.1003075201339074,
          0.7300357522460632,
          1.2379622165945252,
          0.3959807105628916,
          1.0690126562396043,
          0.38317447598711585,
          0.7462151855803781,
          -0.49620106800612584,
          0.9231297967374319,
          0.004951437806511001,
          -0.1242811080932157,
          0.43726523850642507,
          0.5497921265929941,
          0.7147705184292626,
          -0.03713398067192769,
          0.8729660184742509,
          0.34684444079983356,
          0.1528803810534741,
          1.2112454242344426,
          0.15641716357819843,
          0.7357911355372203,
          0.470792483676534,
          1.2238880750440333,
          0.6272796002318267,
          0.698133985336191,
          0.8706203282158353,
          1.250034458662749,
          1.3537048101945,
          0.6599153596492511,
          -0.04712364472115762,
          0.12112841740041401,
          0.014071086600750942,
          0.23522281897532246,
          1.053163233172064,
          0.22067779715670108,
          0.43034147671378853,
          1.0459094611126531,
          1.0324195088129013,
          0.06684366736176829,
          0.27450544743658895,
          0.271425764670622,
          0.6210898309467417,
          0.3289035064578433,
          -0.37238011462140824,
          0.2819996179705916,
          0.08875577022241113,
          0.2236076766658561,
          0.5719673416930579,
          -0.4554869488039594,
          0.25140225230963775
         ],
         "xaxis": "x",
         "y": [
          -0.8602305932455345,
          -0.5966367845454196,
          -0.6127696143333727,
          1.7522985839851366,
          0.2110508626336454,
          0.5890889657221919,
          -0.7760986087667107,
          1.8426955694963787,
          -0.030229554958809288,
          1.0259640373238912,
          2.6491876525909017,
          0.05868468585817483,
          1.7666630790017082,
          0.18481516648438104,
          0.431350035919632,
          -0.508295314415275,
          0.18998517861446532,
          0.7880852970901403,
          1.6279020211284583,
          1.298752328910495,
          -0.4011265702488861,
          0.41521720613167895,
          0.9377731650868124,
          0.4154199470286844,
          0.06328192730141902,
          -0.24987151784524383,
          0.0823442389434415,
          -0.3277223658221542,
          0.22359700016797734,
          1.0536824781674134,
          1.558371689565066,
          1.5681389431383947,
          0.7733330462816449,
          0.6347747293054005,
          0.2799099686210725,
          -0.852281697154446,
          -0.5204536961576842,
          1.387817167620545,
          0.21191081393020295,
          1.325375780851682,
          1.1157038124355816,
          -0.02745067099780579,
          0.9855988837638318,
          2.0111945760598022,
          0.8510994545458433,
          0.17432454433114664,
          0.37921425640908574,
          0.15320671730802662,
          1.534324380687877,
          0.5938712220603535
         ],
         "yaxis": "y"
        },
        {
         "hovertemplate": "species=Iris-virginica<br>PC1=%{x}<br>PC2=%{y}<extra></extra>",
         "legendgroup": "Iris-virginica",
         "marker": {
          "color": "#00cc96",
          "symbol": "circle"
         },
         "mode": "markers",
         "name": "Iris-virginica",
         "orientation": "v",
         "showlegend": true,
         "type": "scatter",
         "x": [
          1.841503386454824,
          1.1493394141698114,
          2.1989827002762654,
          1.4338817648678956,
          1.8616539883077912,
          2.745000700819684,
          0.357177895625212,
          2.295316374519147,
          1.9950516902455058,
          2.2599834440788378,
          1.3613487839853144,
          1.5937254569379498,
          1.877960511134088,
          1.2489025744354723,
          1.4591731570081286,
          1.586494398643368,
          1.466367721028508,
          2.429240300935705,
          3.2980922664125516,
          1.249794060188157,
          2.033683231428679,
          0.9706633020050823,
          2.88838806680663,
          1.3247556365586117,
          1.6985504064618073,
          1.9511909902500182,
          1.1679916272545248,
          1.016376098226025,
          1.7800455428934945,
          1.8585515917769946,
          2.4273654909454194,
          2.3083492270601416,
          1.8541598177737884,
          1.1075612921933184,
          1.1934709163930415,
          2.791597292804991,
          1.574879256333901,
          1.3425467676437906,
          0.9203497204850891,
          1.8473631454731343,
          2.009425438309621,
          1.8967625274756128,
          1.1493394141698114,
          2.036486021445851,
          1.995007505982982,
          1.8642765713150005,
          1.5532882304845772,
          1.5157671030309867,
          1.3717955477933022,
          0.9560955664216312
         ],
         "xaxis": "x",
         "y": [
          -0.8687861472648281,
          0.6989844508456439,
          -0.5526187805513846,
          0.04984354176175781,
          -0.29022053593581004,
          -0.785799704159686,
          1.5548855724936503,
          -0.4081493568630624,
          0.7214484398463699,
          -1.9150274710792838,
          -0.6916310114999058,
          0.42681895265674047,
          -0.41294933920331206,
          1.1634935235781543,
          0.44266460183497736,
          -0.674774813132047,
          -0.2523470857270367,
          -2.5482205652701344,
          0.0023534358727206146,
          1.711848990712364,
          -0.9043690444867274,
          0.5692672779658179,
          -0.396463170625288,
          0.4851352934869938,
          -1.01076227706927,
          -0.9999844743063193,
          0.3178318510081116,
          -0.0653241212065792,
          0.19262747985881684,
          -0.5535271640262079,
          -0.24583091161934648,
          -2.6174152840455447,
          0.18405579037002875,
          0.2949978322175511,
          0.8144392944236984,
          -0.8419276577178643,
          -1.068893603004606,
          -0.42084609229046027,
          -0.01916616211873522,
          -0.6701775716888029,
          -0.6083589783176402,
          -0.6837342584127579,
          0.6989844508456439,
          -0.8617977776525041,
          -1.0450490350244221,
          -0.3815436309239634,
          0.9022908430471198,
          -0.26590377245099167,
          -1.0129683903434332,
          0.022209540630947277
         ],
         "yaxis": "y"
        }
       ],
       "layout": {
        "legend": {
         "title": {
          "text": "species"
         },
         "tracegroupgap": 0
        },
        "template": {
         "data": {
          "bar": [
           {
            "error_x": {
             "color": "#2a3f5f"
            },
            "error_y": {
             "color": "#2a3f5f"
            },
            "marker": {
             "line": {
              "color": "#E5ECF6",
              "width": 0.5
             },
             "pattern": {
              "fillmode": "overlay",
              "size": 10,
              "solidity": 0.2
             }
            },
            "type": "bar"
           }
          ],
          "barpolar": [
           {
            "marker": {
             "line": {
              "color": "#E5ECF6",
              "width": 0.5
             },
             "pattern": {
              "fillmode": "overlay",
              "size": 10,
              "solidity": 0.2
             }
            },
            "type": "barpolar"
           }
          ],
          "carpet": [
           {
            "aaxis": {
             "endlinecolor": "#2a3f5f",
             "gridcolor": "white",
             "linecolor": "white",
             "minorgridcolor": "white",
             "startlinecolor": "#2a3f5f"
            },
            "baxis": {
             "endlinecolor": "#2a3f5f",
             "gridcolor": "white",
             "linecolor": "white",
             "minorgridcolor": "white",
             "startlinecolor": "#2a3f5f"
            },
            "type": "carpet"
           }
          ],
          "choropleth": [
           {
            "colorbar": {
             "outlinewidth": 0,
             "ticks": ""
            },
            "type": "choropleth"
           }
          ],
          "contour": [
           {
            "colorbar": {
             "outlinewidth": 0,
             "ticks": ""
            },
            "colorscale": [
             [
              0,
              "#0d0887"
             ],
             [
              0.1111111111111111,
              "#46039f"
             ],
             [
              0.2222222222222222,
              "#7201a8"
             ],
             [
              0.3333333333333333,
              "#9c179e"
             ],
             [
              0.4444444444444444,
              "#bd3786"
             ],
             [
              0.5555555555555556,
              "#d8576b"
             ],
             [
              0.6666666666666666,
              "#ed7953"
             ],
             [
              0.7777777777777778,
              "#fb9f3a"
             ],
             [
              0.8888888888888888,
              "#fdca26"
             ],
             [
              1,
              "#f0f921"
             ]
            ],
            "type": "contour"
           }
          ],
          "contourcarpet": [
           {
            "colorbar": {
             "outlinewidth": 0,
             "ticks": ""
            },
            "type": "contourcarpet"
           }
          ],
          "heatmap": [
           {
            "colorbar": {
             "outlinewidth": 0,
             "ticks": ""
            },
            "colorscale": [
             [
              0,
              "#0d0887"
             ],
             [
              0.1111111111111111,
              "#46039f"
             ],
             [
              0.2222222222222222,
              "#7201a8"
             ],
             [
              0.3333333333333333,
              "#9c179e"
             ],
             [
              0.4444444444444444,
              "#bd3786"
             ],
             [
              0.5555555555555556,
              "#d8576b"
             ],
             [
              0.6666666666666666,
              "#ed7953"
             ],
             [
              0.7777777777777778,
              "#fb9f3a"
             ],
             [
              0.8888888888888888,
              "#fdca26"
             ],
             [
              1,
              "#f0f921"
             ]
            ],
            "type": "heatmap"
           }
          ],
          "heatmapgl": [
           {
            "colorbar": {
             "outlinewidth": 0,
             "ticks": ""
            },
            "colorscale": [
             [
              0,
              "#0d0887"
             ],
             [
              0.1111111111111111,
              "#46039f"
             ],
             [
              0.2222222222222222,
              "#7201a8"
             ],
             [
              0.3333333333333333,
              "#9c179e"
             ],
             [
              0.4444444444444444,
              "#bd3786"
             ],
             [
              0.5555555555555556,
              "#d8576b"
             ],
             [
              0.6666666666666666,
              "#ed7953"
             ],
             [
              0.7777777777777778,
              "#fb9f3a"
             ],
             [
              0.8888888888888888,
              "#fdca26"
             ],
             [
              1,
              "#f0f921"
             ]
            ],
            "type": "heatmapgl"
           }
          ],
          "histogram": [
           {
            "marker": {
             "pattern": {
              "fillmode": "overlay",
              "size": 10,
              "solidity": 0.2
             }
            },
            "type": "histogram"
           }
          ],
          "histogram2d": [
           {
            "colorbar": {
             "outlinewidth": 0,
             "ticks": ""
            },
            "colorscale": [
             [
              0,
              "#0d0887"
             ],
             [
              0.1111111111111111,
              "#46039f"
             ],
             [
              0.2222222222222222,
              "#7201a8"
             ],
             [
              0.3333333333333333,
              "#9c179e"
             ],
             [
              0.4444444444444444,
              "#bd3786"
             ],
             [
              0.5555555555555556,
              "#d8576b"
             ],
             [
              0.6666666666666666,
              "#ed7953"
             ],
             [
              0.7777777777777778,
              "#fb9f3a"
             ],
             [
              0.8888888888888888,
              "#fdca26"
             ],
             [
              1,
              "#f0f921"
             ]
            ],
            "type": "histogram2d"
           }
          ],
          "histogram2dcontour": [
           {
            "colorbar": {
             "outlinewidth": 0,
             "ticks": ""
            },
            "colorscale": [
             [
              0,
              "#0d0887"
             ],
             [
              0.1111111111111111,
              "#46039f"
             ],
             [
              0.2222222222222222,
              "#7201a8"
             ],
             [
              0.3333333333333333,
              "#9c179e"
             ],
             [
              0.4444444444444444,
              "#bd3786"
             ],
             [
              0.5555555555555556,
              "#d8576b"
             ],
             [
              0.6666666666666666,
              "#ed7953"
             ],
             [
              0.7777777777777778,
              "#fb9f3a"
             ],
             [
              0.8888888888888888,
              "#fdca26"
             ],
             [
              1,
              "#f0f921"
             ]
            ],
            "type": "histogram2dcontour"
           }
          ],
          "mesh3d": [
           {
            "colorbar": {
             "outlinewidth": 0,
             "ticks": ""
            },
            "type": "mesh3d"
           }
          ],
          "parcoords": [
           {
            "line": {
             "colorbar": {
              "outlinewidth": 0,
              "ticks": ""
             }
            },
            "type": "parcoords"
           }
          ],
          "pie": [
           {
            "automargin": true,
            "type": "pie"
           }
          ],
          "scatter": [
           {
            "fillpattern": {
             "fillmode": "overlay",
             "size": 10,
             "solidity": 0.2
            },
            "type": "scatter"
           }
          ],
          "scatter3d": [
           {
            "line": {
             "colorbar": {
              "outlinewidth": 0,
              "ticks": ""
             }
            },
            "marker": {
             "colorbar": {
              "outlinewidth": 0,
              "ticks": ""
             }
            },
            "type": "scatter3d"
           }
          ],
          "scattercarpet": [
           {
            "marker": {
             "colorbar": {
              "outlinewidth": 0,
              "ticks": ""
             }
            },
            "type": "scattercarpet"
           }
          ],
          "scattergeo": [
           {
            "marker": {
             "colorbar": {
              "outlinewidth": 0,
              "ticks": ""
             }
            },
            "type": "scattergeo"
           }
          ],
          "scattergl": [
           {
            "marker": {
             "colorbar": {
              "outlinewidth": 0,
              "ticks": ""
             }
            },
            "type": "scattergl"
           }
          ],
          "scattermapbox": [
           {
            "marker": {
             "colorbar": {
              "outlinewidth": 0,
              "ticks": ""
             }
            },
            "type": "scattermapbox"
           }
          ],
          "scatterpolar": [
           {
            "marker": {
             "colorbar": {
              "outlinewidth": 0,
              "ticks": ""
             }
            },
            "type": "scatterpolar"
           }
          ],
          "scatterpolargl": [
           {
            "marker": {
             "colorbar": {
              "outlinewidth": 0,
              "ticks": ""
             }
            },
            "type": "scatterpolargl"
           }
          ],
          "scatterternary": [
           {
            "marker": {
             "colorbar": {
              "outlinewidth": 0,
              "ticks": ""
             }
            },
            "type": "scatterternary"
           }
          ],
          "surface": [
           {
            "colorbar": {
             "outlinewidth": 0,
             "ticks": ""
            },
            "colorscale": [
             [
              0,
              "#0d0887"
             ],
             [
              0.1111111111111111,
              "#46039f"
             ],
             [
              0.2222222222222222,
              "#7201a8"
             ],
             [
              0.3333333333333333,
              "#9c179e"
             ],
             [
              0.4444444444444444,
              "#bd3786"
             ],
             [
              0.5555555555555556,
              "#d8576b"
             ],
             [
              0.6666666666666666,
              "#ed7953"
             ],
             [
              0.7777777777777778,
              "#fb9f3a"
             ],
             [
              0.8888888888888888,
              "#fdca26"
             ],
             [
              1,
              "#f0f921"
             ]
            ],
            "type": "surface"
           }
          ],
          "table": [
           {
            "cells": {
             "fill": {
              "color": "#EBF0F8"
             },
             "line": {
              "color": "white"
             }
            },
            "header": {
             "fill": {
              "color": "#C8D4E3"
             },
             "line": {
              "color": "white"
             }
            },
            "type": "table"
           }
          ]
         },
         "layout": {
          "annotationdefaults": {
           "arrowcolor": "#2a3f5f",
           "arrowhead": 0,
           "arrowwidth": 1
          },
          "autotypenumbers": "strict",
          "coloraxis": {
           "colorbar": {
            "outlinewidth": 0,
            "ticks": ""
           }
          },
          "colorscale": {
           "diverging": [
            [
             0,
             "#8e0152"
            ],
            [
             0.1,
             "#c51b7d"
            ],
            [
             0.2,
             "#de77ae"
            ],
            [
             0.3,
             "#f1b6da"
            ],
            [
             0.4,
             "#fde0ef"
            ],
            [
             0.5,
             "#f7f7f7"
            ],
            [
             0.6,
             "#e6f5d0"
            ],
            [
             0.7,
             "#b8e186"
            ],
            [
             0.8,
             "#7fbc41"
            ],
            [
             0.9,
             "#4d9221"
            ],
            [
             1,
             "#276419"
            ]
           ],
           "sequential": [
            [
             0,
             "#0d0887"
            ],
            [
             0.1111111111111111,
             "#46039f"
            ],
            [
             0.2222222222222222,
             "#7201a8"
            ],
            [
             0.3333333333333333,
             "#9c179e"
            ],
            [
             0.4444444444444444,
             "#bd3786"
            ],
            [
             0.5555555555555556,
             "#d8576b"
            ],
            [
             0.6666666666666666,
             "#ed7953"
            ],
            [
             0.7777777777777778,
             "#fb9f3a"
            ],
            [
             0.8888888888888888,
             "#fdca26"
            ],
            [
             1,
             "#f0f921"
            ]
           ],
           "sequentialminus": [
            [
             0,
             "#0d0887"
            ],
            [
             0.1111111111111111,
             "#46039f"
            ],
            [
             0.2222222222222222,
             "#7201a8"
            ],
            [
             0.3333333333333333,
             "#9c179e"
            ],
            [
             0.4444444444444444,
             "#bd3786"
            ],
            [
             0.5555555555555556,
             "#d8576b"
            ],
            [
             0.6666666666666666,
             "#ed7953"
            ],
            [
             0.7777777777777778,
             "#fb9f3a"
            ],
            [
             0.8888888888888888,
             "#fdca26"
            ],
            [
             1,
             "#f0f921"
            ]
           ]
          },
          "colorway": [
           "#636efa",
           "#EF553B",
           "#00cc96",
           "#ab63fa",
           "#FFA15A",
           "#19d3f3",
           "#FF6692",
           "#B6E880",
           "#FF97FF",
           "#FECB52"
          ],
          "font": {
           "color": "#2a3f5f"
          },
          "geo": {
           "bgcolor": "white",
           "lakecolor": "white",
           "landcolor": "#E5ECF6",
           "showlakes": true,
           "showland": true,
           "subunitcolor": "white"
          },
          "hoverlabel": {
           "align": "left"
          },
          "hovermode": "closest",
          "mapbox": {
           "style": "light"
          },
          "paper_bgcolor": "white",
          "plot_bgcolor": "#E5ECF6",
          "polar": {
           "angularaxis": {
            "gridcolor": "white",
            "linecolor": "white",
            "ticks": ""
           },
           "bgcolor": "#E5ECF6",
           "radialaxis": {
            "gridcolor": "white",
            "linecolor": "white",
            "ticks": ""
           }
          },
          "scene": {
           "xaxis": {
            "backgroundcolor": "#E5ECF6",
            "gridcolor": "white",
            "gridwidth": 2,
            "linecolor": "white",
            "showbackground": true,
            "ticks": "",
            "zerolinecolor": "white"
           },
           "yaxis": {
            "backgroundcolor": "#E5ECF6",
            "gridcolor": "white",
            "gridwidth": 2,
            "linecolor": "white",
            "showbackground": true,
            "ticks": "",
            "zerolinecolor": "white"
           },
           "zaxis": {
            "backgroundcolor": "#E5ECF6",
            "gridcolor": "white",
            "gridwidth": 2,
            "linecolor": "white",
            "showbackground": true,
            "ticks": "",
            "zerolinecolor": "white"
           }
          },
          "shapedefaults": {
           "line": {
            "color": "#2a3f5f"
           }
          },
          "ternary": {
           "aaxis": {
            "gridcolor": "white",
            "linecolor": "white",
            "ticks": ""
           },
           "baxis": {
            "gridcolor": "white",
            "linecolor": "white",
            "ticks": ""
           },
           "bgcolor": "#E5ECF6",
           "caxis": {
            "gridcolor": "white",
            "linecolor": "white",
            "ticks": ""
           }
          },
          "title": {
           "x": 0.05
          },
          "xaxis": {
           "automargin": true,
           "gridcolor": "white",
           "linecolor": "white",
           "ticks": "",
           "title": {
            "standoff": 15
           },
           "zerolinecolor": "white",
           "zerolinewidth": 2
          },
          "yaxis": {
           "automargin": true,
           "gridcolor": "white",
           "linecolor": "white",
           "ticks": "",
           "title": {
            "standoff": 15
           },
           "zerolinecolor": "white",
           "zerolinewidth": 2
          }
         }
        },
        "title": {
         "text": "PCA on IRIS dataset"
        },
        "xaxis": {
         "anchor": "y",
         "domain": [
          0,
          1
         ],
         "title": {
          "text": "PC1"
         }
        },
        "yaxis": {
         "anchor": "x",
         "domain": [
          0,
          1
         ],
         "title": {
          "text": "PC2"
         }
        }
       }
      }
     },
     "metadata": {},
     "output_type": "display_data"
    }
   ],
   "source": [
    "#8. Plot the data in the new subspace.\n",
    "\n",
    "fig = px.scatter(transformed_data, x=\"PC1\", y=\"PC2\", color=\"species\", title=\"PCA on IRIS dataset\")\n",
    "fig.show()\n"
   ]
  },
  {
   "cell_type": "code",
   "execution_count": 26,
   "metadata": {},
   "outputs": [],
   "source": [
    "def PCA(iris,n_components):\n",
    "    std_iris = iris.iloc[:,0:4].apply(lambda x: (x - x.mean()) / x.std())\n",
    "    covariance_matrix = np.cov(std_iris.T)\n",
    "    eigen_values, eigen_vectors = np.linalg.eig(covariance_matrix)\n",
    "    eigen_pairs=[]\n",
    "    for i in range(len(eigen_values)):\n",
    "        eigen_pairs.append((np.abs(eigen_values[i]), eigen_vectors[:,i]))\n",
    "    eigen_pairs.sort(reverse=True)\n",
    "    eigen_pairs = eigen_pairs[0:n_components]\n",
    "    #projection matrix for n components\n",
    "    projection_matrix=np.hstack([eigen_pairs[i][1].reshape(4,1) for i in range(n_components)])\n",
    "    transformed_data = std_iris.dot(projection_matrix)\n",
    "    transformed_data['species'] = iris['species']\n",
    "    transformed_data.columns = ['PC'+str(i+1) for i in range(n_components)] + ['species']\n",
    "    return transformed_data"
   ]
  },
  {
   "cell_type": "code",
   "execution_count": 27,
   "metadata": {},
   "outputs": [
    {
     "data": {
      "application/vnd.plotly.v1+json": {
       "config": {
        "plotlyServerURL": "https://plot.ly"
       },
       "data": [
        {
         "hovertemplate": "species=Iris-setosa<br>PC1=%{x}<br>PC2=%{y}<extra></extra>",
         "legendgroup": "Iris-setosa",
         "marker": {
          "color": "#636efa",
          "symbol": "circle"
         },
         "mode": "markers",
         "name": "Iris-setosa",
         "orientation": "v",
         "showlegend": true,
         "type": "scatter",
         "x": [
          -2.2569806330680264,
          -2.079459118895403,
          -2.3600440815842076,
          -2.2965036600038844,
          -2.380801586452744,
          -2.0636234763372356,
          -2.437545335732414,
          -2.226383267407072,
          -2.3341380964400837,
          -2.181367969419478,
          -2.1562628748102597,
          -2.3196068551308353,
          -2.2166567155972627,
          -2.630902492463204,
          -2.184971649971556,
          -2.243947780527032,
          -2.1953957000147137,
          -2.182866358187733,
          -1.8877501541896786,
          -2.332136196957817,
          -1.9081638682820667,
          -2.1972842905143724,
          -2.7649070974164878,
          -1.8143333775427344,
          -2.220777687372727,
          -1.9504896852350972,
          -2.045211661727115,
          -2.16095425532709,
          -2.1331596796833083,
          -2.2612149138260995,
          -2.137393960441382,
          -1.8258214303602183,
          -2.5994943195862907,
          -2.429810766723819,
          -2.181367969419478,
          -2.203737172038878,
          -2.0375904017011295,
          -2.181367969419478,
          -2.4278187839226044,
          -2.1632999455855058,
          -2.2788927359286686,
          -1.8654577662786858,
          -2.549294047048907,
          -1.957720743529679,
          -2.1262496984000454,
          -2.068428165836676,
          -2.373307415918741,
          -2.390184347486405,
          -2.219346196631826,
          -2.19858869176329
         ],
         "xaxis": "x",
         "y": [
          -0.5040154042276547,
          0.6532163936125878,
          0.3174139445702812,
          0.5734466129712318,
          -0.6725144107910782,
          -1.5134782667356717,
          -0.0743137171331967,
          -0.24678717174216416,
          1.0914897701958337,
          0.44713111745010825,
          -1.0670209564555613,
          -0.158057945820097,
          0.7067504781046798,
          0.9351491453748196,
          -1.8836680489153355,
          -2.713281331410138,
          -1.50869601039751,
          -0.5125870937164427,
          -1.4263323606900673,
          -1.1541668625011638,
          -0.4290278799244602,
          -0.9492771504232258,
          -0.48788257443970146,
          -0.10639436181418549,
          -0.1616446380737181,
          0.6058628704402034,
          -0.2651261148042807,
          -0.550173363315499,
          -0.3355163976642314,
          0.3138272523166601,
          0.4823262588800838,
          -0.4437801307329555,
          -1.8223700832270726,
          -2.1780947952079592,
          0.44713111745010825,
          0.18372232364491045,
          -0.6826694201563295,
          0.44713111745010825,
          0.879223932713647,
          -0.29174956674546776,
          -0.4664291346285987,
          2.319919659188645,
          0.45230112958019253,
          -0.49573089534858394,
          -1.1675208083281134,
          0.6896070991271037,
          -1.1467907370969161,
          0.36118077548904487,
          -1.0220585614522573,
          -0.03213020609089653
         ],
         "yaxis": "y"
        },
        {
         "hovertemplate": "species=Iris-versicolor<br>PC1=%{x}<br>PC2=%{y}<extra></extra>",
         "legendgroup": "Iris-versicolor",
         "marker": {
          "color": "#EF553B",
          "symbol": "circle"
         },
         "mode": "markers",
         "name": "Iris-versicolor",
         "orientation": "v",
         "showlegend": true,
         "type": "scatter",
         "x": [
          1.1003075201339074,
          0.7300357522460632,
          1.2379622165945252,
          0.3959807105628916,
          1.0690126562396043,
          0.38317447598711585,
          0.7462151855803781,
          -0.49620106800612584,
          0.9231297967374319,
          0.004951437806511001,
          -0.1242811080932157,
          0.43726523850642507,
          0.5497921265929941,
          0.7147705184292626,
          -0.03713398067192769,
          0.8729660184742509,
          0.34684444079983356,
          0.1528803810534741,
          1.2112454242344426,
          0.15641716357819843,
          0.7357911355372203,
          0.470792483676534,
          1.2238880750440333,
          0.6272796002318267,
          0.698133985336191,
          0.8706203282158353,
          1.250034458662749,
          1.3537048101945,
          0.6599153596492511,
          -0.04712364472115762,
          0.12112841740041401,
          0.014071086600750942,
          0.23522281897532246,
          1.053163233172064,
          0.22067779715670108,
          0.43034147671378853,
          1.0459094611126531,
          1.0324195088129013,
          0.06684366736176829,
          0.27450544743658895,
          0.271425764670622,
          0.6210898309467417,
          0.3289035064578433,
          -0.37238011462140824,
          0.2819996179705916,
          0.08875577022241113,
          0.2236076766658561,
          0.5719673416930579,
          -0.4554869488039594,
          0.25140225230963775
         ],
         "xaxis": "x",
         "y": [
          -0.8602305932455345,
          -0.5966367845454196,
          -0.6127696143333727,
          1.7522985839851366,
          0.2110508626336454,
          0.5890889657221919,
          -0.7760986087667107,
          1.8426955694963787,
          -0.030229554958809288,
          1.0259640373238912,
          2.6491876525909017,
          0.05868468585817483,
          1.7666630790017082,
          0.18481516648438104,
          0.431350035919632,
          -0.508295314415275,
          0.18998517861446532,
          0.7880852970901403,
          1.6279020211284583,
          1.298752328910495,
          -0.4011265702488861,
          0.41521720613167895,
          0.9377731650868124,
          0.4154199470286844,
          0.06328192730141902,
          -0.24987151784524383,
          0.0823442389434415,
          -0.3277223658221542,
          0.22359700016797734,
          1.0536824781674134,
          1.558371689565066,
          1.5681389431383947,
          0.7733330462816449,
          0.6347747293054005,
          0.2799099686210725,
          -0.852281697154446,
          -0.5204536961576842,
          1.387817167620545,
          0.21191081393020295,
          1.325375780851682,
          1.1157038124355816,
          -0.02745067099780579,
          0.9855988837638318,
          2.0111945760598022,
          0.8510994545458433,
          0.17432454433114664,
          0.37921425640908574,
          0.15320671730802662,
          1.534324380687877,
          0.5938712220603535
         ],
         "yaxis": "y"
        },
        {
         "hovertemplate": "species=Iris-virginica<br>PC1=%{x}<br>PC2=%{y}<extra></extra>",
         "legendgroup": "Iris-virginica",
         "marker": {
          "color": "#00cc96",
          "symbol": "circle"
         },
         "mode": "markers",
         "name": "Iris-virginica",
         "orientation": "v",
         "showlegend": true,
         "type": "scatter",
         "x": [
          1.841503386454824,
          1.1493394141698114,
          2.1989827002762654,
          1.4338817648678956,
          1.8616539883077912,
          2.745000700819684,
          0.357177895625212,
          2.295316374519147,
          1.9950516902455058,
          2.2599834440788378,
          1.3613487839853144,
          1.5937254569379498,
          1.877960511134088,
          1.2489025744354723,
          1.4591731570081286,
          1.586494398643368,
          1.466367721028508,
          2.429240300935705,
          3.2980922664125516,
          1.249794060188157,
          2.033683231428679,
          0.9706633020050823,
          2.88838806680663,
          1.3247556365586117,
          1.6985504064618073,
          1.9511909902500182,
          1.1679916272545248,
          1.016376098226025,
          1.7800455428934945,
          1.8585515917769946,
          2.4273654909454194,
          2.3083492270601416,
          1.8541598177737884,
          1.1075612921933184,
          1.1934709163930415,
          2.791597292804991,
          1.574879256333901,
          1.3425467676437906,
          0.9203497204850891,
          1.8473631454731343,
          2.009425438309621,
          1.8967625274756128,
          1.1493394141698114,
          2.036486021445851,
          1.995007505982982,
          1.8642765713150005,
          1.5532882304845772,
          1.5157671030309867,
          1.3717955477933022,
          0.9560955664216312
         ],
         "xaxis": "x",
         "y": [
          -0.8687861472648281,
          0.6989844508456439,
          -0.5526187805513846,
          0.04984354176175781,
          -0.29022053593581004,
          -0.785799704159686,
          1.5548855724936503,
          -0.4081493568630624,
          0.7214484398463699,
          -1.9150274710792838,
          -0.6916310114999058,
          0.42681895265674047,
          -0.41294933920331206,
          1.1634935235781543,
          0.44266460183497736,
          -0.674774813132047,
          -0.2523470857270367,
          -2.5482205652701344,
          0.0023534358727206146,
          1.711848990712364,
          -0.9043690444867274,
          0.5692672779658179,
          -0.396463170625288,
          0.4851352934869938,
          -1.01076227706927,
          -0.9999844743063193,
          0.3178318510081116,
          -0.0653241212065792,
          0.19262747985881684,
          -0.5535271640262079,
          -0.24583091161934648,
          -2.6174152840455447,
          0.18405579037002875,
          0.2949978322175511,
          0.8144392944236984,
          -0.8419276577178643,
          -1.068893603004606,
          -0.42084609229046027,
          -0.01916616211873522,
          -0.6701775716888029,
          -0.6083589783176402,
          -0.6837342584127579,
          0.6989844508456439,
          -0.8617977776525041,
          -1.0450490350244221,
          -0.3815436309239634,
          0.9022908430471198,
          -0.26590377245099167,
          -1.0129683903434332,
          0.022209540630947277
         ],
         "yaxis": "y"
        }
       ],
       "layout": {
        "legend": {
         "title": {
          "text": "species"
         },
         "tracegroupgap": 0
        },
        "template": {
         "data": {
          "bar": [
           {
            "error_x": {
             "color": "#2a3f5f"
            },
            "error_y": {
             "color": "#2a3f5f"
            },
            "marker": {
             "line": {
              "color": "#E5ECF6",
              "width": 0.5
             },
             "pattern": {
              "fillmode": "overlay",
              "size": 10,
              "solidity": 0.2
             }
            },
            "type": "bar"
           }
          ],
          "barpolar": [
           {
            "marker": {
             "line": {
              "color": "#E5ECF6",
              "width": 0.5
             },
             "pattern": {
              "fillmode": "overlay",
              "size": 10,
              "solidity": 0.2
             }
            },
            "type": "barpolar"
           }
          ],
          "carpet": [
           {
            "aaxis": {
             "endlinecolor": "#2a3f5f",
             "gridcolor": "white",
             "linecolor": "white",
             "minorgridcolor": "white",
             "startlinecolor": "#2a3f5f"
            },
            "baxis": {
             "endlinecolor": "#2a3f5f",
             "gridcolor": "white",
             "linecolor": "white",
             "minorgridcolor": "white",
             "startlinecolor": "#2a3f5f"
            },
            "type": "carpet"
           }
          ],
          "choropleth": [
           {
            "colorbar": {
             "outlinewidth": 0,
             "ticks": ""
            },
            "type": "choropleth"
           }
          ],
          "contour": [
           {
            "colorbar": {
             "outlinewidth": 0,
             "ticks": ""
            },
            "colorscale": [
             [
              0,
              "#0d0887"
             ],
             [
              0.1111111111111111,
              "#46039f"
             ],
             [
              0.2222222222222222,
              "#7201a8"
             ],
             [
              0.3333333333333333,
              "#9c179e"
             ],
             [
              0.4444444444444444,
              "#bd3786"
             ],
             [
              0.5555555555555556,
              "#d8576b"
             ],
             [
              0.6666666666666666,
              "#ed7953"
             ],
             [
              0.7777777777777778,
              "#fb9f3a"
             ],
             [
              0.8888888888888888,
              "#fdca26"
             ],
             [
              1,
              "#f0f921"
             ]
            ],
            "type": "contour"
           }
          ],
          "contourcarpet": [
           {
            "colorbar": {
             "outlinewidth": 0,
             "ticks": ""
            },
            "type": "contourcarpet"
           }
          ],
          "heatmap": [
           {
            "colorbar": {
             "outlinewidth": 0,
             "ticks": ""
            },
            "colorscale": [
             [
              0,
              "#0d0887"
             ],
             [
              0.1111111111111111,
              "#46039f"
             ],
             [
              0.2222222222222222,
              "#7201a8"
             ],
             [
              0.3333333333333333,
              "#9c179e"
             ],
             [
              0.4444444444444444,
              "#bd3786"
             ],
             [
              0.5555555555555556,
              "#d8576b"
             ],
             [
              0.6666666666666666,
              "#ed7953"
             ],
             [
              0.7777777777777778,
              "#fb9f3a"
             ],
             [
              0.8888888888888888,
              "#fdca26"
             ],
             [
              1,
              "#f0f921"
             ]
            ],
            "type": "heatmap"
           }
          ],
          "heatmapgl": [
           {
            "colorbar": {
             "outlinewidth": 0,
             "ticks": ""
            },
            "colorscale": [
             [
              0,
              "#0d0887"
             ],
             [
              0.1111111111111111,
              "#46039f"
             ],
             [
              0.2222222222222222,
              "#7201a8"
             ],
             [
              0.3333333333333333,
              "#9c179e"
             ],
             [
              0.4444444444444444,
              "#bd3786"
             ],
             [
              0.5555555555555556,
              "#d8576b"
             ],
             [
              0.6666666666666666,
              "#ed7953"
             ],
             [
              0.7777777777777778,
              "#fb9f3a"
             ],
             [
              0.8888888888888888,
              "#fdca26"
             ],
             [
              1,
              "#f0f921"
             ]
            ],
            "type": "heatmapgl"
           }
          ],
          "histogram": [
           {
            "marker": {
             "pattern": {
              "fillmode": "overlay",
              "size": 10,
              "solidity": 0.2
             }
            },
            "type": "histogram"
           }
          ],
          "histogram2d": [
           {
            "colorbar": {
             "outlinewidth": 0,
             "ticks": ""
            },
            "colorscale": [
             [
              0,
              "#0d0887"
             ],
             [
              0.1111111111111111,
              "#46039f"
             ],
             [
              0.2222222222222222,
              "#7201a8"
             ],
             [
              0.3333333333333333,
              "#9c179e"
             ],
             [
              0.4444444444444444,
              "#bd3786"
             ],
             [
              0.5555555555555556,
              "#d8576b"
             ],
             [
              0.6666666666666666,
              "#ed7953"
             ],
             [
              0.7777777777777778,
              "#fb9f3a"
             ],
             [
              0.8888888888888888,
              "#fdca26"
             ],
             [
              1,
              "#f0f921"
             ]
            ],
            "type": "histogram2d"
           }
          ],
          "histogram2dcontour": [
           {
            "colorbar": {
             "outlinewidth": 0,
             "ticks": ""
            },
            "colorscale": [
             [
              0,
              "#0d0887"
             ],
             [
              0.1111111111111111,
              "#46039f"
             ],
             [
              0.2222222222222222,
              "#7201a8"
             ],
             [
              0.3333333333333333,
              "#9c179e"
             ],
             [
              0.4444444444444444,
              "#bd3786"
             ],
             [
              0.5555555555555556,
              "#d8576b"
             ],
             [
              0.6666666666666666,
              "#ed7953"
             ],
             [
              0.7777777777777778,
              "#fb9f3a"
             ],
             [
              0.8888888888888888,
              "#fdca26"
             ],
             [
              1,
              "#f0f921"
             ]
            ],
            "type": "histogram2dcontour"
           }
          ],
          "mesh3d": [
           {
            "colorbar": {
             "outlinewidth": 0,
             "ticks": ""
            },
            "type": "mesh3d"
           }
          ],
          "parcoords": [
           {
            "line": {
             "colorbar": {
              "outlinewidth": 0,
              "ticks": ""
             }
            },
            "type": "parcoords"
           }
          ],
          "pie": [
           {
            "automargin": true,
            "type": "pie"
           }
          ],
          "scatter": [
           {
            "fillpattern": {
             "fillmode": "overlay",
             "size": 10,
             "solidity": 0.2
            },
            "type": "scatter"
           }
          ],
          "scatter3d": [
           {
            "line": {
             "colorbar": {
              "outlinewidth": 0,
              "ticks": ""
             }
            },
            "marker": {
             "colorbar": {
              "outlinewidth": 0,
              "ticks": ""
             }
            },
            "type": "scatter3d"
           }
          ],
          "scattercarpet": [
           {
            "marker": {
             "colorbar": {
              "outlinewidth": 0,
              "ticks": ""
             }
            },
            "type": "scattercarpet"
           }
          ],
          "scattergeo": [
           {
            "marker": {
             "colorbar": {
              "outlinewidth": 0,
              "ticks": ""
             }
            },
            "type": "scattergeo"
           }
          ],
          "scattergl": [
           {
            "marker": {
             "colorbar": {
              "outlinewidth": 0,
              "ticks": ""
             }
            },
            "type": "scattergl"
           }
          ],
          "scattermapbox": [
           {
            "marker": {
             "colorbar": {
              "outlinewidth": 0,
              "ticks": ""
             }
            },
            "type": "scattermapbox"
           }
          ],
          "scatterpolar": [
           {
            "marker": {
             "colorbar": {
              "outlinewidth": 0,
              "ticks": ""
             }
            },
            "type": "scatterpolar"
           }
          ],
          "scatterpolargl": [
           {
            "marker": {
             "colorbar": {
              "outlinewidth": 0,
              "ticks": ""
             }
            },
            "type": "scatterpolargl"
           }
          ],
          "scatterternary": [
           {
            "marker": {
             "colorbar": {
              "outlinewidth": 0,
              "ticks": ""
             }
            },
            "type": "scatterternary"
           }
          ],
          "surface": [
           {
            "colorbar": {
             "outlinewidth": 0,
             "ticks": ""
            },
            "colorscale": [
             [
              0,
              "#0d0887"
             ],
             [
              0.1111111111111111,
              "#46039f"
             ],
             [
              0.2222222222222222,
              "#7201a8"
             ],
             [
              0.3333333333333333,
              "#9c179e"
             ],
             [
              0.4444444444444444,
              "#bd3786"
             ],
             [
              0.5555555555555556,
              "#d8576b"
             ],
             [
              0.6666666666666666,
              "#ed7953"
             ],
             [
              0.7777777777777778,
              "#fb9f3a"
             ],
             [
              0.8888888888888888,
              "#fdca26"
             ],
             [
              1,
              "#f0f921"
             ]
            ],
            "type": "surface"
           }
          ],
          "table": [
           {
            "cells": {
             "fill": {
              "color": "#EBF0F8"
             },
             "line": {
              "color": "white"
             }
            },
            "header": {
             "fill": {
              "color": "#C8D4E3"
             },
             "line": {
              "color": "white"
             }
            },
            "type": "table"
           }
          ]
         },
         "layout": {
          "annotationdefaults": {
           "arrowcolor": "#2a3f5f",
           "arrowhead": 0,
           "arrowwidth": 1
          },
          "autotypenumbers": "strict",
          "coloraxis": {
           "colorbar": {
            "outlinewidth": 0,
            "ticks": ""
           }
          },
          "colorscale": {
           "diverging": [
            [
             0,
             "#8e0152"
            ],
            [
             0.1,
             "#c51b7d"
            ],
            [
             0.2,
             "#de77ae"
            ],
            [
             0.3,
             "#f1b6da"
            ],
            [
             0.4,
             "#fde0ef"
            ],
            [
             0.5,
             "#f7f7f7"
            ],
            [
             0.6,
             "#e6f5d0"
            ],
            [
             0.7,
             "#b8e186"
            ],
            [
             0.8,
             "#7fbc41"
            ],
            [
             0.9,
             "#4d9221"
            ],
            [
             1,
             "#276419"
            ]
           ],
           "sequential": [
            [
             0,
             "#0d0887"
            ],
            [
             0.1111111111111111,
             "#46039f"
            ],
            [
             0.2222222222222222,
             "#7201a8"
            ],
            [
             0.3333333333333333,
             "#9c179e"
            ],
            [
             0.4444444444444444,
             "#bd3786"
            ],
            [
             0.5555555555555556,
             "#d8576b"
            ],
            [
             0.6666666666666666,
             "#ed7953"
            ],
            [
             0.7777777777777778,
             "#fb9f3a"
            ],
            [
             0.8888888888888888,
             "#fdca26"
            ],
            [
             1,
             "#f0f921"
            ]
           ],
           "sequentialminus": [
            [
             0,
             "#0d0887"
            ],
            [
             0.1111111111111111,
             "#46039f"
            ],
            [
             0.2222222222222222,
             "#7201a8"
            ],
            [
             0.3333333333333333,
             "#9c179e"
            ],
            [
             0.4444444444444444,
             "#bd3786"
            ],
            [
             0.5555555555555556,
             "#d8576b"
            ],
            [
             0.6666666666666666,
             "#ed7953"
            ],
            [
             0.7777777777777778,
             "#fb9f3a"
            ],
            [
             0.8888888888888888,
             "#fdca26"
            ],
            [
             1,
             "#f0f921"
            ]
           ]
          },
          "colorway": [
           "#636efa",
           "#EF553B",
           "#00cc96",
           "#ab63fa",
           "#FFA15A",
           "#19d3f3",
           "#FF6692",
           "#B6E880",
           "#FF97FF",
           "#FECB52"
          ],
          "font": {
           "color": "#2a3f5f"
          },
          "geo": {
           "bgcolor": "white",
           "lakecolor": "white",
           "landcolor": "#E5ECF6",
           "showlakes": true,
           "showland": true,
           "subunitcolor": "white"
          },
          "hoverlabel": {
           "align": "left"
          },
          "hovermode": "closest",
          "mapbox": {
           "style": "light"
          },
          "paper_bgcolor": "white",
          "plot_bgcolor": "#E5ECF6",
          "polar": {
           "angularaxis": {
            "gridcolor": "white",
            "linecolor": "white",
            "ticks": ""
           },
           "bgcolor": "#E5ECF6",
           "radialaxis": {
            "gridcolor": "white",
            "linecolor": "white",
            "ticks": ""
           }
          },
          "scene": {
           "xaxis": {
            "backgroundcolor": "#E5ECF6",
            "gridcolor": "white",
            "gridwidth": 2,
            "linecolor": "white",
            "showbackground": true,
            "ticks": "",
            "zerolinecolor": "white"
           },
           "yaxis": {
            "backgroundcolor": "#E5ECF6",
            "gridcolor": "white",
            "gridwidth": 2,
            "linecolor": "white",
            "showbackground": true,
            "ticks": "",
            "zerolinecolor": "white"
           },
           "zaxis": {
            "backgroundcolor": "#E5ECF6",
            "gridcolor": "white",
            "gridwidth": 2,
            "linecolor": "white",
            "showbackground": true,
            "ticks": "",
            "zerolinecolor": "white"
           }
          },
          "shapedefaults": {
           "line": {
            "color": "#2a3f5f"
           }
          },
          "ternary": {
           "aaxis": {
            "gridcolor": "white",
            "linecolor": "white",
            "ticks": ""
           },
           "baxis": {
            "gridcolor": "white",
            "linecolor": "white",
            "ticks": ""
           },
           "bgcolor": "#E5ECF6",
           "caxis": {
            "gridcolor": "white",
            "linecolor": "white",
            "ticks": ""
           }
          },
          "title": {
           "x": 0.05
          },
          "xaxis": {
           "automargin": true,
           "gridcolor": "white",
           "linecolor": "white",
           "ticks": "",
           "title": {
            "standoff": 15
           },
           "zerolinecolor": "white",
           "zerolinewidth": 2
          },
          "yaxis": {
           "automargin": true,
           "gridcolor": "white",
           "linecolor": "white",
           "ticks": "",
           "title": {
            "standoff": 15
           },
           "zerolinecolor": "white",
           "zerolinewidth": 2
          }
         }
        },
        "title": {
         "text": "PCA on IRIS dataset"
        },
        "xaxis": {
         "anchor": "y",
         "domain": [
          0,
          1
         ],
         "title": {
          "text": "PC1"
         }
        },
        "yaxis": {
         "anchor": "x",
         "domain": [
          0,
          1
         ],
         "title": {
          "text": "PC2"
         }
        }
       }
      }
     },
     "metadata": {},
     "output_type": "display_data"
    }
   ],
   "source": [
    "#for 2 components\n",
    "transformed_data = PCA(iris,2)\n",
    "fig = px.scatter(transformed_data, x=\"PC1\", y=\"PC2\", color=\"species\", title=\"PCA on IRIS dataset\")\n",
    "fig.show()"
   ]
  },
  {
   "cell_type": "code",
   "execution_count": 28,
   "metadata": {},
   "outputs": [
    {
     "data": {
      "application/vnd.plotly.v1+json": {
       "config": {
        "plotlyServerURL": "https://plot.ly"
       },
       "data": [
        {
         "hovertemplate": "species=Iris-setosa<br>PC1=%{x}<br>PC2=%{y}<br>PC3=%{z}<extra></extra>",
         "legendgroup": "Iris-setosa",
         "marker": {
          "color": "#636efa",
          "symbol": "circle"
         },
         "mode": "markers",
         "name": "Iris-setosa",
         "scene": "scene",
         "showlegend": true,
         "type": "scatter3d",
         "x": [
          -2.2569806330680264,
          -2.079459118895403,
          -2.3600440815842076,
          -2.2965036600038844,
          -2.380801586452744,
          -2.0636234763372356,
          -2.437545335732414,
          -2.226383267407072,
          -2.3341380964400837,
          -2.181367969419478,
          -2.1562628748102597,
          -2.3196068551308353,
          -2.2166567155972627,
          -2.630902492463204,
          -2.184971649971556,
          -2.243947780527032,
          -2.1953957000147137,
          -2.182866358187733,
          -1.8877501541896786,
          -2.332136196957817,
          -1.9081638682820667,
          -2.1972842905143724,
          -2.7649070974164878,
          -1.8143333775427344,
          -2.220777687372727,
          -1.9504896852350972,
          -2.045211661727115,
          -2.16095425532709,
          -2.1331596796833083,
          -2.2612149138260995,
          -2.137393960441382,
          -1.8258214303602183,
          -2.5994943195862907,
          -2.429810766723819,
          -2.181367969419478,
          -2.203737172038878,
          -2.0375904017011295,
          -2.181367969419478,
          -2.4278187839226044,
          -2.1632999455855058,
          -2.2788927359286686,
          -1.8654577662786858,
          -2.549294047048907,
          -1.957720743529679,
          -2.1262496984000454,
          -2.068428165836676,
          -2.373307415918741,
          -2.390184347486405,
          -2.219346196631826,
          -2.19858869176329
         ],
         "y": [
          -0.5040154042276547,
          0.6532163936125878,
          0.3174139445702812,
          0.5734466129712318,
          -0.6725144107910782,
          -1.5134782667356717,
          -0.0743137171331967,
          -0.24678717174216416,
          1.0914897701958337,
          0.44713111745010825,
          -1.0670209564555613,
          -0.158057945820097,
          0.7067504781046798,
          0.9351491453748196,
          -1.8836680489153355,
          -2.713281331410138,
          -1.50869601039751,
          -0.5125870937164427,
          -1.4263323606900673,
          -1.1541668625011638,
          -0.4290278799244602,
          -0.9492771504232258,
          -0.48788257443970146,
          -0.10639436181418549,
          -0.1616446380737181,
          0.6058628704402034,
          -0.2651261148042807,
          -0.550173363315499,
          -0.3355163976642314,
          0.3138272523166601,
          0.4823262588800838,
          -0.4437801307329555,
          -1.8223700832270726,
          -2.1780947952079592,
          0.44713111745010825,
          0.18372232364491045,
          -0.6826694201563295,
          0.44713111745010825,
          0.879223932713647,
          -0.29174956674546776,
          -0.4664291346285987,
          2.319919659188645,
          0.45230112958019253,
          -0.49573089534858394,
          -1.1675208083281134,
          0.6896070991271037,
          -1.1467907370969161,
          0.36118077548904487,
          -1.0220585614522573,
          -0.03213020609089653
         ],
         "z": [
          -0.12153619022511031,
          -0.22649206289399482,
          0.051307737944256915,
          0.09853035855950765,
          0.02135630336779393,
          0.030581806381083262,
          0.3410550699648756,
          -0.08229875595741809,
          0.15304966805221953,
          -0.24573628295382383,
          -0.2631278704743436,
          0.09983117190317914,
          -0.22246922138124575,
          0.1889370733586811,
          -0.46791254403394084,
          0.03249493559833277,
          -0.00135893900914647,
          -0.03848666098133893,
          -0.36950495796863236,
          0.1369588938753725,
          -0.4146178662883831,
          0.1641883002827595,
          0.33770504100364385,
          0.03992771087610653,
          0.12378673094585135,
          -0.2975940609553994,
          0.09178548887768206,
          -0.2006233746340732,
          -0.26442868381801554,
          0.07526329698692924,
          -0.06762919660597488,
          -0.26448918049595516,
          0.0512478331404635,
          -0.07908481339649709,
          -0.24573628295382383,
          -0.21789456067285962,
          -0.4778108595987475,
          -0.24573628295382383,
          0.20088460454104695,
          -0.16937112671393761,
          0.040600523427623186,
          -0.1938790968263943,
          0.3125248502138164,
          0.3137046702016094,
          0.2519491685093735,
          -0.05637016289370314,
          0.061894550979158525,
          0.14636529504833473,
          -0.1760554997178232,
          -0.14610406514136032
         ]
        },
        {
         "hovertemplate": "species=Iris-versicolor<br>PC1=%{x}<br>PC2=%{y}<br>PC3=%{z}<extra></extra>",
         "legendgroup": "Iris-versicolor",
         "marker": {
          "color": "#EF553B",
          "symbol": "circle"
         },
         "mode": "markers",
         "name": "Iris-versicolor",
         "scene": "scene",
         "showlegend": true,
         "type": "scatter3d",
         "x": [
          1.1003075201339074,
          0.7300357522460632,
          1.2379622165945252,
          0.3959807105628916,
          1.0690126562396043,
          0.38317447598711585,
          0.7462151855803781,
          -0.49620106800612584,
          0.9231297967374319,
          0.004951437806511001,
          -0.1242811080932157,
          0.43726523850642507,
          0.5497921265929941,
          0.7147705184292626,
          -0.03713398067192769,
          0.8729660184742509,
          0.34684444079983356,
          0.1528803810534741,
          1.2112454242344426,
          0.15641716357819843,
          0.7357911355372203,
          0.470792483676534,
          1.2238880750440333,
          0.6272796002318267,
          0.698133985336191,
          0.8706203282158353,
          1.250034458662749,
          1.3537048101945,
          0.6599153596492511,
          -0.04712364472115762,
          0.12112841740041401,
          0.014071086600750942,
          0.23522281897532246,
          1.053163233172064,
          0.22067779715670108,
          0.43034147671378853,
          1.0459094611126531,
          1.0324195088129013,
          0.06684366736176829,
          0.27450544743658895,
          0.271425764670622,
          0.6210898309467417,
          0.3289035064578433,
          -0.37238011462140824,
          0.2819996179705916,
          0.08875577022241113,
          0.2236076766658561,
          0.5719673416930579,
          -0.4554869488039594,
          0.25140225230963775
         ],
         "y": [
          -0.8602305932455345,
          -0.5966367845454196,
          -0.6127696143333727,
          1.7522985839851366,
          0.2110508626336454,
          0.5890889657221919,
          -0.7760986087667107,
          1.8426955694963787,
          -0.030229554958809288,
          1.0259640373238912,
          2.6491876525909017,
          0.05868468585817483,
          1.7666630790017082,
          0.18481516648438104,
          0.431350035919632,
          -0.508295314415275,
          0.18998517861446532,
          0.7880852970901403,
          1.6279020211284583,
          1.298752328910495,
          -0.4011265702488861,
          0.41521720613167895,
          0.9377731650868124,
          0.4154199470286844,
          0.06328192730141902,
          -0.24987151784524383,
          0.0823442389434415,
          -0.3277223658221542,
          0.22359700016797734,
          1.0536824781674134,
          1.558371689565066,
          1.5681389431383947,
          0.7733330462816449,
          0.6347747293054005,
          0.2799099686210725,
          -0.852281697154446,
          -0.5204536961576842,
          1.387817167620545,
          0.21191081393020295,
          1.325375780851682,
          1.1157038124355816,
          -0.02745067099780579,
          0.9855988837638318,
          2.0111945760598022,
          0.8510994545458433,
          0.17432454433114664,
          0.37921425640908574,
          0.15320671730802662,
          1.534324380687877,
          0.5938712220603535
         ],
         "z": [
          -0.6832661027134908,
          -0.09375272162571559,
          -0.55299395285447,
          -0.018507480569828975,
          -0.3961203973802167,
          0.12637432383684188,
          0.14815967390607546,
          0.25470197464145855,
          -0.5934717037878942,
          0.5410544659414832,
          -0.03968051476548479,
          0.20601332744144185,
          -0.7588380449201266,
          -0.06707513441396616,
          0.1974001403017301,
          -0.5018246723229884,
          0.4911859987536743,
          -0.2976075028776059,
          -0.4778092084765227,
          -0.168023850488679,
          0.6147132789308699,
          -0.2618410909270241,
          -0.3654804653336586,
          -0.2889943157378935,
          -0.4432825213175274,
          -0.4705724244028529,
          -0.7244166661984326,
          -0.26058508934271474,
          0.08707639289120984,
          -0.3142663730428157,
          -0.1447567889161017,
          -0.23579150450743047,
          -0.14747881708517813,
          0.10639679454755656,
          0.6653307402667133,
          0.4492265363169048,
          -0.3948195840365449,
          -0.6831457012317579,
          0.293146194875902,
          0.09313276510294057,
          0.09784410408578366,
          -0.01924019792513886,
          -0.19531375357400546,
          0.11180948104855429,
          0.13367101271430543,
          0.13100948122316775,
          0.15823888763055435,
          -0.2691377798044874,
          0.19547132616590343,
          0.09443357844661213
         ]
        },
        {
         "hovertemplate": "species=Iris-virginica<br>PC1=%{x}<br>PC2=%{y}<br>PC3=%{z}<extra></extra>",
         "legendgroup": "Iris-virginica",
         "marker": {
          "color": "#00cc96",
          "symbol": "circle"
         },
         "mode": "markers",
         "name": "Iris-virginica",
         "scene": "scene",
         "showlegend": true,
         "type": "scatter3d",
         "x": [
          1.841503386454824,
          1.1493394141698114,
          2.1989827002762654,
          1.4338817648678956,
          1.8616539883077912,
          2.745000700819684,
          0.357177895625212,
          2.295316374519147,
          1.9950516902455058,
          2.2599834440788378,
          1.3613487839853144,
          1.5937254569379498,
          1.877960511134088,
          1.2489025744354723,
          1.4591731570081286,
          1.586494398643368,
          1.466367721028508,
          2.429240300935705,
          3.2980922664125516,
          1.249794060188157,
          2.033683231428679,
          0.9706633020050823,
          2.88838806680663,
          1.3247556365586117,
          1.6985504064618073,
          1.9511909902500182,
          1.1679916272545248,
          1.016376098226025,
          1.7800455428934945,
          1.8585515917769946,
          2.4273654909454194,
          2.3083492270601416,
          1.8541598177737884,
          1.1075612921933184,
          1.1934709163930415,
          2.791597292804991,
          1.574879256333901,
          1.3425467676437906,
          0.9203497204850891,
          1.8473631454731343,
          2.009425438309621,
          1.8967625274756128,
          1.1493394141698114,
          2.036486021445851,
          1.995007505982982,
          1.8642765713150005,
          1.5532882304845772,
          1.5157671030309867,
          1.3717955477933022,
          0.9560955664216312
         ],
         "y": [
          -0.8687861472648281,
          0.6989844508456439,
          -0.5526187805513846,
          0.04984354176175781,
          -0.29022053593581004,
          -0.785799704159686,
          1.5548855724936503,
          -0.4081493568630624,
          0.7214484398463699,
          -1.9150274710792838,
          -0.6916310114999058,
          0.42681895265674047,
          -0.41294933920331206,
          1.1634935235781543,
          0.44266460183497736,
          -0.674774813132047,
          -0.2523470857270367,
          -2.5482205652701344,
          0.0023534358727206146,
          1.711848990712364,
          -0.9043690444867274,
          0.5692672779658179,
          -0.396463170625288,
          0.4851352934869938,
          -1.01076227706927,
          -0.9999844743063193,
          0.3178318510081116,
          -0.0653241212065792,
          0.19262747985881684,
          -0.5535271640262079,
          -0.24583091161934648,
          -2.6174152840455447,
          0.18405579037002875,
          0.2949978322175511,
          0.8144392944236984,
          -0.8419276577178643,
          -1.068893603004606,
          -0.42084609229046027,
          -0.01916616211873522,
          -0.6701775716888029,
          -0.6083589783176402,
          -0.6837342584127579,
          0.6989844508456439,
          -0.8617977776525041,
          -1.0450490350244221,
          -0.3815436309239634,
          0.9022908430471198,
          -0.26590377245099167,
          -1.0129683903434332,
          0.022209540630947277
         ],
         "z": [
          0.9994128596182638,
          0.5296901237919102,
          -0.20480977826569138,
          0.16284491817609614,
          0.39268878916964134,
          -0.5842753276153886,
          0.9876910383549317,
          -0.6519824849562004,
          -0.3927546835004074,
          0.3912070776662967,
          0.28233367192196596,
          0.023226271947905535,
          0.024466588613638124,
          0.5801865917718741,
          1.0007578928471512,
          0.6345250031049142,
          0.03653511315188368,
          -0.13375200008950253,
          -0.704573572187233,
          -0.26373853522569574,
          0.23110389471254475,
          0.8267341446899911,
          -0.8580522869408925,
          -0.004691631929575056,
          0.29496970057442673,
          -0.42140530473319865,
          0.13021567531577155,
          0.33691347809261885,
          0.269101012314505,
          -0.7151149815886256,
          -0.7277958220004491,
          -0.49795135913275745,
          0.35215054155827646,
          -0.18204972412938977,
          -0.1626688257951034,
          -0.5451745716221537,
          0.9402427078206474,
          0.17942760674478792,
          0.4160006625015809,
          -0.014770845654054869,
          0.4244928562854137,
          0.12737265379081528,
          0.5296901237919102,
          0.33414663816417983,
          0.6271678175495119,
          0.253682458815028,
          -0.025297162011016023,
          0.17867861259675394,
          0.9282951766382809,
          0.5270285923007727
         ]
        }
       ],
       "layout": {
        "legend": {
         "title": {
          "text": "species"
         },
         "tracegroupgap": 0
        },
        "scene": {
         "domain": {
          "x": [
           0,
           1
          ],
          "y": [
           0,
           1
          ]
         },
         "xaxis": {
          "title": {
           "text": "PC1"
          }
         },
         "yaxis": {
          "title": {
           "text": "PC2"
          }
         },
         "zaxis": {
          "title": {
           "text": "PC3"
          }
         }
        },
        "template": {
         "data": {
          "bar": [
           {
            "error_x": {
             "color": "#2a3f5f"
            },
            "error_y": {
             "color": "#2a3f5f"
            },
            "marker": {
             "line": {
              "color": "#E5ECF6",
              "width": 0.5
             },
             "pattern": {
              "fillmode": "overlay",
              "size": 10,
              "solidity": 0.2
             }
            },
            "type": "bar"
           }
          ],
          "barpolar": [
           {
            "marker": {
             "line": {
              "color": "#E5ECF6",
              "width": 0.5
             },
             "pattern": {
              "fillmode": "overlay",
              "size": 10,
              "solidity": 0.2
             }
            },
            "type": "barpolar"
           }
          ],
          "carpet": [
           {
            "aaxis": {
             "endlinecolor": "#2a3f5f",
             "gridcolor": "white",
             "linecolor": "white",
             "minorgridcolor": "white",
             "startlinecolor": "#2a3f5f"
            },
            "baxis": {
             "endlinecolor": "#2a3f5f",
             "gridcolor": "white",
             "linecolor": "white",
             "minorgridcolor": "white",
             "startlinecolor": "#2a3f5f"
            },
            "type": "carpet"
           }
          ],
          "choropleth": [
           {
            "colorbar": {
             "outlinewidth": 0,
             "ticks": ""
            },
            "type": "choropleth"
           }
          ],
          "contour": [
           {
            "colorbar": {
             "outlinewidth": 0,
             "ticks": ""
            },
            "colorscale": [
             [
              0,
              "#0d0887"
             ],
             [
              0.1111111111111111,
              "#46039f"
             ],
             [
              0.2222222222222222,
              "#7201a8"
             ],
             [
              0.3333333333333333,
              "#9c179e"
             ],
             [
              0.4444444444444444,
              "#bd3786"
             ],
             [
              0.5555555555555556,
              "#d8576b"
             ],
             [
              0.6666666666666666,
              "#ed7953"
             ],
             [
              0.7777777777777778,
              "#fb9f3a"
             ],
             [
              0.8888888888888888,
              "#fdca26"
             ],
             [
              1,
              "#f0f921"
             ]
            ],
            "type": "contour"
           }
          ],
          "contourcarpet": [
           {
            "colorbar": {
             "outlinewidth": 0,
             "ticks": ""
            },
            "type": "contourcarpet"
           }
          ],
          "heatmap": [
           {
            "colorbar": {
             "outlinewidth": 0,
             "ticks": ""
            },
            "colorscale": [
             [
              0,
              "#0d0887"
             ],
             [
              0.1111111111111111,
              "#46039f"
             ],
             [
              0.2222222222222222,
              "#7201a8"
             ],
             [
              0.3333333333333333,
              "#9c179e"
             ],
             [
              0.4444444444444444,
              "#bd3786"
             ],
             [
              0.5555555555555556,
              "#d8576b"
             ],
             [
              0.6666666666666666,
              "#ed7953"
             ],
             [
              0.7777777777777778,
              "#fb9f3a"
             ],
             [
              0.8888888888888888,
              "#fdca26"
             ],
             [
              1,
              "#f0f921"
             ]
            ],
            "type": "heatmap"
           }
          ],
          "heatmapgl": [
           {
            "colorbar": {
             "outlinewidth": 0,
             "ticks": ""
            },
            "colorscale": [
             [
              0,
              "#0d0887"
             ],
             [
              0.1111111111111111,
              "#46039f"
             ],
             [
              0.2222222222222222,
              "#7201a8"
             ],
             [
              0.3333333333333333,
              "#9c179e"
             ],
             [
              0.4444444444444444,
              "#bd3786"
             ],
             [
              0.5555555555555556,
              "#d8576b"
             ],
             [
              0.6666666666666666,
              "#ed7953"
             ],
             [
              0.7777777777777778,
              "#fb9f3a"
             ],
             [
              0.8888888888888888,
              "#fdca26"
             ],
             [
              1,
              "#f0f921"
             ]
            ],
            "type": "heatmapgl"
           }
          ],
          "histogram": [
           {
            "marker": {
             "pattern": {
              "fillmode": "overlay",
              "size": 10,
              "solidity": 0.2
             }
            },
            "type": "histogram"
           }
          ],
          "histogram2d": [
           {
            "colorbar": {
             "outlinewidth": 0,
             "ticks": ""
            },
            "colorscale": [
             [
              0,
              "#0d0887"
             ],
             [
              0.1111111111111111,
              "#46039f"
             ],
             [
              0.2222222222222222,
              "#7201a8"
             ],
             [
              0.3333333333333333,
              "#9c179e"
             ],
             [
              0.4444444444444444,
              "#bd3786"
             ],
             [
              0.5555555555555556,
              "#d8576b"
             ],
             [
              0.6666666666666666,
              "#ed7953"
             ],
             [
              0.7777777777777778,
              "#fb9f3a"
             ],
             [
              0.8888888888888888,
              "#fdca26"
             ],
             [
              1,
              "#f0f921"
             ]
            ],
            "type": "histogram2d"
           }
          ],
          "histogram2dcontour": [
           {
            "colorbar": {
             "outlinewidth": 0,
             "ticks": ""
            },
            "colorscale": [
             [
              0,
              "#0d0887"
             ],
             [
              0.1111111111111111,
              "#46039f"
             ],
             [
              0.2222222222222222,
              "#7201a8"
             ],
             [
              0.3333333333333333,
              "#9c179e"
             ],
             [
              0.4444444444444444,
              "#bd3786"
             ],
             [
              0.5555555555555556,
              "#d8576b"
             ],
             [
              0.6666666666666666,
              "#ed7953"
             ],
             [
              0.7777777777777778,
              "#fb9f3a"
             ],
             [
              0.8888888888888888,
              "#fdca26"
             ],
             [
              1,
              "#f0f921"
             ]
            ],
            "type": "histogram2dcontour"
           }
          ],
          "mesh3d": [
           {
            "colorbar": {
             "outlinewidth": 0,
             "ticks": ""
            },
            "type": "mesh3d"
           }
          ],
          "parcoords": [
           {
            "line": {
             "colorbar": {
              "outlinewidth": 0,
              "ticks": ""
             }
            },
            "type": "parcoords"
           }
          ],
          "pie": [
           {
            "automargin": true,
            "type": "pie"
           }
          ],
          "scatter": [
           {
            "fillpattern": {
             "fillmode": "overlay",
             "size": 10,
             "solidity": 0.2
            },
            "type": "scatter"
           }
          ],
          "scatter3d": [
           {
            "line": {
             "colorbar": {
              "outlinewidth": 0,
              "ticks": ""
             }
            },
            "marker": {
             "colorbar": {
              "outlinewidth": 0,
              "ticks": ""
             }
            },
            "type": "scatter3d"
           }
          ],
          "scattercarpet": [
           {
            "marker": {
             "colorbar": {
              "outlinewidth": 0,
              "ticks": ""
             }
            },
            "type": "scattercarpet"
           }
          ],
          "scattergeo": [
           {
            "marker": {
             "colorbar": {
              "outlinewidth": 0,
              "ticks": ""
             }
            },
            "type": "scattergeo"
           }
          ],
          "scattergl": [
           {
            "marker": {
             "colorbar": {
              "outlinewidth": 0,
              "ticks": ""
             }
            },
            "type": "scattergl"
           }
          ],
          "scattermapbox": [
           {
            "marker": {
             "colorbar": {
              "outlinewidth": 0,
              "ticks": ""
             }
            },
            "type": "scattermapbox"
           }
          ],
          "scatterpolar": [
           {
            "marker": {
             "colorbar": {
              "outlinewidth": 0,
              "ticks": ""
             }
            },
            "type": "scatterpolar"
           }
          ],
          "scatterpolargl": [
           {
            "marker": {
             "colorbar": {
              "outlinewidth": 0,
              "ticks": ""
             }
            },
            "type": "scatterpolargl"
           }
          ],
          "scatterternary": [
           {
            "marker": {
             "colorbar": {
              "outlinewidth": 0,
              "ticks": ""
             }
            },
            "type": "scatterternary"
           }
          ],
          "surface": [
           {
            "colorbar": {
             "outlinewidth": 0,
             "ticks": ""
            },
            "colorscale": [
             [
              0,
              "#0d0887"
             ],
             [
              0.1111111111111111,
              "#46039f"
             ],
             [
              0.2222222222222222,
              "#7201a8"
             ],
             [
              0.3333333333333333,
              "#9c179e"
             ],
             [
              0.4444444444444444,
              "#bd3786"
             ],
             [
              0.5555555555555556,
              "#d8576b"
             ],
             [
              0.6666666666666666,
              "#ed7953"
             ],
             [
              0.7777777777777778,
              "#fb9f3a"
             ],
             [
              0.8888888888888888,
              "#fdca26"
             ],
             [
              1,
              "#f0f921"
             ]
            ],
            "type": "surface"
           }
          ],
          "table": [
           {
            "cells": {
             "fill": {
              "color": "#EBF0F8"
             },
             "line": {
              "color": "white"
             }
            },
            "header": {
             "fill": {
              "color": "#C8D4E3"
             },
             "line": {
              "color": "white"
             }
            },
            "type": "table"
           }
          ]
         },
         "layout": {
          "annotationdefaults": {
           "arrowcolor": "#2a3f5f",
           "arrowhead": 0,
           "arrowwidth": 1
          },
          "autotypenumbers": "strict",
          "coloraxis": {
           "colorbar": {
            "outlinewidth": 0,
            "ticks": ""
           }
          },
          "colorscale": {
           "diverging": [
            [
             0,
             "#8e0152"
            ],
            [
             0.1,
             "#c51b7d"
            ],
            [
             0.2,
             "#de77ae"
            ],
            [
             0.3,
             "#f1b6da"
            ],
            [
             0.4,
             "#fde0ef"
            ],
            [
             0.5,
             "#f7f7f7"
            ],
            [
             0.6,
             "#e6f5d0"
            ],
            [
             0.7,
             "#b8e186"
            ],
            [
             0.8,
             "#7fbc41"
            ],
            [
             0.9,
             "#4d9221"
            ],
            [
             1,
             "#276419"
            ]
           ],
           "sequential": [
            [
             0,
             "#0d0887"
            ],
            [
             0.1111111111111111,
             "#46039f"
            ],
            [
             0.2222222222222222,
             "#7201a8"
            ],
            [
             0.3333333333333333,
             "#9c179e"
            ],
            [
             0.4444444444444444,
             "#bd3786"
            ],
            [
             0.5555555555555556,
             "#d8576b"
            ],
            [
             0.6666666666666666,
             "#ed7953"
            ],
            [
             0.7777777777777778,
             "#fb9f3a"
            ],
            [
             0.8888888888888888,
             "#fdca26"
            ],
            [
             1,
             "#f0f921"
            ]
           ],
           "sequentialminus": [
            [
             0,
             "#0d0887"
            ],
            [
             0.1111111111111111,
             "#46039f"
            ],
            [
             0.2222222222222222,
             "#7201a8"
            ],
            [
             0.3333333333333333,
             "#9c179e"
            ],
            [
             0.4444444444444444,
             "#bd3786"
            ],
            [
             0.5555555555555556,
             "#d8576b"
            ],
            [
             0.6666666666666666,
             "#ed7953"
            ],
            [
             0.7777777777777778,
             "#fb9f3a"
            ],
            [
             0.8888888888888888,
             "#fdca26"
            ],
            [
             1,
             "#f0f921"
            ]
           ]
          },
          "colorway": [
           "#636efa",
           "#EF553B",
           "#00cc96",
           "#ab63fa",
           "#FFA15A",
           "#19d3f3",
           "#FF6692",
           "#B6E880",
           "#FF97FF",
           "#FECB52"
          ],
          "font": {
           "color": "#2a3f5f"
          },
          "geo": {
           "bgcolor": "white",
           "lakecolor": "white",
           "landcolor": "#E5ECF6",
           "showlakes": true,
           "showland": true,
           "subunitcolor": "white"
          },
          "hoverlabel": {
           "align": "left"
          },
          "hovermode": "closest",
          "mapbox": {
           "style": "light"
          },
          "paper_bgcolor": "white",
          "plot_bgcolor": "#E5ECF6",
          "polar": {
           "angularaxis": {
            "gridcolor": "white",
            "linecolor": "white",
            "ticks": ""
           },
           "bgcolor": "#E5ECF6",
           "radialaxis": {
            "gridcolor": "white",
            "linecolor": "white",
            "ticks": ""
           }
          },
          "scene": {
           "xaxis": {
            "backgroundcolor": "#E5ECF6",
            "gridcolor": "white",
            "gridwidth": 2,
            "linecolor": "white",
            "showbackground": true,
            "ticks": "",
            "zerolinecolor": "white"
           },
           "yaxis": {
            "backgroundcolor": "#E5ECF6",
            "gridcolor": "white",
            "gridwidth": 2,
            "linecolor": "white",
            "showbackground": true,
            "ticks": "",
            "zerolinecolor": "white"
           },
           "zaxis": {
            "backgroundcolor": "#E5ECF6",
            "gridcolor": "white",
            "gridwidth": 2,
            "linecolor": "white",
            "showbackground": true,
            "ticks": "",
            "zerolinecolor": "white"
           }
          },
          "shapedefaults": {
           "line": {
            "color": "#2a3f5f"
           }
          },
          "ternary": {
           "aaxis": {
            "gridcolor": "white",
            "linecolor": "white",
            "ticks": ""
           },
           "baxis": {
            "gridcolor": "white",
            "linecolor": "white",
            "ticks": ""
           },
           "bgcolor": "#E5ECF6",
           "caxis": {
            "gridcolor": "white",
            "linecolor": "white",
            "ticks": ""
           }
          },
          "title": {
           "x": 0.05
          },
          "xaxis": {
           "automargin": true,
           "gridcolor": "white",
           "linecolor": "white",
           "ticks": "",
           "title": {
            "standoff": 15
           },
           "zerolinecolor": "white",
           "zerolinewidth": 2
          },
          "yaxis": {
           "automargin": true,
           "gridcolor": "white",
           "linecolor": "white",
           "ticks": "",
           "title": {
            "standoff": 15
           },
           "zerolinecolor": "white",
           "zerolinewidth": 2
          }
         }
        },
        "title": {
         "text": "PCA on IRIS dataset"
        }
       }
      }
     },
     "metadata": {},
     "output_type": "display_data"
    }
   ],
   "source": [
    "#for 3 components\n",
    "transformed_data = PCA(iris,3)\n",
    "fig = px.scatter_3d(transformed_data, x=\"PC1\", y=\"PC2\", z=\"PC3\", color=\"species\", title=\"PCA on IRIS dataset\")\n",
    "fig.show()"
   ]
  },
  {
   "cell_type": "code",
   "execution_count": 29,
   "metadata": {},
   "outputs": [
    {
     "data": {
      "application/vnd.plotly.v1+json": {
       "config": {
        "plotlyServerURL": "https://plot.ly"
       },
       "data": [
        {
         "dimensions": [
          {
           "axis": {
            "matches": true
           },
           "label": "PC1",
           "values": [
            -2.2569806330680264,
            -2.079459118895403,
            -2.3600440815842076,
            -2.2965036600038844,
            -2.380801586452744,
            -2.0636234763372356,
            -2.437545335732414,
            -2.226383267407072,
            -2.3341380964400837,
            -2.181367969419478,
            -2.1562628748102597,
            -2.3196068551308353,
            -2.2166567155972627,
            -2.630902492463204,
            -2.184971649971556,
            -2.243947780527032,
            -2.1953957000147137,
            -2.182866358187733,
            -1.8877501541896786,
            -2.332136196957817,
            -1.9081638682820667,
            -2.1972842905143724,
            -2.7649070974164878,
            -1.8143333775427344,
            -2.220777687372727,
            -1.9504896852350972,
            -2.045211661727115,
            -2.16095425532709,
            -2.1331596796833083,
            -2.2612149138260995,
            -2.137393960441382,
            -1.8258214303602183,
            -2.5994943195862907,
            -2.429810766723819,
            -2.181367969419478,
            -2.203737172038878,
            -2.0375904017011295,
            -2.181367969419478,
            -2.4278187839226044,
            -2.1632999455855058,
            -2.2788927359286686,
            -1.8654577662786858,
            -2.549294047048907,
            -1.957720743529679,
            -2.1262496984000454,
            -2.068428165836676,
            -2.373307415918741,
            -2.390184347486405,
            -2.219346196631826,
            -2.19858869176329
           ]
          },
          {
           "axis": {
            "matches": true
           },
           "label": "PC2",
           "values": [
            -0.5040154042276547,
            0.6532163936125878,
            0.3174139445702812,
            0.5734466129712318,
            -0.6725144107910782,
            -1.5134782667356717,
            -0.0743137171331967,
            -0.24678717174216416,
            1.0914897701958337,
            0.44713111745010825,
            -1.0670209564555613,
            -0.158057945820097,
            0.7067504781046798,
            0.9351491453748196,
            -1.8836680489153355,
            -2.713281331410138,
            -1.50869601039751,
            -0.5125870937164427,
            -1.4263323606900673,
            -1.1541668625011638,
            -0.4290278799244602,
            -0.9492771504232258,
            -0.48788257443970146,
            -0.10639436181418549,
            -0.1616446380737181,
            0.6058628704402034,
            -0.2651261148042807,
            -0.550173363315499,
            -0.3355163976642314,
            0.3138272523166601,
            0.4823262588800838,
            -0.4437801307329555,
            -1.8223700832270726,
            -2.1780947952079592,
            0.44713111745010825,
            0.18372232364491045,
            -0.6826694201563295,
            0.44713111745010825,
            0.879223932713647,
            -0.29174956674546776,
            -0.4664291346285987,
            2.319919659188645,
            0.45230112958019253,
            -0.49573089534858394,
            -1.1675208083281134,
            0.6896070991271037,
            -1.1467907370969161,
            0.36118077548904487,
            -1.0220585614522573,
            -0.03213020609089653
           ]
          },
          {
           "axis": {
            "matches": true
           },
           "label": "PC3",
           "values": [
            -0.12153619022511031,
            -0.22649206289399482,
            0.051307737944256915,
            0.09853035855950765,
            0.02135630336779393,
            0.030581806381083262,
            0.3410550699648756,
            -0.08229875595741809,
            0.15304966805221953,
            -0.24573628295382383,
            -0.2631278704743436,
            0.09983117190317914,
            -0.22246922138124575,
            0.1889370733586811,
            -0.46791254403394084,
            0.03249493559833277,
            -0.00135893900914647,
            -0.03848666098133893,
            -0.36950495796863236,
            0.1369588938753725,
            -0.4146178662883831,
            0.1641883002827595,
            0.33770504100364385,
            0.03992771087610653,
            0.12378673094585135,
            -0.2975940609553994,
            0.09178548887768206,
            -0.2006233746340732,
            -0.26442868381801554,
            0.07526329698692924,
            -0.06762919660597488,
            -0.26448918049595516,
            0.0512478331404635,
            -0.07908481339649709,
            -0.24573628295382383,
            -0.21789456067285962,
            -0.4778108595987475,
            -0.24573628295382383,
            0.20088460454104695,
            -0.16937112671393761,
            0.040600523427623186,
            -0.1938790968263943,
            0.3125248502138164,
            0.3137046702016094,
            0.2519491685093735,
            -0.05637016289370314,
            0.061894550979158525,
            0.14636529504833473,
            -0.1760554997178232,
            -0.14610406514136032
           ]
          },
          {
           "axis": {
            "matches": true
           },
           "label": "PC4",
           "values": [
            0.022996283762236735,
            0.1028636416372647,
            0.02773231917035458,
            -0.0660900543761722,
            -0.037272420918810986,
            0.004384087839594587,
            -0.037969365889877454,
            -0.025420002889104388,
            -0.026704366993296914,
            -0.039774056698814564,
            0.015250048597963316,
            -0.13410499422149313,
            0.0026218304402157435,
            -0.0193571699672353,
            0.192138360770588,
            0.046968355973539364,
            0.18600843542033701,
            0.09159864274068405,
            0.05932933797939807,
            -0.03969520154184028,
            0.010325632194930778,
            0.057536409899053106,
            0.017794117787525165,
            0.149843604936914,
            -0.2703232549070499,
            0.04369092006549459,
            0.06637862817260458,
            0.009229649085652613,
            0.08326498844328457,
            -0.10848594151520229,
            -0.04821723683415467,
            0.23834252394219652,
            -0.23114822466747148,
            -0.0508506746004803,
            -0.039774056698814564,
            0.16805676272134495,
            0.19496017953182843,
            -0.039774056698814564,
            -0.009927532560557662,
            0.00621944932949704,
            0.10536527741726806,
            0.2907190458736144,
            -0.06718603748545003,
            0.17495409366705286,
            -0.15271719014413537,
            0.13982654839711026,
            -0.15370364741547327,
            -0.049313219943432504,
            -0.016389403620638444,
            0.048615336468527684
           ]
          }
         ],
         "hovertemplate": "species=Iris-setosa<br>%{xaxis.title.text}=%{x}<br>%{yaxis.title.text}=%{y}<extra></extra>",
         "legendgroup": "Iris-setosa",
         "marker": {
          "color": "#636efa",
          "symbol": "circle"
         },
         "name": "Iris-setosa",
         "showlegend": true,
         "type": "splom"
        },
        {
         "dimensions": [
          {
           "axis": {
            "matches": true
           },
           "label": "PC1",
           "values": [
            1.1003075201339074,
            0.7300357522460632,
            1.2379622165945252,
            0.3959807105628916,
            1.0690126562396043,
            0.38317447598711585,
            0.7462151855803781,
            -0.49620106800612584,
            0.9231297967374319,
            0.004951437806511001,
            -0.1242811080932157,
            0.43726523850642507,
            0.5497921265929941,
            0.7147705184292626,
            -0.03713398067192769,
            0.8729660184742509,
            0.34684444079983356,
            0.1528803810534741,
            1.2112454242344426,
            0.15641716357819843,
            0.7357911355372203,
            0.470792483676534,
            1.2238880750440333,
            0.6272796002318267,
            0.698133985336191,
            0.8706203282158353,
            1.250034458662749,
            1.3537048101945,
            0.6599153596492511,
            -0.04712364472115762,
            0.12112841740041401,
            0.014071086600750942,
            0.23522281897532246,
            1.053163233172064,
            0.22067779715670108,
            0.43034147671378853,
            1.0459094611126531,
            1.0324195088129013,
            0.06684366736176829,
            0.27450544743658895,
            0.271425764670622,
            0.6210898309467417,
            0.3289035064578433,
            -0.37238011462140824,
            0.2819996179705916,
            0.08875577022241113,
            0.2236076766658561,
            0.5719673416930579,
            -0.4554869488039594,
            0.25140225230963775
           ]
          },
          {
           "axis": {
            "matches": true
           },
           "label": "PC2",
           "values": [
            -0.8602305932455345,
            -0.5966367845454196,
            -0.6127696143333727,
            1.7522985839851366,
            0.2110508626336454,
            0.5890889657221919,
            -0.7760986087667107,
            1.8426955694963787,
            -0.030229554958809288,
            1.0259640373238912,
            2.6491876525909017,
            0.05868468585817483,
            1.7666630790017082,
            0.18481516648438104,
            0.431350035919632,
            -0.508295314415275,
            0.18998517861446532,
            0.7880852970901403,
            1.6279020211284583,
            1.298752328910495,
            -0.4011265702488861,
            0.41521720613167895,
            0.9377731650868124,
            0.4154199470286844,
            0.06328192730141902,
            -0.24987151784524383,
            0.0823442389434415,
            -0.3277223658221542,
            0.22359700016797734,
            1.0536824781674134,
            1.558371689565066,
            1.5681389431383947,
            0.7733330462816449,
            0.6347747293054005,
            0.2799099686210725,
            -0.852281697154446,
            -0.5204536961576842,
            1.387817167620545,
            0.21191081393020295,
            1.325375780851682,
            1.1157038124355816,
            -0.02745067099780579,
            0.9855988837638318,
            2.0111945760598022,
            0.8510994545458433,
            0.17432454433114664,
            0.37921425640908574,
            0.15320671730802662,
            1.534324380687877,
            0.5938712220603535
           ]
          },
          {
           "axis": {
            "matches": true
           },
           "label": "PC3",
           "values": [
            -0.6832661027134908,
            -0.09375272162571559,
            -0.55299395285447,
            -0.018507480569828975,
            -0.3961203973802167,
            0.12637432383684188,
            0.14815967390607546,
            0.25470197464145855,
            -0.5934717037878942,
            0.5410544659414832,
            -0.03968051476548479,
            0.20601332744144185,
            -0.7588380449201266,
            -0.06707513441396616,
            0.1974001403017301,
            -0.5018246723229884,
            0.4911859987536743,
            -0.2976075028776059,
            -0.4778092084765227,
            -0.168023850488679,
            0.6147132789308699,
            -0.2618410909270241,
            -0.3654804653336586,
            -0.2889943157378935,
            -0.4432825213175274,
            -0.4705724244028529,
            -0.7244166661984326,
            -0.26058508934271474,
            0.08707639289120984,
            -0.3142663730428157,
            -0.1447567889161017,
            -0.23579150450743047,
            -0.14747881708517813,
            0.10639679454755656,
            0.6653307402667133,
            0.4492265363169048,
            -0.3948195840365449,
            -0.6831457012317579,
            0.293146194875902,
            0.09313276510294057,
            0.09784410408578366,
            -0.01924019792513886,
            -0.19531375357400546,
            0.11180948104855429,
            0.13367101271430543,
            0.13100948122316775,
            0.15823888763055435,
            -0.2691377798044874,
            0.19547132616590343,
            0.09443357844661213
           ]
          },
          {
           "axis": {
            "matches": true
           },
           "label": "PC4",
           "values": [
            0.03486107350324574,
            0.0044388929604551736,
            0.009641058935166438,
            0.06717281167409046,
            0.10518926813365592,
            -0.23972498067686543,
            -0.07803962653251661,
            -0.039257622769007204,
            -0.02900525006708339,
            -0.028254108957866068,
            0.016086665509007496,
            0.03971839747789664,
            0.0481922482942024,
            -0.16400623907682976,
            0.10866109669875733,
            0.10479022999544409,
            -0.19141821986346505,
            -0.20363900535041707,
            0.22745251314771373,
            -0.050244872093909355,
            -0.08416955188276762,
            0.11386326267346876,
            -0.008420139601766005,
            -0.2725817045712781,
            0.043934106181270624,
            0.10178003023928857,
            0.04069309202064186,
            0.06679003802211837,
            -0.03623115852661253,
            0.06578731626454137,
            -0.007848984954878875,
            -0.031045257038140726,
            0.024377886396848597,
            -0.18280681599438664,
            -0.25469712430066793,
            -0.11077506186039604,
            0.03717432828833463,
            0.1386640818421601,
            -0.14699859023961684,
            0.009914306749198055,
            -0.2689416522724382,
            -0.14722940464409012,
            0.007601051964109112,
            0.021011081912040395,
            -0.10651691974746427,
            -0.2293675838946483,
            -0.1321359724537548,
            -0.019344798255932535,
            0.20021264886975357,
            -0.058100633096122706
           ]
          }
         ],
         "hovertemplate": "species=Iris-versicolor<br>%{xaxis.title.text}=%{x}<br>%{yaxis.title.text}=%{y}<extra></extra>",
         "legendgroup": "Iris-versicolor",
         "marker": {
          "color": "#EF553B",
          "symbol": "circle"
         },
         "name": "Iris-versicolor",
         "showlegend": true,
         "type": "splom"
        },
        {
         "dimensions": [
          {
           "axis": {
            "matches": true
           },
           "label": "PC1",
           "values": [
            1.841503386454824,
            1.1493394141698114,
            2.1989827002762654,
            1.4338817648678956,
            1.8616539883077912,
            2.745000700819684,
            0.357177895625212,
            2.295316374519147,
            1.9950516902455058,
            2.2599834440788378,
            1.3613487839853144,
            1.5937254569379498,
            1.877960511134088,
            1.2489025744354723,
            1.4591731570081286,
            1.586494398643368,
            1.466367721028508,
            2.429240300935705,
            3.2980922664125516,
            1.249794060188157,
            2.033683231428679,
            0.9706633020050823,
            2.88838806680663,
            1.3247556365586117,
            1.6985504064618073,
            1.9511909902500182,
            1.1679916272545248,
            1.016376098226025,
            1.7800455428934945,
            1.8585515917769946,
            2.4273654909454194,
            2.3083492270601416,
            1.8541598177737884,
            1.1075612921933184,
            1.1934709163930415,
            2.791597292804991,
            1.574879256333901,
            1.3425467676437906,
            0.9203497204850891,
            1.8473631454731343,
            2.009425438309621,
            1.8967625274756128,
            1.1493394141698114,
            2.036486021445851,
            1.995007505982982,
            1.8642765713150005,
            1.5532882304845772,
            1.5157671030309867,
            1.3717955477933022,
            0.9560955664216312
           ]
          },
          {
           "axis": {
            "matches": true
           },
           "label": "PC2",
           "values": [
            -0.8687861472648281,
            0.6989844508456439,
            -0.5526187805513846,
            0.04984354176175781,
            -0.29022053593581004,
            -0.785799704159686,
            1.5548855724936503,
            -0.4081493568630624,
            0.7214484398463699,
            -1.9150274710792838,
            -0.6916310114999058,
            0.42681895265674047,
            -0.41294933920331206,
            1.1634935235781543,
            0.44266460183497736,
            -0.674774813132047,
            -0.2523470857270367,
            -2.5482205652701344,
            0.0023534358727206146,
            1.711848990712364,
            -0.9043690444867274,
            0.5692672779658179,
            -0.396463170625288,
            0.4851352934869938,
            -1.01076227706927,
            -0.9999844743063193,
            0.3178318510081116,
            -0.0653241212065792,
            0.19262747985881684,
            -0.5535271640262079,
            -0.24583091161934648,
            -2.6174152840455447,
            0.18405579037002875,
            0.2949978322175511,
            0.8144392944236984,
            -0.8419276577178643,
            -1.068893603004606,
            -0.42084609229046027,
            -0.01916616211873522,
            -0.6701775716888029,
            -0.6083589783176402,
            -0.6837342584127579,
            0.6989844508456439,
            -0.8617977776525041,
            -1.0450490350244221,
            -0.3815436309239634,
            0.9022908430471198,
            -0.26590377245099167,
            -1.0129683903434332,
            0.022209540630947277
           ]
          },
          {
           "axis": {
            "matches": true
           },
           "label": "PC3",
           "values": [
            0.9994128596182638,
            0.5296901237919102,
            -0.20480977826569138,
            0.16284491817609614,
            0.39268878916964134,
            -0.5842753276153886,
            0.9876910383549317,
            -0.6519824849562004,
            -0.3927546835004074,
            0.3912070776662967,
            0.28233367192196596,
            0.023226271947905535,
            0.024466588613638124,
            0.5801865917718741,
            1.0007578928471512,
            0.6345250031049142,
            0.03653511315188368,
            -0.13375200008950253,
            -0.704573572187233,
            -0.26373853522569574,
            0.23110389471254475,
            0.8267341446899911,
            -0.8580522869408925,
            -0.004691631929575056,
            0.29496970057442673,
            -0.42140530473319865,
            0.13021567531577155,
            0.33691347809261885,
            0.269101012314505,
            -0.7151149815886256,
            -0.7277958220004491,
            -0.49795135913275745,
            0.35215054155827646,
            -0.18204972412938977,
            -0.1626688257951034,
            -0.5451745716221537,
            0.9402427078206474,
            0.17942760674478792,
            0.4160006625015809,
            -0.014770845654054869,
            0.4244928562854137,
            0.12737265379081528,
            0.5296901237919102,
            0.33414663816417983,
            0.6271678175495119,
            0.253682458815028,
            -0.025297162011016023,
            0.17867861259675394,
            0.9282951766382809,
            0.5270285923007727
           ]
          },
          {
           "axis": {
            "matches": true
           },
           "label": "PC4",
           "values": [
            -0.050897525363904496,
            -0.040278643496248115,
            0.05910250075364267,
            -0.2349726807825079,
            -0.016725766684333242,
            -0.1005428464196487,
            -0.1325434051245503,
            -0.23642076686279204,
            -0.08471003584868839,
            0.10256370032098547,
            0.10665361870017925,
            0.05874589602498996,
            0.14580849167858093,
            0.09934885508367558,
            0.27410389893354214,
            0.19000906962654812,
            -0.15491694191256547,
            -0.2747411418173549,
            0.04660007292007489,
            -0.06285682576541766,
            0.16658198313881317,
            0.027227732372920924,
            -0.12565333514978788,
            0.14012843240868347,
            -0.06253089171773049,
            -0.21772971578317515,
            0.1252658146228218,
            -0.009038229415858157,
            0.031103100833881812,
            -0.20686375502480603,
            -0.01673752941292557,
            -0.21244869465148958,
            0.09970545981232924,
            -0.18512007077947543,
            -0.4867732637461617,
            0.2953317582317757,
            0.03349521077594476,
            -0.21518564659361308,
            0.004728405260726243,
            0.19422477832992188,
            0.24594077703768946,
            0.4676477569723735,
            -0.040278643496248115,
            0.044130357129840196,
            0.21187854419605853,
            0.38759201810243066,
            0.22058320941683746,
            0.1185060367298858,
            0.02406557336926689,
            -0.16312930764343206
           ]
          }
         ],
         "hovertemplate": "species=Iris-virginica<br>%{xaxis.title.text}=%{x}<br>%{yaxis.title.text}=%{y}<extra></extra>",
         "legendgroup": "Iris-virginica",
         "marker": {
          "color": "#00cc96",
          "symbol": "circle"
         },
         "name": "Iris-virginica",
         "showlegend": true,
         "type": "splom"
        }
       ],
       "layout": {
        "dragmode": "select",
        "legend": {
         "title": {
          "text": "species"
         },
         "tracegroupgap": 0
        },
        "template": {
         "data": {
          "bar": [
           {
            "error_x": {
             "color": "#2a3f5f"
            },
            "error_y": {
             "color": "#2a3f5f"
            },
            "marker": {
             "line": {
              "color": "#E5ECF6",
              "width": 0.5
             },
             "pattern": {
              "fillmode": "overlay",
              "size": 10,
              "solidity": 0.2
             }
            },
            "type": "bar"
           }
          ],
          "barpolar": [
           {
            "marker": {
             "line": {
              "color": "#E5ECF6",
              "width": 0.5
             },
             "pattern": {
              "fillmode": "overlay",
              "size": 10,
              "solidity": 0.2
             }
            },
            "type": "barpolar"
           }
          ],
          "carpet": [
           {
            "aaxis": {
             "endlinecolor": "#2a3f5f",
             "gridcolor": "white",
             "linecolor": "white",
             "minorgridcolor": "white",
             "startlinecolor": "#2a3f5f"
            },
            "baxis": {
             "endlinecolor": "#2a3f5f",
             "gridcolor": "white",
             "linecolor": "white",
             "minorgridcolor": "white",
             "startlinecolor": "#2a3f5f"
            },
            "type": "carpet"
           }
          ],
          "choropleth": [
           {
            "colorbar": {
             "outlinewidth": 0,
             "ticks": ""
            },
            "type": "choropleth"
           }
          ],
          "contour": [
           {
            "colorbar": {
             "outlinewidth": 0,
             "ticks": ""
            },
            "colorscale": [
             [
              0,
              "#0d0887"
             ],
             [
              0.1111111111111111,
              "#46039f"
             ],
             [
              0.2222222222222222,
              "#7201a8"
             ],
             [
              0.3333333333333333,
              "#9c179e"
             ],
             [
              0.4444444444444444,
              "#bd3786"
             ],
             [
              0.5555555555555556,
              "#d8576b"
             ],
             [
              0.6666666666666666,
              "#ed7953"
             ],
             [
              0.7777777777777778,
              "#fb9f3a"
             ],
             [
              0.8888888888888888,
              "#fdca26"
             ],
             [
              1,
              "#f0f921"
             ]
            ],
            "type": "contour"
           }
          ],
          "contourcarpet": [
           {
            "colorbar": {
             "outlinewidth": 0,
             "ticks": ""
            },
            "type": "contourcarpet"
           }
          ],
          "heatmap": [
           {
            "colorbar": {
             "outlinewidth": 0,
             "ticks": ""
            },
            "colorscale": [
             [
              0,
              "#0d0887"
             ],
             [
              0.1111111111111111,
              "#46039f"
             ],
             [
              0.2222222222222222,
              "#7201a8"
             ],
             [
              0.3333333333333333,
              "#9c179e"
             ],
             [
              0.4444444444444444,
              "#bd3786"
             ],
             [
              0.5555555555555556,
              "#d8576b"
             ],
             [
              0.6666666666666666,
              "#ed7953"
             ],
             [
              0.7777777777777778,
              "#fb9f3a"
             ],
             [
              0.8888888888888888,
              "#fdca26"
             ],
             [
              1,
              "#f0f921"
             ]
            ],
            "type": "heatmap"
           }
          ],
          "heatmapgl": [
           {
            "colorbar": {
             "outlinewidth": 0,
             "ticks": ""
            },
            "colorscale": [
             [
              0,
              "#0d0887"
             ],
             [
              0.1111111111111111,
              "#46039f"
             ],
             [
              0.2222222222222222,
              "#7201a8"
             ],
             [
              0.3333333333333333,
              "#9c179e"
             ],
             [
              0.4444444444444444,
              "#bd3786"
             ],
             [
              0.5555555555555556,
              "#d8576b"
             ],
             [
              0.6666666666666666,
              "#ed7953"
             ],
             [
              0.7777777777777778,
              "#fb9f3a"
             ],
             [
              0.8888888888888888,
              "#fdca26"
             ],
             [
              1,
              "#f0f921"
             ]
            ],
            "type": "heatmapgl"
           }
          ],
          "histogram": [
           {
            "marker": {
             "pattern": {
              "fillmode": "overlay",
              "size": 10,
              "solidity": 0.2
             }
            },
            "type": "histogram"
           }
          ],
          "histogram2d": [
           {
            "colorbar": {
             "outlinewidth": 0,
             "ticks": ""
            },
            "colorscale": [
             [
              0,
              "#0d0887"
             ],
             [
              0.1111111111111111,
              "#46039f"
             ],
             [
              0.2222222222222222,
              "#7201a8"
             ],
             [
              0.3333333333333333,
              "#9c179e"
             ],
             [
              0.4444444444444444,
              "#bd3786"
             ],
             [
              0.5555555555555556,
              "#d8576b"
             ],
             [
              0.6666666666666666,
              "#ed7953"
             ],
             [
              0.7777777777777778,
              "#fb9f3a"
             ],
             [
              0.8888888888888888,
              "#fdca26"
             ],
             [
              1,
              "#f0f921"
             ]
            ],
            "type": "histogram2d"
           }
          ],
          "histogram2dcontour": [
           {
            "colorbar": {
             "outlinewidth": 0,
             "ticks": ""
            },
            "colorscale": [
             [
              0,
              "#0d0887"
             ],
             [
              0.1111111111111111,
              "#46039f"
             ],
             [
              0.2222222222222222,
              "#7201a8"
             ],
             [
              0.3333333333333333,
              "#9c179e"
             ],
             [
              0.4444444444444444,
              "#bd3786"
             ],
             [
              0.5555555555555556,
              "#d8576b"
             ],
             [
              0.6666666666666666,
              "#ed7953"
             ],
             [
              0.7777777777777778,
              "#fb9f3a"
             ],
             [
              0.8888888888888888,
              "#fdca26"
             ],
             [
              1,
              "#f0f921"
             ]
            ],
            "type": "histogram2dcontour"
           }
          ],
          "mesh3d": [
           {
            "colorbar": {
             "outlinewidth": 0,
             "ticks": ""
            },
            "type": "mesh3d"
           }
          ],
          "parcoords": [
           {
            "line": {
             "colorbar": {
              "outlinewidth": 0,
              "ticks": ""
             }
            },
            "type": "parcoords"
           }
          ],
          "pie": [
           {
            "automargin": true,
            "type": "pie"
           }
          ],
          "scatter": [
           {
            "fillpattern": {
             "fillmode": "overlay",
             "size": 10,
             "solidity": 0.2
            },
            "type": "scatter"
           }
          ],
          "scatter3d": [
           {
            "line": {
             "colorbar": {
              "outlinewidth": 0,
              "ticks": ""
             }
            },
            "marker": {
             "colorbar": {
              "outlinewidth": 0,
              "ticks": ""
             }
            },
            "type": "scatter3d"
           }
          ],
          "scattercarpet": [
           {
            "marker": {
             "colorbar": {
              "outlinewidth": 0,
              "ticks": ""
             }
            },
            "type": "scattercarpet"
           }
          ],
          "scattergeo": [
           {
            "marker": {
             "colorbar": {
              "outlinewidth": 0,
              "ticks": ""
             }
            },
            "type": "scattergeo"
           }
          ],
          "scattergl": [
           {
            "marker": {
             "colorbar": {
              "outlinewidth": 0,
              "ticks": ""
             }
            },
            "type": "scattergl"
           }
          ],
          "scattermapbox": [
           {
            "marker": {
             "colorbar": {
              "outlinewidth": 0,
              "ticks": ""
             }
            },
            "type": "scattermapbox"
           }
          ],
          "scatterpolar": [
           {
            "marker": {
             "colorbar": {
              "outlinewidth": 0,
              "ticks": ""
             }
            },
            "type": "scatterpolar"
           }
          ],
          "scatterpolargl": [
           {
            "marker": {
             "colorbar": {
              "outlinewidth": 0,
              "ticks": ""
             }
            },
            "type": "scatterpolargl"
           }
          ],
          "scatterternary": [
           {
            "marker": {
             "colorbar": {
              "outlinewidth": 0,
              "ticks": ""
             }
            },
            "type": "scatterternary"
           }
          ],
          "surface": [
           {
            "colorbar": {
             "outlinewidth": 0,
             "ticks": ""
            },
            "colorscale": [
             [
              0,
              "#0d0887"
             ],
             [
              0.1111111111111111,
              "#46039f"
             ],
             [
              0.2222222222222222,
              "#7201a8"
             ],
             [
              0.3333333333333333,
              "#9c179e"
             ],
             [
              0.4444444444444444,
              "#bd3786"
             ],
             [
              0.5555555555555556,
              "#d8576b"
             ],
             [
              0.6666666666666666,
              "#ed7953"
             ],
             [
              0.7777777777777778,
              "#fb9f3a"
             ],
             [
              0.8888888888888888,
              "#fdca26"
             ],
             [
              1,
              "#f0f921"
             ]
            ],
            "type": "surface"
           }
          ],
          "table": [
           {
            "cells": {
             "fill": {
              "color": "#EBF0F8"
             },
             "line": {
              "color": "white"
             }
            },
            "header": {
             "fill": {
              "color": "#C8D4E3"
             },
             "line": {
              "color": "white"
             }
            },
            "type": "table"
           }
          ]
         },
         "layout": {
          "annotationdefaults": {
           "arrowcolor": "#2a3f5f",
           "arrowhead": 0,
           "arrowwidth": 1
          },
          "autotypenumbers": "strict",
          "coloraxis": {
           "colorbar": {
            "outlinewidth": 0,
            "ticks": ""
           }
          },
          "colorscale": {
           "diverging": [
            [
             0,
             "#8e0152"
            ],
            [
             0.1,
             "#c51b7d"
            ],
            [
             0.2,
             "#de77ae"
            ],
            [
             0.3,
             "#f1b6da"
            ],
            [
             0.4,
             "#fde0ef"
            ],
            [
             0.5,
             "#f7f7f7"
            ],
            [
             0.6,
             "#e6f5d0"
            ],
            [
             0.7,
             "#b8e186"
            ],
            [
             0.8,
             "#7fbc41"
            ],
            [
             0.9,
             "#4d9221"
            ],
            [
             1,
             "#276419"
            ]
           ],
           "sequential": [
            [
             0,
             "#0d0887"
            ],
            [
             0.1111111111111111,
             "#46039f"
            ],
            [
             0.2222222222222222,
             "#7201a8"
            ],
            [
             0.3333333333333333,
             "#9c179e"
            ],
            [
             0.4444444444444444,
             "#bd3786"
            ],
            [
             0.5555555555555556,
             "#d8576b"
            ],
            [
             0.6666666666666666,
             "#ed7953"
            ],
            [
             0.7777777777777778,
             "#fb9f3a"
            ],
            [
             0.8888888888888888,
             "#fdca26"
            ],
            [
             1,
             "#f0f921"
            ]
           ],
           "sequentialminus": [
            [
             0,
             "#0d0887"
            ],
            [
             0.1111111111111111,
             "#46039f"
            ],
            [
             0.2222222222222222,
             "#7201a8"
            ],
            [
             0.3333333333333333,
             "#9c179e"
            ],
            [
             0.4444444444444444,
             "#bd3786"
            ],
            [
             0.5555555555555556,
             "#d8576b"
            ],
            [
             0.6666666666666666,
             "#ed7953"
            ],
            [
             0.7777777777777778,
             "#fb9f3a"
            ],
            [
             0.8888888888888888,
             "#fdca26"
            ],
            [
             1,
             "#f0f921"
            ]
           ]
          },
          "colorway": [
           "#636efa",
           "#EF553B",
           "#00cc96",
           "#ab63fa",
           "#FFA15A",
           "#19d3f3",
           "#FF6692",
           "#B6E880",
           "#FF97FF",
           "#FECB52"
          ],
          "font": {
           "color": "#2a3f5f"
          },
          "geo": {
           "bgcolor": "white",
           "lakecolor": "white",
           "landcolor": "#E5ECF6",
           "showlakes": true,
           "showland": true,
           "subunitcolor": "white"
          },
          "hoverlabel": {
           "align": "left"
          },
          "hovermode": "closest",
          "mapbox": {
           "style": "light"
          },
          "paper_bgcolor": "white",
          "plot_bgcolor": "#E5ECF6",
          "polar": {
           "angularaxis": {
            "gridcolor": "white",
            "linecolor": "white",
            "ticks": ""
           },
           "bgcolor": "#E5ECF6",
           "radialaxis": {
            "gridcolor": "white",
            "linecolor": "white",
            "ticks": ""
           }
          },
          "scene": {
           "xaxis": {
            "backgroundcolor": "#E5ECF6",
            "gridcolor": "white",
            "gridwidth": 2,
            "linecolor": "white",
            "showbackground": true,
            "ticks": "",
            "zerolinecolor": "white"
           },
           "yaxis": {
            "backgroundcolor": "#E5ECF6",
            "gridcolor": "white",
            "gridwidth": 2,
            "linecolor": "white",
            "showbackground": true,
            "ticks": "",
            "zerolinecolor": "white"
           },
           "zaxis": {
            "backgroundcolor": "#E5ECF6",
            "gridcolor": "white",
            "gridwidth": 2,
            "linecolor": "white",
            "showbackground": true,
            "ticks": "",
            "zerolinecolor": "white"
           }
          },
          "shapedefaults": {
           "line": {
            "color": "#2a3f5f"
           }
          },
          "ternary": {
           "aaxis": {
            "gridcolor": "white",
            "linecolor": "white",
            "ticks": ""
           },
           "baxis": {
            "gridcolor": "white",
            "linecolor": "white",
            "ticks": ""
           },
           "bgcolor": "#E5ECF6",
           "caxis": {
            "gridcolor": "white",
            "linecolor": "white",
            "ticks": ""
           }
          },
          "title": {
           "x": 0.05
          },
          "xaxis": {
           "automargin": true,
           "gridcolor": "white",
           "linecolor": "white",
           "ticks": "",
           "title": {
            "standoff": 15
           },
           "zerolinecolor": "white",
           "zerolinewidth": 2
          },
          "yaxis": {
           "automargin": true,
           "gridcolor": "white",
           "linecolor": "white",
           "ticks": "",
           "title": {
            "standoff": 15
           },
           "zerolinecolor": "white",
           "zerolinewidth": 2
          }
         }
        },
        "title": {
         "text": "PCA on IRIS dataset"
        }
       }
      }
     },
     "metadata": {},
     "output_type": "display_data"
    }
   ],
   "source": [
    "#for 4 components\n",
    "transformed_data = PCA(iris,4)\n",
    "fig = px.scatter_matrix(transformed_data, dimensions=[\"PC1\", \"PC2\", \"PC3\", \"PC4\"], color=\"species\", title=\"PCA on IRIS dataset\")\n",
    "fig.show()"
   ]
  },
  {
   "attachments": {},
   "cell_type": "markdown",
   "metadata": {},
   "source": [
    "## LDA Analysis on the Iris Dataset"
   ]
  },
  {
   "cell_type": "code",
   "execution_count": 30,
   "metadata": {},
   "outputs": [],
   "source": [
    "#separate the data into features and labels\n",
    "features = iris.iloc[:,0:4]\n",
    "labels = iris.iloc[:,4]"
   ]
  },
  {
   "cell_type": "code",
   "execution_count": 31,
   "metadata": {},
   "outputs": [
    {
     "data": {
      "text/html": [
       "<div>\n",
       "<style scoped>\n",
       "    .dataframe tbody tr th:only-of-type {\n",
       "        vertical-align: middle;\n",
       "    }\n",
       "\n",
       "    .dataframe tbody tr th {\n",
       "        vertical-align: top;\n",
       "    }\n",
       "\n",
       "    .dataframe thead th {\n",
       "        text-align: right;\n",
       "    }\n",
       "</style>\n",
       "<table border=\"1\" class=\"dataframe\">\n",
       "  <thead>\n",
       "    <tr style=\"text-align: right;\">\n",
       "      <th></th>\n",
       "      <th>sepal_length</th>\n",
       "      <th>sepal_width</th>\n",
       "      <th>petal_length</th>\n",
       "      <th>petal_width</th>\n",
       "    </tr>\n",
       "  </thead>\n",
       "  <tbody>\n",
       "    <tr>\n",
       "      <th>0</th>\n",
       "      <td>-0.897674</td>\n",
       "      <td>1.028611</td>\n",
       "      <td>-1.336794</td>\n",
       "      <td>-1.308593</td>\n",
       "    </tr>\n",
       "    <tr>\n",
       "      <th>1</th>\n",
       "      <td>-1.139200</td>\n",
       "      <td>-0.124540</td>\n",
       "      <td>-1.336794</td>\n",
       "      <td>-1.308593</td>\n",
       "    </tr>\n",
       "    <tr>\n",
       "      <th>2</th>\n",
       "      <td>-1.380727</td>\n",
       "      <td>0.336720</td>\n",
       "      <td>-1.393470</td>\n",
       "      <td>-1.308593</td>\n",
       "    </tr>\n",
       "    <tr>\n",
       "      <th>3</th>\n",
       "      <td>-1.501490</td>\n",
       "      <td>0.106090</td>\n",
       "      <td>-1.280118</td>\n",
       "      <td>-1.308593</td>\n",
       "    </tr>\n",
       "    <tr>\n",
       "      <th>4</th>\n",
       "      <td>-1.018437</td>\n",
       "      <td>1.259242</td>\n",
       "      <td>-1.336794</td>\n",
       "      <td>-1.308593</td>\n",
       "    </tr>\n",
       "  </tbody>\n",
       "</table>\n",
       "</div>"
      ],
      "text/plain": [
       "   sepal_length  sepal_width  petal_length  petal_width\n",
       "0     -0.897674     1.028611     -1.336794    -1.308593\n",
       "1     -1.139200    -0.124540     -1.336794    -1.308593\n",
       "2     -1.380727     0.336720     -1.393470    -1.308593\n",
       "3     -1.501490     0.106090     -1.280118    -1.308593\n",
       "4     -1.018437     1.259242     -1.336794    -1.308593"
      ]
     },
     "execution_count": 31,
     "metadata": {},
     "output_type": "execute_result"
    }
   ],
   "source": [
    "#subtract the mean from the features and divide by the standard deviation\n",
    "std_features = features.apply(lambda x: (x - x.mean()) / x.std())\n",
    "std_features.head()"
   ]
  },
  {
   "cell_type": "code",
   "execution_count": 32,
   "metadata": {},
   "outputs": [
    {
     "data": {
      "text/plain": [
       "sepal_length   -5.684342e-16\n",
       "sepal_width    -6.158037e-16\n",
       "petal_length    1.894781e-16\n",
       "petal_width    -1.894781e-16\n",
       "dtype: float64"
      ]
     },
     "execution_count": 32,
     "metadata": {},
     "output_type": "execute_result"
    }
   ],
   "source": [
    "mean_overall = std_features.mean()\n",
    "mean_overall"
   ]
  },
  {
   "cell_type": "code",
   "execution_count": 34,
   "metadata": {},
   "outputs": [],
   "source": [
    "#calculate the within class scatter matrix and between class scatter matrix\n",
    "SW=np.zeros((4,4))\n",
    "SB=np.zeros((4,4))\n",
    "for i in labels.unique():\n",
    "    mean_class = std_features[labels==i].mean()\n",
    "    SW += np.cov(std_features[labels==i].T)\n",
    "    SB += len(std_features[labels==i])*(mean_class - mean_overall).values.reshape(4,1).dot((mean_class - mean_overall).values.reshape(1,4))"
   ]
  },
  {
   "cell_type": "code",
   "execution_count": 35,
   "metadata": {},
   "outputs": [],
   "source": [
    "#calculate the eigenvalues and eigenvectors of the matrix\n",
    "eigen_values, eigen_vectors = np.linalg.eig(np.linalg.inv(SW).dot(SB))\n",
    "\n",
    "#sort the eigenvalues in descending order\n",
    "\n",
    "eigen_pairs=[]\n",
    "for i in range(len(eigen_values)):\n",
    "    eigen_pairs.append((np.abs(eigen_values[i]), eigen_vectors[:,i]))\n",
    "eigen_pairs.sort(reverse=True, key=lambda x: x[0])"
   ]
  },
  {
   "cell_type": "code",
   "execution_count": 36,
   "metadata": {},
   "outputs": [
    {
     "data": {
      "text/plain": [
       "[(1581.325932186763,\n",
       "  array([-0.1497757 +0.j, -0.14817298+0.j,  0.85112189+0.j,  0.48083628+0.j])),\n",
       " (13.600776328162258,\n",
       "  array([ 0.0095293 +0.j,  0.32719336+0.j, -0.57482034+0.j,  0.74995684+0.j]))]"
      ]
     },
     "execution_count": 36,
     "metadata": {},
     "output_type": "execute_result"
    }
   ],
   "source": [
    "#select top k eigenvectors\n",
    "\n",
    "k=2\n",
    "eigen_pairs = eigen_pairs[0:k]\n",
    "eigen_pairs"
   ]
  },
  {
   "cell_type": "code",
   "execution_count": 37,
   "metadata": {},
   "outputs": [
    {
     "data": {
      "text/plain": [
       "array([[-0.1497757 ,  0.0095293 ],\n",
       "       [-0.14817298,  0.32719336],\n",
       "       [ 0.85112189, -0.57482034],\n",
       "       [ 0.48083628,  0.74995684]])"
      ]
     },
     "execution_count": 37,
     "metadata": {},
     "output_type": "execute_result"
    }
   ],
   "source": [
    "#projection matrix for k components\n",
    "\n",
    "projection_matrix=np.hstack([eigen_pairs[i][1].reshape(4,1) for i in range(k)]).real\n",
    "projection_matrix"
   ]
  },
  {
   "cell_type": "code",
   "execution_count": 38,
   "metadata": {},
   "outputs": [
    {
     "data": {
      "text/html": [
       "<div>\n",
       "<style scoped>\n",
       "    .dataframe tbody tr th:only-of-type {\n",
       "        vertical-align: middle;\n",
       "    }\n",
       "\n",
       "    .dataframe tbody tr th {\n",
       "        vertical-align: top;\n",
       "    }\n",
       "\n",
       "    .dataframe thead th {\n",
       "        text-align: right;\n",
       "    }\n",
       "</style>\n",
       "<table border=\"1\" class=\"dataframe\">\n",
       "  <thead>\n",
       "    <tr style=\"text-align: right;\">\n",
       "      <th></th>\n",
       "      <th>0</th>\n",
       "      <th>1</th>\n",
       "    </tr>\n",
       "  </thead>\n",
       "  <tbody>\n",
       "    <tr>\n",
       "      <th>0</th>\n",
       "      <td>-1.784956</td>\n",
       "      <td>0.115029</td>\n",
       "    </tr>\n",
       "    <tr>\n",
       "      <th>1</th>\n",
       "      <td>-1.577915</td>\n",
       "      <td>-0.264576</td>\n",
       "    </tr>\n",
       "    <tr>\n",
       "      <th>2</th>\n",
       "      <td>-1.658325</td>\n",
       "      <td>-0.083378</td>\n",
       "    </tr>\n",
       "    <tr>\n",
       "      <th>3</th>\n",
       "      <td>-1.509588</td>\n",
       "      <td>-0.225146</td>\n",
       "    </tr>\n",
       "    <tr>\n",
       "      <th>4</th>\n",
       "      <td>-1.801042</td>\n",
       "      <td>0.189339</td>\n",
       "    </tr>\n",
       "  </tbody>\n",
       "</table>\n",
       "</div>"
      ],
      "text/plain": [
       "          0         1\n",
       "0 -1.784956  0.115029\n",
       "1 -1.577915 -0.264576\n",
       "2 -1.658325 -0.083378\n",
       "3 -1.509588 -0.225146\n",
       "4 -1.801042  0.189339"
      ]
     },
     "execution_count": 38,
     "metadata": {},
     "output_type": "execute_result"
    }
   ],
   "source": [
    "#transform the data into the new subspace\n",
    "\n",
    "transformed_data = std_features.dot(projection_matrix)\n",
    "transformed_data.head()\n"
   ]
  },
  {
   "cell_type": "code",
   "execution_count": 39,
   "metadata": {},
   "outputs": [
    {
     "data": {
      "text/html": [
       "<div>\n",
       "<style scoped>\n",
       "    .dataframe tbody tr th:only-of-type {\n",
       "        vertical-align: middle;\n",
       "    }\n",
       "\n",
       "    .dataframe tbody tr th {\n",
       "        vertical-align: top;\n",
       "    }\n",
       "\n",
       "    .dataframe thead th {\n",
       "        text-align: right;\n",
       "    }\n",
       "</style>\n",
       "<table border=\"1\" class=\"dataframe\">\n",
       "  <thead>\n",
       "    <tr style=\"text-align: right;\">\n",
       "      <th></th>\n",
       "      <th>LD1</th>\n",
       "      <th>LD2</th>\n",
       "      <th>species</th>\n",
       "    </tr>\n",
       "  </thead>\n",
       "  <tbody>\n",
       "    <tr>\n",
       "      <th>0</th>\n",
       "      <td>-1.784956</td>\n",
       "      <td>0.115029</td>\n",
       "      <td>Iris-setosa</td>\n",
       "    </tr>\n",
       "    <tr>\n",
       "      <th>1</th>\n",
       "      <td>-1.577915</td>\n",
       "      <td>-0.264576</td>\n",
       "      <td>Iris-setosa</td>\n",
       "    </tr>\n",
       "    <tr>\n",
       "      <th>2</th>\n",
       "      <td>-1.658325</td>\n",
       "      <td>-0.083378</td>\n",
       "      <td>Iris-setosa</td>\n",
       "    </tr>\n",
       "    <tr>\n",
       "      <th>3</th>\n",
       "      <td>-1.509588</td>\n",
       "      <td>-0.225146</td>\n",
       "      <td>Iris-setosa</td>\n",
       "    </tr>\n",
       "    <tr>\n",
       "      <th>4</th>\n",
       "      <td>-1.801042</td>\n",
       "      <td>0.189339</td>\n",
       "      <td>Iris-setosa</td>\n",
       "    </tr>\n",
       "  </tbody>\n",
       "</table>\n",
       "</div>"
      ],
      "text/plain": [
       "        LD1       LD2      species\n",
       "0 -1.784956  0.115029  Iris-setosa\n",
       "1 -1.577915 -0.264576  Iris-setosa\n",
       "2 -1.658325 -0.083378  Iris-setosa\n",
       "3 -1.509588 -0.225146  Iris-setosa\n",
       "4 -1.801042  0.189339  Iris-setosa"
      ]
     },
     "execution_count": 39,
     "metadata": {},
     "output_type": "execute_result"
    }
   ],
   "source": [
    "#add the species column to the transformed data\n",
    "\n",
    "transformed_data['species'] = iris['species']\n",
    "#rename the columns\n",
    "\n",
    "transformed_data.columns = ['LD1', 'LD2', 'species']\n",
    "transformed_data.head()"
   ]
  },
  {
   "cell_type": "code",
   "execution_count": 41,
   "metadata": {},
   "outputs": [
    {
     "data": {
      "application/vnd.plotly.v1+json": {
       "config": {
        "plotlyServerURL": "https://plot.ly"
       },
       "data": [
        {
         "hovertemplate": "species=Iris-setosa<br>LD1=%{x}<br>LD2=%{y}<extra></extra>",
         "legendgroup": "Iris-setosa",
         "marker": {
          "color": "#636efa",
          "symbol": "circle"
         },
         "mode": "markers",
         "name": "Iris-setosa",
         "orientation": "v",
         "showlegend": true,
         "type": "scatter",
         "x": [
          -1.7849562329225446,
          -1.5779154981987422,
          -1.6583250943958416,
          -1.509588415247772,
          -1.8010420091215935,
          -1.7051852636235556,
          -1.5973401124570772,
          -1.684457597573477,
          -1.4533052759466434,
          -1.6268565364876657,
          -1.8593267798991822,
          -1.6000447384234584,
          -1.6228339887366023,
          -1.6771110817560662,
          -2.1789100936218926,
          -2.02678949362087,
          -1.898137438819563,
          -1.721950334709176,
          -1.7882802009888918,
          -1.7762318425338455,
          -1.660331140677507,
          -1.6790527604459198,
          -1.9216445536155677,
          -1.382878039136319,
          -1.455330607026453,
          -1.4995268182762465,
          -1.5102077573477382,
          -1.754805596799051,
          -1.7688704567234959,
          -1.513610962998836,
          -1.497525186799787,
          -1.6307954318487734,
          -2.022850598259762,
          -2.096518150746478,
          -1.6268565364876657,
          -1.760825361221369,
          -1.9055439074235798,
          -1.6268565364876657,
          -1.5357165036202023,
          -1.7025450052489854,
          -1.7521009708326696,
          -1.2515857259604417,
          -1.6040628713693166,
          -1.4183691447955584,
          -1.5202737691244694,
          -1.4968221923098652,
          -1.790999696948212,
          -1.5919996429213314,
          -1.8412393722236737,
          -1.698522457497922
         ],
         "xaxis": "x",
         "y": [
          0.11502883372948389,
          -0.26457631879201726,
          -0.08337804779233485,
          -0.22514639781056103,
          0.1893387578879023,
          0.5191284752246422,
          0.13208400867902112,
          0.005838906394102983,
          -0.345790984432786,
          -0.3199638676596917,
          0.23682421059876732,
          -0.029041096782859176,
          -0.3639969496293815,
          -0.2720156328161372,
          0.5655447828519679,
          0.9650412633588928,
          0.6494421659560238,
          0.21329867431978997,
          0.3488502909700344,
          0.40710239485337474,
          -0.054714777983354244,
          0.4299115210382044,
          0.31504928763105056,
          0.16118165864091186,
          -0.12677636483139534,
          -0.3285823739106498,
          0.16980016489186978,
          0.08360120129369672,
          0.040718909571065255,
          -0.18111331584087112,
          -0.2554232399992896,
          0.2069817485629487,
          0.43809564713625176,
          0.6478569955560555,
          -0.3199638676596917,
          -0.04734725436831413,
          0.1522104174005626,
          -0.3199638676596917,
          -0.23775184734446378,
          0.006989696641161314,
          0.2447263067555769,
          -0.6665562173454376,
          -0.08683041853350995,
          0.44180056047795857,
          0.37505854471229927,
          -0.16745726844876954,
          0.27625413158022327,
          -0.11710726072223857,
          0.23567342035170888,
          -0.037043385328528376
         ],
         "yaxis": "y"
        },
        {
         "hovertemplate": "species=Iris-versicolor<br>LD1=%{x}<br>LD2=%{y}<extra></extra>",
         "legendgroup": "Iris-versicolor",
         "marker": {
          "color": "#EF553B",
          "symbol": "circle"
         },
         "mode": "markers",
         "name": "Iris-versicolor",
         "orientation": "v",
         "showlegend": true,
         "type": "scatter",
         "x": [
          0.3218287967939536,
          0.39688305346236824,
          0.5335713741553915,
          0.5000263619912114,
          0.5637264250840904,
          0.5341758462624185,
          0.5402792630746921,
          0.04769362293658529,
          0.38545403710728804,
          0.43236370393387413,
          0.2627750383573094,
          0.4109523281920187,
          0.2547448128481212,
          0.5871350174972003,
          0.08394767587235254,
          0.2655500722980302,
          0.6099286826155496,
          0.1682917526253539,
          0.7747897075589565,
          0.23934274634084984,
          0.8210519178770213,
          0.22063599656537564,
          0.8471349234557847,
          0.49529640494502053,
          0.27691472106129894,
          0.3178106638480958,
          0.5429343914422009,
          0.7781692136067042,
          0.5717522357880732,
          -0.06887591861859196,
          0.24336529409191338,
          0.13212135207954306,
          0.1978274614540872,
          0.9925327645445675,
          0.6461034979665661,
          0.46389221462865604,
          0.47327010190840435,
          0.5482792757831526,
          0.2909647109928047,
          0.431679994242097,
          0.5274530873501793,
          0.5047237898236411,
          0.2802386891276463,
          0.06377939913563417,
          0.44172230641547827,
          0.25810944890292986,
          0.3552885309908556,
          0.3130895364123156,
          -0.10436260947262566,
          0.3412236710664106
         ],
         "xaxis": "x",
         "y": [
          0.014661843756935498,
          0.1711837882305822,
          -0.028836665670984658,
          -0.55196732140862,
          -0.16208670182711252,
          -0.3352542823013462,
          0.27860670761361567,
          -0.5501719114764935,
          -0.2820148783551891,
          -0.1227285712547361,
          -0.9160208242170333,
          0.1122436762328727,
          -0.9164836063497228,
          -0.22207741168302073,
          0.03226144600268122,
          0.033484026658819645,
          0.011056037443161285,
          -0.5740600374993006,
          -0.5857249363183032,
          -0.5638563608483744,
          0.3625040907176722,
          -0.16775900789888548,
          -0.48850569358619617,
          -0.49407780726910966,
          -0.18658119080076963,
          -0.043127477993715684,
          -0.3220610170419343,
          0.05736229792718823,
          -0.05980151597408214,
          -0.45520100605476355,
          -0.6078894428180643,
          -0.673580860725525,
          -0.31236351095299786,
          -0.30792364029180197,
          0.008754456949044568,
          0.41577189664360836,
          0.03401859920058951,
          -0.6730746901635349,
          -0.05516995300606884,
          -0.4010458925976662,
          -0.5541687095138772,
          -0.1140382745946982,
          -0.4204026480413203,
          -0.6244818356349121,
          -0.3141305189053449,
          -0.18486742603216216,
          -0.162058299847333,
          -0.1888827712948864,
          -0.27640450793805743,
          -0.2049405915699643
         ],
         "yaxis": "y"
        },
        {
         "hovertemplate": "species=Iris-virginica<br>LD1=%{x}<br>LD2=%{y}<extra></extra>",
         "legendgroup": "Iris-virginica",
         "marker": {
          "color": "#00cc96",
          "symbol": "circle"
         },
         "mode": "markers",
         "name": "Iris-virginica",
         "orientation": "v",
         "showlegend": true,
         "type": "scatter",
         "x": [
          1.7344269163820334,
          1.2177252745356895,
          1.3919855699491623,
          1.2371261891906746,
          1.5152778704165788,
          1.6392148381646339,
          1.0334182521436306,
          1.393918419028605,
          1.397945381584874,
          1.5173587394777883,
          0.9832533996477139,
          1.2056769160806433,
          1.2532956177796795,
          1.318926904374679,
          1.498581581727975,
          1.2868345895613313,
          1.118540146166099,
          1.458985901505039,
          2.0285460938110966,
          1.052154741904983,
          1.3893497263797976,
          1.1862567166275142,
          1.6747059438238734,
          0.9678062503467758,
          1.2653395614295204,
          1.164772143683436,
          0.903482430348725,
          0.9014615140741211,
          1.4422296600298288,
          1.0106306274078094,
          1.376534005843018,
          1.1520851583302794,
          1.5052355582431975,
          0.8410914594301168,
          1.1237969633118887,
          1.5059490079208524,
          1.4442956590980998,
          1.1024543699670502,
          0.8713108779506273,
          1.1527969824306121,
          1.4744655800197377,
          1.1340946474603428,
          1.2177252745356895,
          1.5039132216533098,
          1.5173631542829944,
          1.252680690484919,
          1.1473965601082603,
          1.0998378111958302,
          1.3029010809622361,
          1.0341124170231413
         ],
         "xaxis": "x",
         "y": [
          0.7395157780493791,
          -0.015415699015000933,
          0.16183901713103702,
          -0.11990227297328844,
          0.2857825389218386,
          -0.06045599041358893,
          -0.17776338513301965,
          -0.3364433292826228,
          -0.4822988149726533,
          0.9436766108064899,
          0.4682132453320981,
          -0.07366780289834161,
          0.2887003371212437,
          -0.036639654799861844,
          0.5513942183420057,
          0.6967151314902668,
          -0.009561555390849423,
          0.6100719329847448,
          -0.26234364465636256,
          -0.7509186302266472,
          0.5721553919941768,
          0.22117012085235568,
          -0.34107489225063625,
          -0.042774743004324225,
          0.4487748447249248,
          -0.013476708264714104,
          0.06411360383693958,
          0.1813058197179895,
          0.10059732463921103,
          -0.295780972890589,
          -0.24732656748504453,
          0.5135691003467855,
          0.19886716522951728,
          -0.32728039573545636,
          -0.7416653590450599,
          0.3001265944283085,
          0.8470203425959317,
          0.0647483687675691,
          0.21273345215377668,
          0.39789026445662434,
          0.6252413603677348,
          0.6921652136857727,
          -0.015415699015000933,
          0.5058477563814275,
          0.8418542070861488,
          0.5818244961033333,
          -0.1280047539078176,
          0.28471339383829863,
          0.812756557124258,
          0.11384739385818209
         ],
         "yaxis": "y"
        }
       ],
       "layout": {
        "legend": {
         "title": {
          "text": "species"
         },
         "tracegroupgap": 0
        },
        "template": {
         "data": {
          "bar": [
           {
            "error_x": {
             "color": "#2a3f5f"
            },
            "error_y": {
             "color": "#2a3f5f"
            },
            "marker": {
             "line": {
              "color": "#E5ECF6",
              "width": 0.5
             },
             "pattern": {
              "fillmode": "overlay",
              "size": 10,
              "solidity": 0.2
             }
            },
            "type": "bar"
           }
          ],
          "barpolar": [
           {
            "marker": {
             "line": {
              "color": "#E5ECF6",
              "width": 0.5
             },
             "pattern": {
              "fillmode": "overlay",
              "size": 10,
              "solidity": 0.2
             }
            },
            "type": "barpolar"
           }
          ],
          "carpet": [
           {
            "aaxis": {
             "endlinecolor": "#2a3f5f",
             "gridcolor": "white",
             "linecolor": "white",
             "minorgridcolor": "white",
             "startlinecolor": "#2a3f5f"
            },
            "baxis": {
             "endlinecolor": "#2a3f5f",
             "gridcolor": "white",
             "linecolor": "white",
             "minorgridcolor": "white",
             "startlinecolor": "#2a3f5f"
            },
            "type": "carpet"
           }
          ],
          "choropleth": [
           {
            "colorbar": {
             "outlinewidth": 0,
             "ticks": ""
            },
            "type": "choropleth"
           }
          ],
          "contour": [
           {
            "colorbar": {
             "outlinewidth": 0,
             "ticks": ""
            },
            "colorscale": [
             [
              0,
              "#0d0887"
             ],
             [
              0.1111111111111111,
              "#46039f"
             ],
             [
              0.2222222222222222,
              "#7201a8"
             ],
             [
              0.3333333333333333,
              "#9c179e"
             ],
             [
              0.4444444444444444,
              "#bd3786"
             ],
             [
              0.5555555555555556,
              "#d8576b"
             ],
             [
              0.6666666666666666,
              "#ed7953"
             ],
             [
              0.7777777777777778,
              "#fb9f3a"
             ],
             [
              0.8888888888888888,
              "#fdca26"
             ],
             [
              1,
              "#f0f921"
             ]
            ],
            "type": "contour"
           }
          ],
          "contourcarpet": [
           {
            "colorbar": {
             "outlinewidth": 0,
             "ticks": ""
            },
            "type": "contourcarpet"
           }
          ],
          "heatmap": [
           {
            "colorbar": {
             "outlinewidth": 0,
             "ticks": ""
            },
            "colorscale": [
             [
              0,
              "#0d0887"
             ],
             [
              0.1111111111111111,
              "#46039f"
             ],
             [
              0.2222222222222222,
              "#7201a8"
             ],
             [
              0.3333333333333333,
              "#9c179e"
             ],
             [
              0.4444444444444444,
              "#bd3786"
             ],
             [
              0.5555555555555556,
              "#d8576b"
             ],
             [
              0.6666666666666666,
              "#ed7953"
             ],
             [
              0.7777777777777778,
              "#fb9f3a"
             ],
             [
              0.8888888888888888,
              "#fdca26"
             ],
             [
              1,
              "#f0f921"
             ]
            ],
            "type": "heatmap"
           }
          ],
          "heatmapgl": [
           {
            "colorbar": {
             "outlinewidth": 0,
             "ticks": ""
            },
            "colorscale": [
             [
              0,
              "#0d0887"
             ],
             [
              0.1111111111111111,
              "#46039f"
             ],
             [
              0.2222222222222222,
              "#7201a8"
             ],
             [
              0.3333333333333333,
              "#9c179e"
             ],
             [
              0.4444444444444444,
              "#bd3786"
             ],
             [
              0.5555555555555556,
              "#d8576b"
             ],
             [
              0.6666666666666666,
              "#ed7953"
             ],
             [
              0.7777777777777778,
              "#fb9f3a"
             ],
             [
              0.8888888888888888,
              "#fdca26"
             ],
             [
              1,
              "#f0f921"
             ]
            ],
            "type": "heatmapgl"
           }
          ],
          "histogram": [
           {
            "marker": {
             "pattern": {
              "fillmode": "overlay",
              "size": 10,
              "solidity": 0.2
             }
            },
            "type": "histogram"
           }
          ],
          "histogram2d": [
           {
            "colorbar": {
             "outlinewidth": 0,
             "ticks": ""
            },
            "colorscale": [
             [
              0,
              "#0d0887"
             ],
             [
              0.1111111111111111,
              "#46039f"
             ],
             [
              0.2222222222222222,
              "#7201a8"
             ],
             [
              0.3333333333333333,
              "#9c179e"
             ],
             [
              0.4444444444444444,
              "#bd3786"
             ],
             [
              0.5555555555555556,
              "#d8576b"
             ],
             [
              0.6666666666666666,
              "#ed7953"
             ],
             [
              0.7777777777777778,
              "#fb9f3a"
             ],
             [
              0.8888888888888888,
              "#fdca26"
             ],
             [
              1,
              "#f0f921"
             ]
            ],
            "type": "histogram2d"
           }
          ],
          "histogram2dcontour": [
           {
            "colorbar": {
             "outlinewidth": 0,
             "ticks": ""
            },
            "colorscale": [
             [
              0,
              "#0d0887"
             ],
             [
              0.1111111111111111,
              "#46039f"
             ],
             [
              0.2222222222222222,
              "#7201a8"
             ],
             [
              0.3333333333333333,
              "#9c179e"
             ],
             [
              0.4444444444444444,
              "#bd3786"
             ],
             [
              0.5555555555555556,
              "#d8576b"
             ],
             [
              0.6666666666666666,
              "#ed7953"
             ],
             [
              0.7777777777777778,
              "#fb9f3a"
             ],
             [
              0.8888888888888888,
              "#fdca26"
             ],
             [
              1,
              "#f0f921"
             ]
            ],
            "type": "histogram2dcontour"
           }
          ],
          "mesh3d": [
           {
            "colorbar": {
             "outlinewidth": 0,
             "ticks": ""
            },
            "type": "mesh3d"
           }
          ],
          "parcoords": [
           {
            "line": {
             "colorbar": {
              "outlinewidth": 0,
              "ticks": ""
             }
            },
            "type": "parcoords"
           }
          ],
          "pie": [
           {
            "automargin": true,
            "type": "pie"
           }
          ],
          "scatter": [
           {
            "fillpattern": {
             "fillmode": "overlay",
             "size": 10,
             "solidity": 0.2
            },
            "type": "scatter"
           }
          ],
          "scatter3d": [
           {
            "line": {
             "colorbar": {
              "outlinewidth": 0,
              "ticks": ""
             }
            },
            "marker": {
             "colorbar": {
              "outlinewidth": 0,
              "ticks": ""
             }
            },
            "type": "scatter3d"
           }
          ],
          "scattercarpet": [
           {
            "marker": {
             "colorbar": {
              "outlinewidth": 0,
              "ticks": ""
             }
            },
            "type": "scattercarpet"
           }
          ],
          "scattergeo": [
           {
            "marker": {
             "colorbar": {
              "outlinewidth": 0,
              "ticks": ""
             }
            },
            "type": "scattergeo"
           }
          ],
          "scattergl": [
           {
            "marker": {
             "colorbar": {
              "outlinewidth": 0,
              "ticks": ""
             }
            },
            "type": "scattergl"
           }
          ],
          "scattermapbox": [
           {
            "marker": {
             "colorbar": {
              "outlinewidth": 0,
              "ticks": ""
             }
            },
            "type": "scattermapbox"
           }
          ],
          "scatterpolar": [
           {
            "marker": {
             "colorbar": {
              "outlinewidth": 0,
              "ticks": ""
             }
            },
            "type": "scatterpolar"
           }
          ],
          "scatterpolargl": [
           {
            "marker": {
             "colorbar": {
              "outlinewidth": 0,
              "ticks": ""
             }
            },
            "type": "scatterpolargl"
           }
          ],
          "scatterternary": [
           {
            "marker": {
             "colorbar": {
              "outlinewidth": 0,
              "ticks": ""
             }
            },
            "type": "scatterternary"
           }
          ],
          "surface": [
           {
            "colorbar": {
             "outlinewidth": 0,
             "ticks": ""
            },
            "colorscale": [
             [
              0,
              "#0d0887"
             ],
             [
              0.1111111111111111,
              "#46039f"
             ],
             [
              0.2222222222222222,
              "#7201a8"
             ],
             [
              0.3333333333333333,
              "#9c179e"
             ],
             [
              0.4444444444444444,
              "#bd3786"
             ],
             [
              0.5555555555555556,
              "#d8576b"
             ],
             [
              0.6666666666666666,
              "#ed7953"
             ],
             [
              0.7777777777777778,
              "#fb9f3a"
             ],
             [
              0.8888888888888888,
              "#fdca26"
             ],
             [
              1,
              "#f0f921"
             ]
            ],
            "type": "surface"
           }
          ],
          "table": [
           {
            "cells": {
             "fill": {
              "color": "#EBF0F8"
             },
             "line": {
              "color": "white"
             }
            },
            "header": {
             "fill": {
              "color": "#C8D4E3"
             },
             "line": {
              "color": "white"
             }
            },
            "type": "table"
           }
          ]
         },
         "layout": {
          "annotationdefaults": {
           "arrowcolor": "#2a3f5f",
           "arrowhead": 0,
           "arrowwidth": 1
          },
          "autotypenumbers": "strict",
          "coloraxis": {
           "colorbar": {
            "outlinewidth": 0,
            "ticks": ""
           }
          },
          "colorscale": {
           "diverging": [
            [
             0,
             "#8e0152"
            ],
            [
             0.1,
             "#c51b7d"
            ],
            [
             0.2,
             "#de77ae"
            ],
            [
             0.3,
             "#f1b6da"
            ],
            [
             0.4,
             "#fde0ef"
            ],
            [
             0.5,
             "#f7f7f7"
            ],
            [
             0.6,
             "#e6f5d0"
            ],
            [
             0.7,
             "#b8e186"
            ],
            [
             0.8,
             "#7fbc41"
            ],
            [
             0.9,
             "#4d9221"
            ],
            [
             1,
             "#276419"
            ]
           ],
           "sequential": [
            [
             0,
             "#0d0887"
            ],
            [
             0.1111111111111111,
             "#46039f"
            ],
            [
             0.2222222222222222,
             "#7201a8"
            ],
            [
             0.3333333333333333,
             "#9c179e"
            ],
            [
             0.4444444444444444,
             "#bd3786"
            ],
            [
             0.5555555555555556,
             "#d8576b"
            ],
            [
             0.6666666666666666,
             "#ed7953"
            ],
            [
             0.7777777777777778,
             "#fb9f3a"
            ],
            [
             0.8888888888888888,
             "#fdca26"
            ],
            [
             1,
             "#f0f921"
            ]
           ],
           "sequentialminus": [
            [
             0,
             "#0d0887"
            ],
            [
             0.1111111111111111,
             "#46039f"
            ],
            [
             0.2222222222222222,
             "#7201a8"
            ],
            [
             0.3333333333333333,
             "#9c179e"
            ],
            [
             0.4444444444444444,
             "#bd3786"
            ],
            [
             0.5555555555555556,
             "#d8576b"
            ],
            [
             0.6666666666666666,
             "#ed7953"
            ],
            [
             0.7777777777777778,
             "#fb9f3a"
            ],
            [
             0.8888888888888888,
             "#fdca26"
            ],
            [
             1,
             "#f0f921"
            ]
           ]
          },
          "colorway": [
           "#636efa",
           "#EF553B",
           "#00cc96",
           "#ab63fa",
           "#FFA15A",
           "#19d3f3",
           "#FF6692",
           "#B6E880",
           "#FF97FF",
           "#FECB52"
          ],
          "font": {
           "color": "#2a3f5f"
          },
          "geo": {
           "bgcolor": "white",
           "lakecolor": "white",
           "landcolor": "#E5ECF6",
           "showlakes": true,
           "showland": true,
           "subunitcolor": "white"
          },
          "hoverlabel": {
           "align": "left"
          },
          "hovermode": "closest",
          "mapbox": {
           "style": "light"
          },
          "paper_bgcolor": "white",
          "plot_bgcolor": "#E5ECF6",
          "polar": {
           "angularaxis": {
            "gridcolor": "white",
            "linecolor": "white",
            "ticks": ""
           },
           "bgcolor": "#E5ECF6",
           "radialaxis": {
            "gridcolor": "white",
            "linecolor": "white",
            "ticks": ""
           }
          },
          "scene": {
           "xaxis": {
            "backgroundcolor": "#E5ECF6",
            "gridcolor": "white",
            "gridwidth": 2,
            "linecolor": "white",
            "showbackground": true,
            "ticks": "",
            "zerolinecolor": "white"
           },
           "yaxis": {
            "backgroundcolor": "#E5ECF6",
            "gridcolor": "white",
            "gridwidth": 2,
            "linecolor": "white",
            "showbackground": true,
            "ticks": "",
            "zerolinecolor": "white"
           },
           "zaxis": {
            "backgroundcolor": "#E5ECF6",
            "gridcolor": "white",
            "gridwidth": 2,
            "linecolor": "white",
            "showbackground": true,
            "ticks": "",
            "zerolinecolor": "white"
           }
          },
          "shapedefaults": {
           "line": {
            "color": "#2a3f5f"
           }
          },
          "ternary": {
           "aaxis": {
            "gridcolor": "white",
            "linecolor": "white",
            "ticks": ""
           },
           "baxis": {
            "gridcolor": "white",
            "linecolor": "white",
            "ticks": ""
           },
           "bgcolor": "#E5ECF6",
           "caxis": {
            "gridcolor": "white",
            "linecolor": "white",
            "ticks": ""
           }
          },
          "title": {
           "x": 0.05
          },
          "xaxis": {
           "automargin": true,
           "gridcolor": "white",
           "linecolor": "white",
           "ticks": "",
           "title": {
            "standoff": 15
           },
           "zerolinecolor": "white",
           "zerolinewidth": 2
          },
          "yaxis": {
           "automargin": true,
           "gridcolor": "white",
           "linecolor": "white",
           "ticks": "",
           "title": {
            "standoff": 15
           },
           "zerolinecolor": "white",
           "zerolinewidth": 2
          }
         }
        },
        "title": {
         "text": "LDA on IRIS dataset"
        },
        "xaxis": {
         "anchor": "y",
         "domain": [
          0,
          1
         ],
         "title": {
          "text": "LD1"
         }
        },
        "yaxis": {
         "anchor": "x",
         "domain": [
          0,
          1
         ],
         "title": {
          "text": "LD2"
         }
        }
       }
      }
     },
     "metadata": {},
     "output_type": "display_data"
    }
   ],
   "source": [
    "#plot the data in the new subspace\n",
    "\n",
    "fig = px.scatter(transformed_data, x=\"LD1\", y=\"LD2\", color=\"species\", title=\"LDA on IRIS dataset\")\n",
    "fig.show()"
   ]
  },
  {
   "cell_type": "code",
   "execution_count": 44,
   "metadata": {},
   "outputs": [],
   "source": [
    "def LDA(data,n_components=2):\n",
    "    features = data.iloc[:,0:4]\n",
    "    labels = data.iloc[:,4]\n",
    "    std_features = features.apply(lambda x: (x - x.mean()) / x.std())\n",
    "    mean_overall = std_features.mean()\n",
    "    SW=np.zeros((4,4))\n",
    "    SB=np.zeros((4,4))\n",
    "    for i in labels.unique():\n",
    "        mean_class = std_features[labels==i].mean()\n",
    "        SW += np.cov(std_features[labels==i].T)\n",
    "        SB += len(std_features[labels==i])*(mean_class - mean_overall).values.reshape(4,1).dot((mean_class - mean_overall).values.reshape(1,4))\n",
    "    eigen_values, eigen_vectors = np.linalg.eig(np.linalg.inv(SW).dot(SB))\n",
    "    eigen_pairs=[]\n",
    "    for i in range(len(eigen_values)):\n",
    "        eigen_pairs.append((np.abs(eigen_values[i]), eigen_vectors[:,i]))\n",
    "    eigen_pairs.sort(reverse=True, key=lambda x: x[0])\n",
    "    eigen_pairs = eigen_pairs[0:n_components]\n",
    "    projection_matrix=np.hstack([eigen_pairs[i][1].reshape(4,1) for i in range(n_components)]).real\n",
    "    transformed_data = std_features.dot(projection_matrix)\n",
    "    transformed_data['species'] = data['species']\n",
    "    transformed_data.columns = ['LD'+str(i+1) for i in range(n_components)] + ['species']\n",
    "    return transformed_data"
   ]
  },
  {
   "cell_type": "code",
   "execution_count": 45,
   "metadata": {},
   "outputs": [
    {
     "data": {
      "application/vnd.plotly.v1+json": {
       "config": {
        "plotlyServerURL": "https://plot.ly"
       },
       "data": [
        {
         "hovertemplate": "species=Iris-setosa<br>LD1=%{x}<br>LD2=%{y}<extra></extra>",
         "legendgroup": "Iris-setosa",
         "marker": {
          "color": "#636efa",
          "symbol": "circle"
         },
         "mode": "markers",
         "name": "Iris-setosa",
         "orientation": "v",
         "showlegend": true,
         "type": "scatter",
         "x": [
          -1.7849562329225446,
          -1.5779154981987422,
          -1.6583250943958416,
          -1.509588415247772,
          -1.8010420091215935,
          -1.7051852636235556,
          -1.5973401124570772,
          -1.684457597573477,
          -1.4533052759466434,
          -1.6268565364876657,
          -1.8593267798991822,
          -1.6000447384234584,
          -1.6228339887366023,
          -1.6771110817560662,
          -2.1789100936218926,
          -2.02678949362087,
          -1.898137438819563,
          -1.721950334709176,
          -1.7882802009888918,
          -1.7762318425338455,
          -1.660331140677507,
          -1.6790527604459198,
          -1.9216445536155677,
          -1.382878039136319,
          -1.455330607026453,
          -1.4995268182762465,
          -1.5102077573477382,
          -1.754805596799051,
          -1.7688704567234959,
          -1.513610962998836,
          -1.497525186799787,
          -1.6307954318487734,
          -2.022850598259762,
          -2.096518150746478,
          -1.6268565364876657,
          -1.760825361221369,
          -1.9055439074235798,
          -1.6268565364876657,
          -1.5357165036202023,
          -1.7025450052489854,
          -1.7521009708326696,
          -1.2515857259604417,
          -1.6040628713693166,
          -1.4183691447955584,
          -1.5202737691244694,
          -1.4968221923098652,
          -1.790999696948212,
          -1.5919996429213314,
          -1.8412393722236737,
          -1.698522457497922
         ],
         "xaxis": "x",
         "y": [
          0.11502883372948389,
          -0.26457631879201726,
          -0.08337804779233485,
          -0.22514639781056103,
          0.1893387578879023,
          0.5191284752246422,
          0.13208400867902112,
          0.005838906394102983,
          -0.345790984432786,
          -0.3199638676596917,
          0.23682421059876732,
          -0.029041096782859176,
          -0.3639969496293815,
          -0.2720156328161372,
          0.5655447828519679,
          0.9650412633588928,
          0.6494421659560238,
          0.21329867431978997,
          0.3488502909700344,
          0.40710239485337474,
          -0.054714777983354244,
          0.4299115210382044,
          0.31504928763105056,
          0.16118165864091186,
          -0.12677636483139534,
          -0.3285823739106498,
          0.16980016489186978,
          0.08360120129369672,
          0.040718909571065255,
          -0.18111331584087112,
          -0.2554232399992896,
          0.2069817485629487,
          0.43809564713625176,
          0.6478569955560555,
          -0.3199638676596917,
          -0.04734725436831413,
          0.1522104174005626,
          -0.3199638676596917,
          -0.23775184734446378,
          0.006989696641161314,
          0.2447263067555769,
          -0.6665562173454376,
          -0.08683041853350995,
          0.44180056047795857,
          0.37505854471229927,
          -0.16745726844876954,
          0.27625413158022327,
          -0.11710726072223857,
          0.23567342035170888,
          -0.037043385328528376
         ],
         "yaxis": "y"
        },
        {
         "hovertemplate": "species=Iris-versicolor<br>LD1=%{x}<br>LD2=%{y}<extra></extra>",
         "legendgroup": "Iris-versicolor",
         "marker": {
          "color": "#EF553B",
          "symbol": "circle"
         },
         "mode": "markers",
         "name": "Iris-versicolor",
         "orientation": "v",
         "showlegend": true,
         "type": "scatter",
         "x": [
          0.3218287967939536,
          0.39688305346236824,
          0.5335713741553915,
          0.5000263619912114,
          0.5637264250840904,
          0.5341758462624185,
          0.5402792630746921,
          0.04769362293658529,
          0.38545403710728804,
          0.43236370393387413,
          0.2627750383573094,
          0.4109523281920187,
          0.2547448128481212,
          0.5871350174972003,
          0.08394767587235254,
          0.2655500722980302,
          0.6099286826155496,
          0.1682917526253539,
          0.7747897075589565,
          0.23934274634084984,
          0.8210519178770213,
          0.22063599656537564,
          0.8471349234557847,
          0.49529640494502053,
          0.27691472106129894,
          0.3178106638480958,
          0.5429343914422009,
          0.7781692136067042,
          0.5717522357880732,
          -0.06887591861859196,
          0.24336529409191338,
          0.13212135207954306,
          0.1978274614540872,
          0.9925327645445675,
          0.6461034979665661,
          0.46389221462865604,
          0.47327010190840435,
          0.5482792757831526,
          0.2909647109928047,
          0.431679994242097,
          0.5274530873501793,
          0.5047237898236411,
          0.2802386891276463,
          0.06377939913563417,
          0.44172230641547827,
          0.25810944890292986,
          0.3552885309908556,
          0.3130895364123156,
          -0.10436260947262566,
          0.3412236710664106
         ],
         "xaxis": "x",
         "y": [
          0.014661843756935498,
          0.1711837882305822,
          -0.028836665670984658,
          -0.55196732140862,
          -0.16208670182711252,
          -0.3352542823013462,
          0.27860670761361567,
          -0.5501719114764935,
          -0.2820148783551891,
          -0.1227285712547361,
          -0.9160208242170333,
          0.1122436762328727,
          -0.9164836063497228,
          -0.22207741168302073,
          0.03226144600268122,
          0.033484026658819645,
          0.011056037443161285,
          -0.5740600374993006,
          -0.5857249363183032,
          -0.5638563608483744,
          0.3625040907176722,
          -0.16775900789888548,
          -0.48850569358619617,
          -0.49407780726910966,
          -0.18658119080076963,
          -0.043127477993715684,
          -0.3220610170419343,
          0.05736229792718823,
          -0.05980151597408214,
          -0.45520100605476355,
          -0.6078894428180643,
          -0.673580860725525,
          -0.31236351095299786,
          -0.30792364029180197,
          0.008754456949044568,
          0.41577189664360836,
          0.03401859920058951,
          -0.6730746901635349,
          -0.05516995300606884,
          -0.4010458925976662,
          -0.5541687095138772,
          -0.1140382745946982,
          -0.4204026480413203,
          -0.6244818356349121,
          -0.3141305189053449,
          -0.18486742603216216,
          -0.162058299847333,
          -0.1888827712948864,
          -0.27640450793805743,
          -0.2049405915699643
         ],
         "yaxis": "y"
        },
        {
         "hovertemplate": "species=Iris-virginica<br>LD1=%{x}<br>LD2=%{y}<extra></extra>",
         "legendgroup": "Iris-virginica",
         "marker": {
          "color": "#00cc96",
          "symbol": "circle"
         },
         "mode": "markers",
         "name": "Iris-virginica",
         "orientation": "v",
         "showlegend": true,
         "type": "scatter",
         "x": [
          1.7344269163820334,
          1.2177252745356895,
          1.3919855699491623,
          1.2371261891906746,
          1.5152778704165788,
          1.6392148381646339,
          1.0334182521436306,
          1.393918419028605,
          1.397945381584874,
          1.5173587394777883,
          0.9832533996477139,
          1.2056769160806433,
          1.2532956177796795,
          1.318926904374679,
          1.498581581727975,
          1.2868345895613313,
          1.118540146166099,
          1.458985901505039,
          2.0285460938110966,
          1.052154741904983,
          1.3893497263797976,
          1.1862567166275142,
          1.6747059438238734,
          0.9678062503467758,
          1.2653395614295204,
          1.164772143683436,
          0.903482430348725,
          0.9014615140741211,
          1.4422296600298288,
          1.0106306274078094,
          1.376534005843018,
          1.1520851583302794,
          1.5052355582431975,
          0.8410914594301168,
          1.1237969633118887,
          1.5059490079208524,
          1.4442956590980998,
          1.1024543699670502,
          0.8713108779506273,
          1.1527969824306121,
          1.4744655800197377,
          1.1340946474603428,
          1.2177252745356895,
          1.5039132216533098,
          1.5173631542829944,
          1.252680690484919,
          1.1473965601082603,
          1.0998378111958302,
          1.3029010809622361,
          1.0341124170231413
         ],
         "xaxis": "x",
         "y": [
          0.7395157780493791,
          -0.015415699015000933,
          0.16183901713103702,
          -0.11990227297328844,
          0.2857825389218386,
          -0.06045599041358893,
          -0.17776338513301965,
          -0.3364433292826228,
          -0.4822988149726533,
          0.9436766108064899,
          0.4682132453320981,
          -0.07366780289834161,
          0.2887003371212437,
          -0.036639654799861844,
          0.5513942183420057,
          0.6967151314902668,
          -0.009561555390849423,
          0.6100719329847448,
          -0.26234364465636256,
          -0.7509186302266472,
          0.5721553919941768,
          0.22117012085235568,
          -0.34107489225063625,
          -0.042774743004324225,
          0.4487748447249248,
          -0.013476708264714104,
          0.06411360383693958,
          0.1813058197179895,
          0.10059732463921103,
          -0.295780972890589,
          -0.24732656748504453,
          0.5135691003467855,
          0.19886716522951728,
          -0.32728039573545636,
          -0.7416653590450599,
          0.3001265944283085,
          0.8470203425959317,
          0.0647483687675691,
          0.21273345215377668,
          0.39789026445662434,
          0.6252413603677348,
          0.6921652136857727,
          -0.015415699015000933,
          0.5058477563814275,
          0.8418542070861488,
          0.5818244961033333,
          -0.1280047539078176,
          0.28471339383829863,
          0.812756557124258,
          0.11384739385818209
         ],
         "yaxis": "y"
        }
       ],
       "layout": {
        "legend": {
         "title": {
          "text": "species"
         },
         "tracegroupgap": 0
        },
        "template": {
         "data": {
          "bar": [
           {
            "error_x": {
             "color": "#2a3f5f"
            },
            "error_y": {
             "color": "#2a3f5f"
            },
            "marker": {
             "line": {
              "color": "#E5ECF6",
              "width": 0.5
             },
             "pattern": {
              "fillmode": "overlay",
              "size": 10,
              "solidity": 0.2
             }
            },
            "type": "bar"
           }
          ],
          "barpolar": [
           {
            "marker": {
             "line": {
              "color": "#E5ECF6",
              "width": 0.5
             },
             "pattern": {
              "fillmode": "overlay",
              "size": 10,
              "solidity": 0.2
             }
            },
            "type": "barpolar"
           }
          ],
          "carpet": [
           {
            "aaxis": {
             "endlinecolor": "#2a3f5f",
             "gridcolor": "white",
             "linecolor": "white",
             "minorgridcolor": "white",
             "startlinecolor": "#2a3f5f"
            },
            "baxis": {
             "endlinecolor": "#2a3f5f",
             "gridcolor": "white",
             "linecolor": "white",
             "minorgridcolor": "white",
             "startlinecolor": "#2a3f5f"
            },
            "type": "carpet"
           }
          ],
          "choropleth": [
           {
            "colorbar": {
             "outlinewidth": 0,
             "ticks": ""
            },
            "type": "choropleth"
           }
          ],
          "contour": [
           {
            "colorbar": {
             "outlinewidth": 0,
             "ticks": ""
            },
            "colorscale": [
             [
              0,
              "#0d0887"
             ],
             [
              0.1111111111111111,
              "#46039f"
             ],
             [
              0.2222222222222222,
              "#7201a8"
             ],
             [
              0.3333333333333333,
              "#9c179e"
             ],
             [
              0.4444444444444444,
              "#bd3786"
             ],
             [
              0.5555555555555556,
              "#d8576b"
             ],
             [
              0.6666666666666666,
              "#ed7953"
             ],
             [
              0.7777777777777778,
              "#fb9f3a"
             ],
             [
              0.8888888888888888,
              "#fdca26"
             ],
             [
              1,
              "#f0f921"
             ]
            ],
            "type": "contour"
           }
          ],
          "contourcarpet": [
           {
            "colorbar": {
             "outlinewidth": 0,
             "ticks": ""
            },
            "type": "contourcarpet"
           }
          ],
          "heatmap": [
           {
            "colorbar": {
             "outlinewidth": 0,
             "ticks": ""
            },
            "colorscale": [
             [
              0,
              "#0d0887"
             ],
             [
              0.1111111111111111,
              "#46039f"
             ],
             [
              0.2222222222222222,
              "#7201a8"
             ],
             [
              0.3333333333333333,
              "#9c179e"
             ],
             [
              0.4444444444444444,
              "#bd3786"
             ],
             [
              0.5555555555555556,
              "#d8576b"
             ],
             [
              0.6666666666666666,
              "#ed7953"
             ],
             [
              0.7777777777777778,
              "#fb9f3a"
             ],
             [
              0.8888888888888888,
              "#fdca26"
             ],
             [
              1,
              "#f0f921"
             ]
            ],
            "type": "heatmap"
           }
          ],
          "heatmapgl": [
           {
            "colorbar": {
             "outlinewidth": 0,
             "ticks": ""
            },
            "colorscale": [
             [
              0,
              "#0d0887"
             ],
             [
              0.1111111111111111,
              "#46039f"
             ],
             [
              0.2222222222222222,
              "#7201a8"
             ],
             [
              0.3333333333333333,
              "#9c179e"
             ],
             [
              0.4444444444444444,
              "#bd3786"
             ],
             [
              0.5555555555555556,
              "#d8576b"
             ],
             [
              0.6666666666666666,
              "#ed7953"
             ],
             [
              0.7777777777777778,
              "#fb9f3a"
             ],
             [
              0.8888888888888888,
              "#fdca26"
             ],
             [
              1,
              "#f0f921"
             ]
            ],
            "type": "heatmapgl"
           }
          ],
          "histogram": [
           {
            "marker": {
             "pattern": {
              "fillmode": "overlay",
              "size": 10,
              "solidity": 0.2
             }
            },
            "type": "histogram"
           }
          ],
          "histogram2d": [
           {
            "colorbar": {
             "outlinewidth": 0,
             "ticks": ""
            },
            "colorscale": [
             [
              0,
              "#0d0887"
             ],
             [
              0.1111111111111111,
              "#46039f"
             ],
             [
              0.2222222222222222,
              "#7201a8"
             ],
             [
              0.3333333333333333,
              "#9c179e"
             ],
             [
              0.4444444444444444,
              "#bd3786"
             ],
             [
              0.5555555555555556,
              "#d8576b"
             ],
             [
              0.6666666666666666,
              "#ed7953"
             ],
             [
              0.7777777777777778,
              "#fb9f3a"
             ],
             [
              0.8888888888888888,
              "#fdca26"
             ],
             [
              1,
              "#f0f921"
             ]
            ],
            "type": "histogram2d"
           }
          ],
          "histogram2dcontour": [
           {
            "colorbar": {
             "outlinewidth": 0,
             "ticks": ""
            },
            "colorscale": [
             [
              0,
              "#0d0887"
             ],
             [
              0.1111111111111111,
              "#46039f"
             ],
             [
              0.2222222222222222,
              "#7201a8"
             ],
             [
              0.3333333333333333,
              "#9c179e"
             ],
             [
              0.4444444444444444,
              "#bd3786"
             ],
             [
              0.5555555555555556,
              "#d8576b"
             ],
             [
              0.6666666666666666,
              "#ed7953"
             ],
             [
              0.7777777777777778,
              "#fb9f3a"
             ],
             [
              0.8888888888888888,
              "#fdca26"
             ],
             [
              1,
              "#f0f921"
             ]
            ],
            "type": "histogram2dcontour"
           }
          ],
          "mesh3d": [
           {
            "colorbar": {
             "outlinewidth": 0,
             "ticks": ""
            },
            "type": "mesh3d"
           }
          ],
          "parcoords": [
           {
            "line": {
             "colorbar": {
              "outlinewidth": 0,
              "ticks": ""
             }
            },
            "type": "parcoords"
           }
          ],
          "pie": [
           {
            "automargin": true,
            "type": "pie"
           }
          ],
          "scatter": [
           {
            "fillpattern": {
             "fillmode": "overlay",
             "size": 10,
             "solidity": 0.2
            },
            "type": "scatter"
           }
          ],
          "scatter3d": [
           {
            "line": {
             "colorbar": {
              "outlinewidth": 0,
              "ticks": ""
             }
            },
            "marker": {
             "colorbar": {
              "outlinewidth": 0,
              "ticks": ""
             }
            },
            "type": "scatter3d"
           }
          ],
          "scattercarpet": [
           {
            "marker": {
             "colorbar": {
              "outlinewidth": 0,
              "ticks": ""
             }
            },
            "type": "scattercarpet"
           }
          ],
          "scattergeo": [
           {
            "marker": {
             "colorbar": {
              "outlinewidth": 0,
              "ticks": ""
             }
            },
            "type": "scattergeo"
           }
          ],
          "scattergl": [
           {
            "marker": {
             "colorbar": {
              "outlinewidth": 0,
              "ticks": ""
             }
            },
            "type": "scattergl"
           }
          ],
          "scattermapbox": [
           {
            "marker": {
             "colorbar": {
              "outlinewidth": 0,
              "ticks": ""
             }
            },
            "type": "scattermapbox"
           }
          ],
          "scatterpolar": [
           {
            "marker": {
             "colorbar": {
              "outlinewidth": 0,
              "ticks": ""
             }
            },
            "type": "scatterpolar"
           }
          ],
          "scatterpolargl": [
           {
            "marker": {
             "colorbar": {
              "outlinewidth": 0,
              "ticks": ""
             }
            },
            "type": "scatterpolargl"
           }
          ],
          "scatterternary": [
           {
            "marker": {
             "colorbar": {
              "outlinewidth": 0,
              "ticks": ""
             }
            },
            "type": "scatterternary"
           }
          ],
          "surface": [
           {
            "colorbar": {
             "outlinewidth": 0,
             "ticks": ""
            },
            "colorscale": [
             [
              0,
              "#0d0887"
             ],
             [
              0.1111111111111111,
              "#46039f"
             ],
             [
              0.2222222222222222,
              "#7201a8"
             ],
             [
              0.3333333333333333,
              "#9c179e"
             ],
             [
              0.4444444444444444,
              "#bd3786"
             ],
             [
              0.5555555555555556,
              "#d8576b"
             ],
             [
              0.6666666666666666,
              "#ed7953"
             ],
             [
              0.7777777777777778,
              "#fb9f3a"
             ],
             [
              0.8888888888888888,
              "#fdca26"
             ],
             [
              1,
              "#f0f921"
             ]
            ],
            "type": "surface"
           }
          ],
          "table": [
           {
            "cells": {
             "fill": {
              "color": "#EBF0F8"
             },
             "line": {
              "color": "white"
             }
            },
            "header": {
             "fill": {
              "color": "#C8D4E3"
             },
             "line": {
              "color": "white"
             }
            },
            "type": "table"
           }
          ]
         },
         "layout": {
          "annotationdefaults": {
           "arrowcolor": "#2a3f5f",
           "arrowhead": 0,
           "arrowwidth": 1
          },
          "autotypenumbers": "strict",
          "coloraxis": {
           "colorbar": {
            "outlinewidth": 0,
            "ticks": ""
           }
          },
          "colorscale": {
           "diverging": [
            [
             0,
             "#8e0152"
            ],
            [
             0.1,
             "#c51b7d"
            ],
            [
             0.2,
             "#de77ae"
            ],
            [
             0.3,
             "#f1b6da"
            ],
            [
             0.4,
             "#fde0ef"
            ],
            [
             0.5,
             "#f7f7f7"
            ],
            [
             0.6,
             "#e6f5d0"
            ],
            [
             0.7,
             "#b8e186"
            ],
            [
             0.8,
             "#7fbc41"
            ],
            [
             0.9,
             "#4d9221"
            ],
            [
             1,
             "#276419"
            ]
           ],
           "sequential": [
            [
             0,
             "#0d0887"
            ],
            [
             0.1111111111111111,
             "#46039f"
            ],
            [
             0.2222222222222222,
             "#7201a8"
            ],
            [
             0.3333333333333333,
             "#9c179e"
            ],
            [
             0.4444444444444444,
             "#bd3786"
            ],
            [
             0.5555555555555556,
             "#d8576b"
            ],
            [
             0.6666666666666666,
             "#ed7953"
            ],
            [
             0.7777777777777778,
             "#fb9f3a"
            ],
            [
             0.8888888888888888,
             "#fdca26"
            ],
            [
             1,
             "#f0f921"
            ]
           ],
           "sequentialminus": [
            [
             0,
             "#0d0887"
            ],
            [
             0.1111111111111111,
             "#46039f"
            ],
            [
             0.2222222222222222,
             "#7201a8"
            ],
            [
             0.3333333333333333,
             "#9c179e"
            ],
            [
             0.4444444444444444,
             "#bd3786"
            ],
            [
             0.5555555555555556,
             "#d8576b"
            ],
            [
             0.6666666666666666,
             "#ed7953"
            ],
            [
             0.7777777777777778,
             "#fb9f3a"
            ],
            [
             0.8888888888888888,
             "#fdca26"
            ],
            [
             1,
             "#f0f921"
            ]
           ]
          },
          "colorway": [
           "#636efa",
           "#EF553B",
           "#00cc96",
           "#ab63fa",
           "#FFA15A",
           "#19d3f3",
           "#FF6692",
           "#B6E880",
           "#FF97FF",
           "#FECB52"
          ],
          "font": {
           "color": "#2a3f5f"
          },
          "geo": {
           "bgcolor": "white",
           "lakecolor": "white",
           "landcolor": "#E5ECF6",
           "showlakes": true,
           "showland": true,
           "subunitcolor": "white"
          },
          "hoverlabel": {
           "align": "left"
          },
          "hovermode": "closest",
          "mapbox": {
           "style": "light"
          },
          "paper_bgcolor": "white",
          "plot_bgcolor": "#E5ECF6",
          "polar": {
           "angularaxis": {
            "gridcolor": "white",
            "linecolor": "white",
            "ticks": ""
           },
           "bgcolor": "#E5ECF6",
           "radialaxis": {
            "gridcolor": "white",
            "linecolor": "white",
            "ticks": ""
           }
          },
          "scene": {
           "xaxis": {
            "backgroundcolor": "#E5ECF6",
            "gridcolor": "white",
            "gridwidth": 2,
            "linecolor": "white",
            "showbackground": true,
            "ticks": "",
            "zerolinecolor": "white"
           },
           "yaxis": {
            "backgroundcolor": "#E5ECF6",
            "gridcolor": "white",
            "gridwidth": 2,
            "linecolor": "white",
            "showbackground": true,
            "ticks": "",
            "zerolinecolor": "white"
           },
           "zaxis": {
            "backgroundcolor": "#E5ECF6",
            "gridcolor": "white",
            "gridwidth": 2,
            "linecolor": "white",
            "showbackground": true,
            "ticks": "",
            "zerolinecolor": "white"
           }
          },
          "shapedefaults": {
           "line": {
            "color": "#2a3f5f"
           }
          },
          "ternary": {
           "aaxis": {
            "gridcolor": "white",
            "linecolor": "white",
            "ticks": ""
           },
           "baxis": {
            "gridcolor": "white",
            "linecolor": "white",
            "ticks": ""
           },
           "bgcolor": "#E5ECF6",
           "caxis": {
            "gridcolor": "white",
            "linecolor": "white",
            "ticks": ""
           }
          },
          "title": {
           "x": 0.05
          },
          "xaxis": {
           "automargin": true,
           "gridcolor": "white",
           "linecolor": "white",
           "ticks": "",
           "title": {
            "standoff": 15
           },
           "zerolinecolor": "white",
           "zerolinewidth": 2
          },
          "yaxis": {
           "automargin": true,
           "gridcolor": "white",
           "linecolor": "white",
           "ticks": "",
           "title": {
            "standoff": 15
           },
           "zerolinecolor": "white",
           "zerolinewidth": 2
          }
         }
        },
        "title": {
         "text": "LDA on IRIS dataset"
        },
        "xaxis": {
         "anchor": "y",
         "domain": [
          0,
          1
         ],
         "title": {
          "text": "LD1"
         }
        },
        "yaxis": {
         "anchor": "x",
         "domain": [
          0,
          1
         ],
         "title": {
          "text": "LD2"
         }
        }
       }
      }
     },
     "metadata": {},
     "output_type": "display_data"
    }
   ],
   "source": [
    "#for 2 components\n",
    "transformed_data = LDA(iris,2)\n",
    "fig = px.scatter(transformed_data, x=\"LD1\", y=\"LD2\", color=\"species\", title=\"LDA on IRIS dataset\")\n",
    "fig.show()"
   ]
  },
  {
   "cell_type": "code",
   "execution_count": 46,
   "metadata": {},
   "outputs": [
    {
     "data": {
      "application/vnd.plotly.v1+json": {
       "config": {
        "plotlyServerURL": "https://plot.ly"
       },
       "data": [
        {
         "hovertemplate": "species=Iris-setosa<br>LD1=%{x}<br>LD2=%{y}<br>LD3=%{z}<extra></extra>",
         "legendgroup": "Iris-setosa",
         "marker": {
          "color": "#636efa",
          "symbol": "circle"
         },
         "mode": "markers",
         "name": "Iris-setosa",
         "scene": "scene",
         "showlegend": true,
         "type": "scatter3d",
         "x": [
          -1.7849562329225446,
          -1.5779154981987422,
          -1.6583250943958416,
          -1.509588415247772,
          -1.8010420091215935,
          -1.7051852636235556,
          -1.5973401124570772,
          -1.684457597573477,
          -1.4533052759466434,
          -1.6268565364876657,
          -1.8593267798991822,
          -1.6000447384234584,
          -1.6228339887366023,
          -1.6771110817560662,
          -2.1789100936218926,
          -2.02678949362087,
          -1.898137438819563,
          -1.721950334709176,
          -1.7882802009888918,
          -1.7762318425338455,
          -1.660331140677507,
          -1.6790527604459198,
          -1.9216445536155677,
          -1.382878039136319,
          -1.455330607026453,
          -1.4995268182762465,
          -1.5102077573477382,
          -1.754805596799051,
          -1.7688704567234959,
          -1.513610962998836,
          -1.497525186799787,
          -1.6307954318487734,
          -2.022850598259762,
          -2.096518150746478,
          -1.6268565364876657,
          -1.760825361221369,
          -1.9055439074235798,
          -1.6268565364876657,
          -1.5357165036202023,
          -1.7025450052489854,
          -1.7521009708326696,
          -1.2515857259604417,
          -1.6040628713693166,
          -1.4183691447955584,
          -1.5202737691244694,
          -1.4968221923098652,
          -1.790999696948212,
          -1.5919996429213314,
          -1.8412393722236737,
          -1.698522457497922
         ],
         "y": [
          0.11502883372948389,
          -0.26457631879201726,
          -0.08337804779233485,
          -0.22514639781056103,
          0.1893387578879023,
          0.5191284752246422,
          0.13208400867902112,
          0.005838906394102983,
          -0.345790984432786,
          -0.3199638676596917,
          0.23682421059876732,
          -0.029041096782859176,
          -0.3639969496293815,
          -0.2720156328161372,
          0.5655447828519679,
          0.9650412633588928,
          0.6494421659560238,
          0.21329867431978997,
          0.3488502909700344,
          0.40710239485337474,
          -0.054714777983354244,
          0.4299115210382044,
          0.31504928763105056,
          0.16118165864091186,
          -0.12677636483139534,
          -0.3285823739106498,
          0.16980016489186978,
          0.08360120129369672,
          0.040718909571065255,
          -0.18111331584087112,
          -0.2554232399992896,
          0.2069817485629487,
          0.43809564713625176,
          0.6478569955560555,
          -0.3199638676596917,
          -0.04734725436831413,
          0.1522104174005626,
          -0.3199638676596917,
          -0.23775184734446378,
          0.006989696641161314,
          0.2447263067555769,
          -0.6665562173454376,
          -0.08683041853350995,
          0.44180056047795857,
          0.37505854471229927,
          -0.16745726844876954,
          0.27625413158022327,
          -0.11710726072223857,
          0.23567342035170888,
          -0.037043385328528376
         ],
         "z": [
          -0.0036700439619593564,
          -0.11168371270615496,
          -0.018043544553506985,
          0.05582989409970657,
          0.06226878707668426,
          0.05098582679209918,
          0.06933724616442488,
          0.0319659007666146,
          0.012389301782935182,
          0.011889695698545331,
          0.008101907433522683,
          0.13354067653383217,
          -0.028949347422160078,
          0.014681375410366258,
          -0.13047456767348797,
          0.05085586676572685,
          -0.10196414890645898,
          -0.05473576832466525,
          -0.027224561726416456,
          0.08631229595203849,
          -0.018233675069262434,
          0.0009763814719780486,
          0.03599337506328204,
          -0.11069511551086764,
          0.24825315830775074,
          -0.0668773657781645,
          -0.0319280540341576,
          0.0028988090413912823,
          -0.0696088750006032,
          0.0966689372204117,
          0.03073010618176819,
          -0.1968401116439532,
          0.25958567410822503,
          0.10954672317436753,
          0.011889695698545331,
          -0.15128696124201357,
          -0.16858210157175468,
          0.011889695698545331,
          0.008421997975650465,
          0.0002972598453258046,
          -0.06130462132801578,
          -0.3142036981298271,
          0.07696237821035984,
          -0.09978931264221459,
          0.18819654728789073,
          -0.1310807961475718,
          0.17561551423938399,
          0.05186259029242152,
          0.03977054835481186,
          -0.04054178327537994
         ]
        },
        {
         "hovertemplate": "species=Iris-versicolor<br>LD1=%{x}<br>LD2=%{y}<br>LD3=%{z}<extra></extra>",
         "legendgroup": "Iris-versicolor",
         "marker": {
          "color": "#EF553B",
          "symbol": "circle"
         },
         "mode": "markers",
         "name": "Iris-versicolor",
         "scene": "scene",
         "showlegend": true,
         "type": "scatter3d",
         "x": [
          0.3218287967939536,
          0.39688305346236824,
          0.5335713741553915,
          0.5000263619912114,
          0.5637264250840904,
          0.5341758462624185,
          0.5402792630746921,
          0.04769362293658529,
          0.38545403710728804,
          0.43236370393387413,
          0.2627750383573094,
          0.4109523281920187,
          0.2547448128481212,
          0.5871350174972003,
          0.08394767587235254,
          0.2655500722980302,
          0.6099286826155496,
          0.1682917526253539,
          0.7747897075589565,
          0.23934274634084984,
          0.8210519178770213,
          0.22063599656537564,
          0.8471349234557847,
          0.49529640494502053,
          0.27691472106129894,
          0.3178106638480958,
          0.5429343914422009,
          0.7781692136067042,
          0.5717522357880732,
          -0.06887591861859196,
          0.24336529409191338,
          0.13212135207954306,
          0.1978274614540872,
          0.9925327645445675,
          0.6461034979665661,
          0.46389221462865604,
          0.47327010190840435,
          0.5482792757831526,
          0.2909647109928047,
          0.431679994242097,
          0.5274530873501793,
          0.5047237898236411,
          0.2802386891276463,
          0.06377939913563417,
          0.44172230641547827,
          0.25810944890292986,
          0.3552885309908556,
          0.3130895364123156,
          -0.10436260947262566,
          0.3412236710664106
         ],
         "y": [
          0.014661843756935498,
          0.1711837882305822,
          -0.028836665670984658,
          -0.55196732140862,
          -0.16208670182711252,
          -0.3352542823013462,
          0.27860670761361567,
          -0.5501719114764935,
          -0.2820148783551891,
          -0.1227285712547361,
          -0.9160208242170333,
          0.1122436762328727,
          -0.9164836063497228,
          -0.22207741168302073,
          0.03226144600268122,
          0.033484026658819645,
          0.011056037443161285,
          -0.5740600374993006,
          -0.5857249363183032,
          -0.5638563608483744,
          0.3625040907176722,
          -0.16775900789888548,
          -0.48850569358619617,
          -0.49407780726910966,
          -0.18658119080076963,
          -0.043127477993715684,
          -0.3220610170419343,
          0.05736229792718823,
          -0.05980151597408214,
          -0.45520100605476355,
          -0.6078894428180643,
          -0.673580860725525,
          -0.31236351095299786,
          -0.30792364029180197,
          0.008754456949044568,
          0.41577189664360836,
          0.03401859920058951,
          -0.6730746901635349,
          -0.05516995300606884,
          -0.4010458925976662,
          -0.5541687095138772,
          -0.1140382745946982,
          -0.4204026480413203,
          -0.6244818356349121,
          -0.3141305189053449,
          -0.18486742603216216,
          -0.162058299847333,
          -0.1888827712948864,
          -0.27640450793805743,
          -0.2049405915699643
         ],
         "z": [
          -0.05913618465787817,
          0.003334948657870512,
          -0.03632847036737065,
          -0.10913501500450706,
          -0.12717695880819774,
          0.1900661233628862,
          0.09468304318308747,
          0.0006817362562218773,
          -0.022443960886720182,
          0.03364844994143323,
          -0.0915926772852064,
          -0.02157470874431272,
          -0.14855123664018888,
          0.12307101328165856,
          -0.08813249092022607,
          -0.11311293378528456,
          0.18814369579347304,
          0.12437448971380197,
          -0.2760296706730983,
          -0.0083693208903144,
          0.12319346195011643,
          -0.12779590994546738,
          -0.05193776554376474,
          0.19093227188971554,
          -0.07381916081806114,
          -0.11571448298135015,
          -0.0946421693600795,
          -0.07115533344291952,
          0.027198941990962344,
          -0.10765202303010118,
          -0.04920836401101988,
          -0.036380133572953416,
          -0.054231946860888766,
          0.1370178009413845,
          0.25148097763605076,
          0.1474841682150298,
          -0.049466176374071844,
          -0.20953416667626037,
          0.1373251688203263,
          -0.04059463476979763,
          0.1976912554088214,
          0.11910370947437357,
          -0.05026464305360388,
          -0.06525709478242167,
          0.07275209239290213,
          0.19495974618638284,
          0.10962383170632226,
          -0.010481878975483163,
          -0.19416356160562565,
          0.03711614766432777
         ]
        },
        {
         "hovertemplate": "species=Iris-virginica<br>LD1=%{x}<br>LD2=%{y}<br>LD3=%{z}<extra></extra>",
         "legendgroup": "Iris-virginica",
         "marker": {
          "color": "#00cc96",
          "symbol": "circle"
         },
         "mode": "markers",
         "name": "Iris-virginica",
         "scene": "scene",
         "showlegend": true,
         "type": "scatter3d",
         "x": [
          1.7344269163820334,
          1.2177252745356895,
          1.3919855699491623,
          1.2371261891906746,
          1.5152778704165788,
          1.6392148381646339,
          1.0334182521436306,
          1.393918419028605,
          1.397945381584874,
          1.5173587394777883,
          0.9832533996477139,
          1.2056769160806433,
          1.2532956177796795,
          1.318926904374679,
          1.498581581727975,
          1.2868345895613313,
          1.118540146166099,
          1.458985901505039,
          2.0285460938110966,
          1.052154741904983,
          1.3893497263797976,
          1.1862567166275142,
          1.6747059438238734,
          0.9678062503467758,
          1.2653395614295204,
          1.164772143683436,
          0.903482430348725,
          0.9014615140741211,
          1.4422296600298288,
          1.0106306274078094,
          1.376534005843018,
          1.1520851583302794,
          1.5052355582431975,
          0.8410914594301168,
          1.1237969633118887,
          1.5059490079208524,
          1.4442956590980998,
          1.1024543699670502,
          0.8713108779506273,
          1.1527969824306121,
          1.4744655800197377,
          1.1340946474603428,
          1.2177252745356895,
          1.5039132216533098,
          1.5173631542829944,
          1.252680690484919,
          1.1473965601082603,
          1.0998378111958302,
          1.3029010809622361,
          1.0341124170231413
         ],
         "y": [
          0.7395157780493791,
          -0.015415699015000933,
          0.16183901713103702,
          -0.11990227297328844,
          0.2857825389218386,
          -0.06045599041358893,
          -0.17776338513301965,
          -0.3364433292826228,
          -0.4822988149726533,
          0.9436766108064899,
          0.4682132453320981,
          -0.07366780289834161,
          0.2887003371212437,
          -0.036639654799861844,
          0.5513942183420057,
          0.6967151314902668,
          -0.009561555390849423,
          0.6100719329847448,
          -0.26234364465636256,
          -0.7509186302266472,
          0.5721553919941768,
          0.22117012085235568,
          -0.34107489225063625,
          -0.042774743004324225,
          0.4487748447249248,
          -0.013476708264714104,
          0.06411360383693958,
          0.1813058197179895,
          0.10059732463921103,
          -0.295780972890589,
          -0.24732656748504453,
          0.5135691003467855,
          0.19886716522951728,
          -0.32728039573545636,
          -0.7416653590450599,
          0.3001265944283085,
          0.8470203425959317,
          0.0647483687675691,
          0.21273345215377668,
          0.39789026445662434,
          0.6252413603677348,
          0.6921652136857727,
          -0.015415699015000933,
          0.5058477563814275,
          0.8418542070861488,
          0.5818244961033333,
          -0.1280047539078176,
          0.28471339383829863,
          0.812756557124258,
          0.11384739385818209
         ],
         "z": [
          0.1321789449390492,
          0.04715790969584501,
          -0.05795534925714249,
          0.19960827931001301,
          0.04275327798324541,
          0.0513639036088894,
          0.13634178293031055,
          0.15058432756960038,
          0.012327943004717618,
          -0.011790759075848093,
          -0.05423735052911031,
          -0.06637894798260972,
          -0.11589940219183412,
          -0.07901704790492084,
          -0.17390052200032974,
          -0.09929089484665972,
          0.13230369366015027,
          0.28102855318837144,
          -0.10480446473331113,
          -0.021504919207322393,
          -0.10468412375454618,
          0.017224669443792775,
          0.040458100740236556,
          -0.136594558397173,
          0.09505479693079807,
          0.17035105706903475,
          -0.10889322128316928,
          0.029553293797469012,
          -0.019527724816748387,
          0.12746713771045787,
          -0.04289521568102853,
          0.20511023829728672,
          -0.07059344917945437,
          0.12734779265757815,
          0.3643978882513505,
          -0.27362365566100927,
          0.06456488372055134,
          0.1982425246987939,
          0.02298444079411815,
          -0.15153534692040796,
          -0.16492025031666857,
          -0.3683792774197385,
          0.04715790969584501,
          0.0034595050160220343,
          -0.10920810052002533,
          -0.3010746917698755,
          -0.21796316906994861,
          -0.08454023683918002,
          0.07082426115526723,
          0.16936556348932563
         ]
        }
       ],
       "layout": {
        "legend": {
         "title": {
          "text": "species"
         },
         "tracegroupgap": 0
        },
        "scene": {
         "domain": {
          "x": [
           0,
           1
          ],
          "y": [
           0,
           1
          ]
         },
         "xaxis": {
          "title": {
           "text": "LD1"
          }
         },
         "yaxis": {
          "title": {
           "text": "LD2"
          }
         },
         "zaxis": {
          "title": {
           "text": "LD3"
          }
         }
        },
        "template": {
         "data": {
          "bar": [
           {
            "error_x": {
             "color": "#2a3f5f"
            },
            "error_y": {
             "color": "#2a3f5f"
            },
            "marker": {
             "line": {
              "color": "#E5ECF6",
              "width": 0.5
             },
             "pattern": {
              "fillmode": "overlay",
              "size": 10,
              "solidity": 0.2
             }
            },
            "type": "bar"
           }
          ],
          "barpolar": [
           {
            "marker": {
             "line": {
              "color": "#E5ECF6",
              "width": 0.5
             },
             "pattern": {
              "fillmode": "overlay",
              "size": 10,
              "solidity": 0.2
             }
            },
            "type": "barpolar"
           }
          ],
          "carpet": [
           {
            "aaxis": {
             "endlinecolor": "#2a3f5f",
             "gridcolor": "white",
             "linecolor": "white",
             "minorgridcolor": "white",
             "startlinecolor": "#2a3f5f"
            },
            "baxis": {
             "endlinecolor": "#2a3f5f",
             "gridcolor": "white",
             "linecolor": "white",
             "minorgridcolor": "white",
             "startlinecolor": "#2a3f5f"
            },
            "type": "carpet"
           }
          ],
          "choropleth": [
           {
            "colorbar": {
             "outlinewidth": 0,
             "ticks": ""
            },
            "type": "choropleth"
           }
          ],
          "contour": [
           {
            "colorbar": {
             "outlinewidth": 0,
             "ticks": ""
            },
            "colorscale": [
             [
              0,
              "#0d0887"
             ],
             [
              0.1111111111111111,
              "#46039f"
             ],
             [
              0.2222222222222222,
              "#7201a8"
             ],
             [
              0.3333333333333333,
              "#9c179e"
             ],
             [
              0.4444444444444444,
              "#bd3786"
             ],
             [
              0.5555555555555556,
              "#d8576b"
             ],
             [
              0.6666666666666666,
              "#ed7953"
             ],
             [
              0.7777777777777778,
              "#fb9f3a"
             ],
             [
              0.8888888888888888,
              "#fdca26"
             ],
             [
              1,
              "#f0f921"
             ]
            ],
            "type": "contour"
           }
          ],
          "contourcarpet": [
           {
            "colorbar": {
             "outlinewidth": 0,
             "ticks": ""
            },
            "type": "contourcarpet"
           }
          ],
          "heatmap": [
           {
            "colorbar": {
             "outlinewidth": 0,
             "ticks": ""
            },
            "colorscale": [
             [
              0,
              "#0d0887"
             ],
             [
              0.1111111111111111,
              "#46039f"
             ],
             [
              0.2222222222222222,
              "#7201a8"
             ],
             [
              0.3333333333333333,
              "#9c179e"
             ],
             [
              0.4444444444444444,
              "#bd3786"
             ],
             [
              0.5555555555555556,
              "#d8576b"
             ],
             [
              0.6666666666666666,
              "#ed7953"
             ],
             [
              0.7777777777777778,
              "#fb9f3a"
             ],
             [
              0.8888888888888888,
              "#fdca26"
             ],
             [
              1,
              "#f0f921"
             ]
            ],
            "type": "heatmap"
           }
          ],
          "heatmapgl": [
           {
            "colorbar": {
             "outlinewidth": 0,
             "ticks": ""
            },
            "colorscale": [
             [
              0,
              "#0d0887"
             ],
             [
              0.1111111111111111,
              "#46039f"
             ],
             [
              0.2222222222222222,
              "#7201a8"
             ],
             [
              0.3333333333333333,
              "#9c179e"
             ],
             [
              0.4444444444444444,
              "#bd3786"
             ],
             [
              0.5555555555555556,
              "#d8576b"
             ],
             [
              0.6666666666666666,
              "#ed7953"
             ],
             [
              0.7777777777777778,
              "#fb9f3a"
             ],
             [
              0.8888888888888888,
              "#fdca26"
             ],
             [
              1,
              "#f0f921"
             ]
            ],
            "type": "heatmapgl"
           }
          ],
          "histogram": [
           {
            "marker": {
             "pattern": {
              "fillmode": "overlay",
              "size": 10,
              "solidity": 0.2
             }
            },
            "type": "histogram"
           }
          ],
          "histogram2d": [
           {
            "colorbar": {
             "outlinewidth": 0,
             "ticks": ""
            },
            "colorscale": [
             [
              0,
              "#0d0887"
             ],
             [
              0.1111111111111111,
              "#46039f"
             ],
             [
              0.2222222222222222,
              "#7201a8"
             ],
             [
              0.3333333333333333,
              "#9c179e"
             ],
             [
              0.4444444444444444,
              "#bd3786"
             ],
             [
              0.5555555555555556,
              "#d8576b"
             ],
             [
              0.6666666666666666,
              "#ed7953"
             ],
             [
              0.7777777777777778,
              "#fb9f3a"
             ],
             [
              0.8888888888888888,
              "#fdca26"
             ],
             [
              1,
              "#f0f921"
             ]
            ],
            "type": "histogram2d"
           }
          ],
          "histogram2dcontour": [
           {
            "colorbar": {
             "outlinewidth": 0,
             "ticks": ""
            },
            "colorscale": [
             [
              0,
              "#0d0887"
             ],
             [
              0.1111111111111111,
              "#46039f"
             ],
             [
              0.2222222222222222,
              "#7201a8"
             ],
             [
              0.3333333333333333,
              "#9c179e"
             ],
             [
              0.4444444444444444,
              "#bd3786"
             ],
             [
              0.5555555555555556,
              "#d8576b"
             ],
             [
              0.6666666666666666,
              "#ed7953"
             ],
             [
              0.7777777777777778,
              "#fb9f3a"
             ],
             [
              0.8888888888888888,
              "#fdca26"
             ],
             [
              1,
              "#f0f921"
             ]
            ],
            "type": "histogram2dcontour"
           }
          ],
          "mesh3d": [
           {
            "colorbar": {
             "outlinewidth": 0,
             "ticks": ""
            },
            "type": "mesh3d"
           }
          ],
          "parcoords": [
           {
            "line": {
             "colorbar": {
              "outlinewidth": 0,
              "ticks": ""
             }
            },
            "type": "parcoords"
           }
          ],
          "pie": [
           {
            "automargin": true,
            "type": "pie"
           }
          ],
          "scatter": [
           {
            "fillpattern": {
             "fillmode": "overlay",
             "size": 10,
             "solidity": 0.2
            },
            "type": "scatter"
           }
          ],
          "scatter3d": [
           {
            "line": {
             "colorbar": {
              "outlinewidth": 0,
              "ticks": ""
             }
            },
            "marker": {
             "colorbar": {
              "outlinewidth": 0,
              "ticks": ""
             }
            },
            "type": "scatter3d"
           }
          ],
          "scattercarpet": [
           {
            "marker": {
             "colorbar": {
              "outlinewidth": 0,
              "ticks": ""
             }
            },
            "type": "scattercarpet"
           }
          ],
          "scattergeo": [
           {
            "marker": {
             "colorbar": {
              "outlinewidth": 0,
              "ticks": ""
             }
            },
            "type": "scattergeo"
           }
          ],
          "scattergl": [
           {
            "marker": {
             "colorbar": {
              "outlinewidth": 0,
              "ticks": ""
             }
            },
            "type": "scattergl"
           }
          ],
          "scattermapbox": [
           {
            "marker": {
             "colorbar": {
              "outlinewidth": 0,
              "ticks": ""
             }
            },
            "type": "scattermapbox"
           }
          ],
          "scatterpolar": [
           {
            "marker": {
             "colorbar": {
              "outlinewidth": 0,
              "ticks": ""
             }
            },
            "type": "scatterpolar"
           }
          ],
          "scatterpolargl": [
           {
            "marker": {
             "colorbar": {
              "outlinewidth": 0,
              "ticks": ""
             }
            },
            "type": "scatterpolargl"
           }
          ],
          "scatterternary": [
           {
            "marker": {
             "colorbar": {
              "outlinewidth": 0,
              "ticks": ""
             }
            },
            "type": "scatterternary"
           }
          ],
          "surface": [
           {
            "colorbar": {
             "outlinewidth": 0,
             "ticks": ""
            },
            "colorscale": [
             [
              0,
              "#0d0887"
             ],
             [
              0.1111111111111111,
              "#46039f"
             ],
             [
              0.2222222222222222,
              "#7201a8"
             ],
             [
              0.3333333333333333,
              "#9c179e"
             ],
             [
              0.4444444444444444,
              "#bd3786"
             ],
             [
              0.5555555555555556,
              "#d8576b"
             ],
             [
              0.6666666666666666,
              "#ed7953"
             ],
             [
              0.7777777777777778,
              "#fb9f3a"
             ],
             [
              0.8888888888888888,
              "#fdca26"
             ],
             [
              1,
              "#f0f921"
             ]
            ],
            "type": "surface"
           }
          ],
          "table": [
           {
            "cells": {
             "fill": {
              "color": "#EBF0F8"
             },
             "line": {
              "color": "white"
             }
            },
            "header": {
             "fill": {
              "color": "#C8D4E3"
             },
             "line": {
              "color": "white"
             }
            },
            "type": "table"
           }
          ]
         },
         "layout": {
          "annotationdefaults": {
           "arrowcolor": "#2a3f5f",
           "arrowhead": 0,
           "arrowwidth": 1
          },
          "autotypenumbers": "strict",
          "coloraxis": {
           "colorbar": {
            "outlinewidth": 0,
            "ticks": ""
           }
          },
          "colorscale": {
           "diverging": [
            [
             0,
             "#8e0152"
            ],
            [
             0.1,
             "#c51b7d"
            ],
            [
             0.2,
             "#de77ae"
            ],
            [
             0.3,
             "#f1b6da"
            ],
            [
             0.4,
             "#fde0ef"
            ],
            [
             0.5,
             "#f7f7f7"
            ],
            [
             0.6,
             "#e6f5d0"
            ],
            [
             0.7,
             "#b8e186"
            ],
            [
             0.8,
             "#7fbc41"
            ],
            [
             0.9,
             "#4d9221"
            ],
            [
             1,
             "#276419"
            ]
           ],
           "sequential": [
            [
             0,
             "#0d0887"
            ],
            [
             0.1111111111111111,
             "#46039f"
            ],
            [
             0.2222222222222222,
             "#7201a8"
            ],
            [
             0.3333333333333333,
             "#9c179e"
            ],
            [
             0.4444444444444444,
             "#bd3786"
            ],
            [
             0.5555555555555556,
             "#d8576b"
            ],
            [
             0.6666666666666666,
             "#ed7953"
            ],
            [
             0.7777777777777778,
             "#fb9f3a"
            ],
            [
             0.8888888888888888,
             "#fdca26"
            ],
            [
             1,
             "#f0f921"
            ]
           ],
           "sequentialminus": [
            [
             0,
             "#0d0887"
            ],
            [
             0.1111111111111111,
             "#46039f"
            ],
            [
             0.2222222222222222,
             "#7201a8"
            ],
            [
             0.3333333333333333,
             "#9c179e"
            ],
            [
             0.4444444444444444,
             "#bd3786"
            ],
            [
             0.5555555555555556,
             "#d8576b"
            ],
            [
             0.6666666666666666,
             "#ed7953"
            ],
            [
             0.7777777777777778,
             "#fb9f3a"
            ],
            [
             0.8888888888888888,
             "#fdca26"
            ],
            [
             1,
             "#f0f921"
            ]
           ]
          },
          "colorway": [
           "#636efa",
           "#EF553B",
           "#00cc96",
           "#ab63fa",
           "#FFA15A",
           "#19d3f3",
           "#FF6692",
           "#B6E880",
           "#FF97FF",
           "#FECB52"
          ],
          "font": {
           "color": "#2a3f5f"
          },
          "geo": {
           "bgcolor": "white",
           "lakecolor": "white",
           "landcolor": "#E5ECF6",
           "showlakes": true,
           "showland": true,
           "subunitcolor": "white"
          },
          "hoverlabel": {
           "align": "left"
          },
          "hovermode": "closest",
          "mapbox": {
           "style": "light"
          },
          "paper_bgcolor": "white",
          "plot_bgcolor": "#E5ECF6",
          "polar": {
           "angularaxis": {
            "gridcolor": "white",
            "linecolor": "white",
            "ticks": ""
           },
           "bgcolor": "#E5ECF6",
           "radialaxis": {
            "gridcolor": "white",
            "linecolor": "white",
            "ticks": ""
           }
          },
          "scene": {
           "xaxis": {
            "backgroundcolor": "#E5ECF6",
            "gridcolor": "white",
            "gridwidth": 2,
            "linecolor": "white",
            "showbackground": true,
            "ticks": "",
            "zerolinecolor": "white"
           },
           "yaxis": {
            "backgroundcolor": "#E5ECF6",
            "gridcolor": "white",
            "gridwidth": 2,
            "linecolor": "white",
            "showbackground": true,
            "ticks": "",
            "zerolinecolor": "white"
           },
           "zaxis": {
            "backgroundcolor": "#E5ECF6",
            "gridcolor": "white",
            "gridwidth": 2,
            "linecolor": "white",
            "showbackground": true,
            "ticks": "",
            "zerolinecolor": "white"
           }
          },
          "shapedefaults": {
           "line": {
            "color": "#2a3f5f"
           }
          },
          "ternary": {
           "aaxis": {
            "gridcolor": "white",
            "linecolor": "white",
            "ticks": ""
           },
           "baxis": {
            "gridcolor": "white",
            "linecolor": "white",
            "ticks": ""
           },
           "bgcolor": "#E5ECF6",
           "caxis": {
            "gridcolor": "white",
            "linecolor": "white",
            "ticks": ""
           }
          },
          "title": {
           "x": 0.05
          },
          "xaxis": {
           "automargin": true,
           "gridcolor": "white",
           "linecolor": "white",
           "ticks": "",
           "title": {
            "standoff": 15
           },
           "zerolinecolor": "white",
           "zerolinewidth": 2
          },
          "yaxis": {
           "automargin": true,
           "gridcolor": "white",
           "linecolor": "white",
           "ticks": "",
           "title": {
            "standoff": 15
           },
           "zerolinecolor": "white",
           "zerolinewidth": 2
          }
         }
        },
        "title": {
         "text": "LDA on IRIS dataset"
        }
       }
      }
     },
     "metadata": {},
     "output_type": "display_data"
    }
   ],
   "source": [
    "#for 3 components\n",
    "transformed_data = LDA(iris,3)\n",
    "fig = px.scatter_3d(transformed_data, x=\"LD1\", y=\"LD2\", z=\"LD3\", color=\"species\", title=\"LDA on IRIS dataset\")\n",
    "fig.show()"
   ]
  },
  {
   "cell_type": "code",
   "execution_count": 48,
   "metadata": {},
   "outputs": [
    {
     "data": {
      "application/vnd.plotly.v1+json": {
       "config": {
        "plotlyServerURL": "https://plot.ly"
       },
       "data": [
        {
         "dimensions": [
          {
           "axis": {
            "matches": true
           },
           "label": "LD1",
           "values": [
            -1.7849562329225446,
            -1.5779154981987422,
            -1.6583250943958416,
            -1.509588415247772,
            -1.8010420091215935,
            -1.7051852636235556,
            -1.5973401124570772,
            -1.684457597573477,
            -1.4533052759466434,
            -1.6268565364876657,
            -1.8593267798991822,
            -1.6000447384234584,
            -1.6228339887366023,
            -1.6771110817560662,
            -2.1789100936218926,
            -2.02678949362087,
            -1.898137438819563,
            -1.721950334709176,
            -1.7882802009888918,
            -1.7762318425338455,
            -1.660331140677507,
            -1.6790527604459198,
            -1.9216445536155677,
            -1.382878039136319,
            -1.455330607026453,
            -1.4995268182762465,
            -1.5102077573477382,
            -1.754805596799051,
            -1.7688704567234959,
            -1.513610962998836,
            -1.497525186799787,
            -1.6307954318487734,
            -2.022850598259762,
            -2.096518150746478,
            -1.6268565364876657,
            -1.760825361221369,
            -1.9055439074235798,
            -1.6268565364876657,
            -1.5357165036202023,
            -1.7025450052489854,
            -1.7521009708326696,
            -1.2515857259604417,
            -1.6040628713693166,
            -1.4183691447955584,
            -1.5202737691244694,
            -1.4968221923098652,
            -1.790999696948212,
            -1.5919996429213314,
            -1.8412393722236737,
            -1.698522457497922
           ]
          },
          {
           "axis": {
            "matches": true
           },
           "label": "LD2",
           "values": [
            0.11502883372948389,
            -0.26457631879201726,
            -0.08337804779233485,
            -0.22514639781056103,
            0.1893387578879023,
            0.5191284752246422,
            0.13208400867902112,
            0.005838906394102983,
            -0.345790984432786,
            -0.3199638676596917,
            0.23682421059876732,
            -0.029041096782859176,
            -0.3639969496293815,
            -0.2720156328161372,
            0.5655447828519679,
            0.9650412633588928,
            0.6494421659560238,
            0.21329867431978997,
            0.3488502909700344,
            0.40710239485337474,
            -0.054714777983354244,
            0.4299115210382044,
            0.31504928763105056,
            0.16118165864091186,
            -0.12677636483139534,
            -0.3285823739106498,
            0.16980016489186978,
            0.08360120129369672,
            0.040718909571065255,
            -0.18111331584087112,
            -0.2554232399992896,
            0.2069817485629487,
            0.43809564713625176,
            0.6478569955560555,
            -0.3199638676596917,
            -0.04734725436831413,
            0.1522104174005626,
            -0.3199638676596917,
            -0.23775184734446378,
            0.006989696641161314,
            0.2447263067555769,
            -0.6665562173454376,
            -0.08683041853350995,
            0.44180056047795857,
            0.37505854471229927,
            -0.16745726844876954,
            0.27625413158022327,
            -0.11710726072223857,
            0.23567342035170888,
            -0.037043385328528376
           ]
          },
          {
           "axis": {
            "matches": true
           },
           "label": "LD3",
           "values": [
            -0.0036700439619593564,
            -0.11168371270615496,
            -0.018043544553506985,
            0.05582989409970657,
            0.06226878707668426,
            0.05098582679209918,
            0.06933724616442488,
            0.0319659007666146,
            0.012389301782935182,
            0.011889695698545331,
            0.008101907433522683,
            0.13354067653383217,
            -0.028949347422160078,
            0.014681375410366258,
            -0.13047456767348797,
            0.05085586676572685,
            -0.10196414890645898,
            -0.05473576832466525,
            -0.027224561726416456,
            0.08631229595203849,
            -0.018233675069262434,
            0.0009763814719780486,
            0.03599337506328204,
            -0.11069511551086764,
            0.24825315830775074,
            -0.0668773657781645,
            -0.0319280540341576,
            0.0028988090413912823,
            -0.0696088750006032,
            0.0966689372204117,
            0.03073010618176819,
            -0.1968401116439532,
            0.25958567410822503,
            0.10954672317436753,
            0.011889695698545331,
            -0.15128696124201357,
            -0.16858210157175468,
            0.011889695698545331,
            0.008421997975650465,
            0.0002972598453258046,
            -0.06130462132801578,
            -0.3142036981298271,
            0.07696237821035984,
            -0.09978931264221459,
            0.18819654728789073,
            -0.1310807961475718,
            0.17561551423938399,
            0.05186259029242152,
            0.03977054835481186,
            -0.04054178327537994
           ]
          },
          {
           "axis": {
            "matches": true
           },
           "label": "LD4",
           "values": [
            -0.0036700439619593564,
            -0.11168371270615496,
            -0.018043544553506985,
            0.05582989409970657,
            0.06226878707668426,
            0.05098582679209918,
            0.06933724616442488,
            0.0319659007666146,
            0.012389301782935182,
            0.011889695698545331,
            0.008101907433522683,
            0.13354067653383217,
            -0.028949347422160078,
            0.014681375410366258,
            -0.13047456767348797,
            0.05085586676572685,
            -0.10196414890645898,
            -0.05473576832466525,
            -0.027224561726416456,
            0.08631229595203849,
            -0.018233675069262434,
            0.0009763814719780486,
            0.03599337506328204,
            -0.11069511551086764,
            0.24825315830775074,
            -0.0668773657781645,
            -0.0319280540341576,
            0.0028988090413912823,
            -0.0696088750006032,
            0.0966689372204117,
            0.03073010618176819,
            -0.1968401116439532,
            0.25958567410822503,
            0.10954672317436753,
            0.011889695698545331,
            -0.15128696124201357,
            -0.16858210157175468,
            0.011889695698545331,
            0.008421997975650465,
            0.0002972598453258046,
            -0.06130462132801578,
            -0.3142036981298271,
            0.07696237821035984,
            -0.09978931264221459,
            0.18819654728789073,
            -0.1310807961475718,
            0.17561551423938399,
            0.05186259029242152,
            0.03977054835481186,
            -0.04054178327537994
           ]
          }
         ],
         "hovertemplate": "species=Iris-setosa<br>%{xaxis.title.text}=%{x}<br>%{yaxis.title.text}=%{y}<extra></extra>",
         "legendgroup": "Iris-setosa",
         "marker": {
          "color": "#636efa",
          "symbol": "circle"
         },
         "name": "Iris-setosa",
         "showlegend": true,
         "type": "splom"
        },
        {
         "dimensions": [
          {
           "axis": {
            "matches": true
           },
           "label": "LD1",
           "values": [
            0.3218287967939536,
            0.39688305346236824,
            0.5335713741553915,
            0.5000263619912114,
            0.5637264250840904,
            0.5341758462624185,
            0.5402792630746921,
            0.04769362293658529,
            0.38545403710728804,
            0.43236370393387413,
            0.2627750383573094,
            0.4109523281920187,
            0.2547448128481212,
            0.5871350174972003,
            0.08394767587235254,
            0.2655500722980302,
            0.6099286826155496,
            0.1682917526253539,
            0.7747897075589565,
            0.23934274634084984,
            0.8210519178770213,
            0.22063599656537564,
            0.8471349234557847,
            0.49529640494502053,
            0.27691472106129894,
            0.3178106638480958,
            0.5429343914422009,
            0.7781692136067042,
            0.5717522357880732,
            -0.06887591861859196,
            0.24336529409191338,
            0.13212135207954306,
            0.1978274614540872,
            0.9925327645445675,
            0.6461034979665661,
            0.46389221462865604,
            0.47327010190840435,
            0.5482792757831526,
            0.2909647109928047,
            0.431679994242097,
            0.5274530873501793,
            0.5047237898236411,
            0.2802386891276463,
            0.06377939913563417,
            0.44172230641547827,
            0.25810944890292986,
            0.3552885309908556,
            0.3130895364123156,
            -0.10436260947262566,
            0.3412236710664106
           ]
          },
          {
           "axis": {
            "matches": true
           },
           "label": "LD2",
           "values": [
            0.014661843756935498,
            0.1711837882305822,
            -0.028836665670984658,
            -0.55196732140862,
            -0.16208670182711252,
            -0.3352542823013462,
            0.27860670761361567,
            -0.5501719114764935,
            -0.2820148783551891,
            -0.1227285712547361,
            -0.9160208242170333,
            0.1122436762328727,
            -0.9164836063497228,
            -0.22207741168302073,
            0.03226144600268122,
            0.033484026658819645,
            0.011056037443161285,
            -0.5740600374993006,
            -0.5857249363183032,
            -0.5638563608483744,
            0.3625040907176722,
            -0.16775900789888548,
            -0.48850569358619617,
            -0.49407780726910966,
            -0.18658119080076963,
            -0.043127477993715684,
            -0.3220610170419343,
            0.05736229792718823,
            -0.05980151597408214,
            -0.45520100605476355,
            -0.6078894428180643,
            -0.673580860725525,
            -0.31236351095299786,
            -0.30792364029180197,
            0.008754456949044568,
            0.41577189664360836,
            0.03401859920058951,
            -0.6730746901635349,
            -0.05516995300606884,
            -0.4010458925976662,
            -0.5541687095138772,
            -0.1140382745946982,
            -0.4204026480413203,
            -0.6244818356349121,
            -0.3141305189053449,
            -0.18486742603216216,
            -0.162058299847333,
            -0.1888827712948864,
            -0.27640450793805743,
            -0.2049405915699643
           ]
          },
          {
           "axis": {
            "matches": true
           },
           "label": "LD3",
           "values": [
            -0.05913618465787817,
            0.003334948657870512,
            -0.03632847036737065,
            -0.10913501500450706,
            -0.12717695880819774,
            0.1900661233628862,
            0.09468304318308747,
            0.0006817362562218773,
            -0.022443960886720182,
            0.03364844994143323,
            -0.0915926772852064,
            -0.02157470874431272,
            -0.14855123664018888,
            0.12307101328165856,
            -0.08813249092022607,
            -0.11311293378528456,
            0.18814369579347304,
            0.12437448971380197,
            -0.2760296706730983,
            -0.0083693208903144,
            0.12319346195011643,
            -0.12779590994546738,
            -0.05193776554376474,
            0.19093227188971554,
            -0.07381916081806114,
            -0.11571448298135015,
            -0.0946421693600795,
            -0.07115533344291952,
            0.027198941990962344,
            -0.10765202303010118,
            -0.04920836401101988,
            -0.036380133572953416,
            -0.054231946860888766,
            0.1370178009413845,
            0.25148097763605076,
            0.1474841682150298,
            -0.049466176374071844,
            -0.20953416667626037,
            0.1373251688203263,
            -0.04059463476979763,
            0.1976912554088214,
            0.11910370947437357,
            -0.05026464305360388,
            -0.06525709478242167,
            0.07275209239290213,
            0.19495974618638284,
            0.10962383170632226,
            -0.010481878975483163,
            -0.19416356160562565,
            0.03711614766432777
           ]
          },
          {
           "axis": {
            "matches": true
           },
           "label": "LD4",
           "values": [
            -0.05913618465787817,
            0.003334948657870512,
            -0.03632847036737065,
            -0.10913501500450706,
            -0.12717695880819774,
            0.1900661233628862,
            0.09468304318308747,
            0.0006817362562218773,
            -0.022443960886720182,
            0.03364844994143323,
            -0.0915926772852064,
            -0.02157470874431272,
            -0.14855123664018888,
            0.12307101328165856,
            -0.08813249092022607,
            -0.11311293378528456,
            0.18814369579347304,
            0.12437448971380197,
            -0.2760296706730983,
            -0.0083693208903144,
            0.12319346195011643,
            -0.12779590994546738,
            -0.05193776554376474,
            0.19093227188971554,
            -0.07381916081806114,
            -0.11571448298135015,
            -0.0946421693600795,
            -0.07115533344291952,
            0.027198941990962344,
            -0.10765202303010118,
            -0.04920836401101988,
            -0.036380133572953416,
            -0.054231946860888766,
            0.1370178009413845,
            0.25148097763605076,
            0.1474841682150298,
            -0.049466176374071844,
            -0.20953416667626037,
            0.1373251688203263,
            -0.04059463476979763,
            0.1976912554088214,
            0.11910370947437357,
            -0.05026464305360388,
            -0.06525709478242167,
            0.07275209239290213,
            0.19495974618638284,
            0.10962383170632226,
            -0.010481878975483163,
            -0.19416356160562565,
            0.03711614766432777
           ]
          }
         ],
         "hovertemplate": "species=Iris-versicolor<br>%{xaxis.title.text}=%{x}<br>%{yaxis.title.text}=%{y}<extra></extra>",
         "legendgroup": "Iris-versicolor",
         "marker": {
          "color": "#EF553B",
          "symbol": "circle"
         },
         "name": "Iris-versicolor",
         "showlegend": true,
         "type": "splom"
        },
        {
         "dimensions": [
          {
           "axis": {
            "matches": true
           },
           "label": "LD1",
           "values": [
            1.7344269163820334,
            1.2177252745356895,
            1.3919855699491623,
            1.2371261891906746,
            1.5152778704165788,
            1.6392148381646339,
            1.0334182521436306,
            1.393918419028605,
            1.397945381584874,
            1.5173587394777883,
            0.9832533996477139,
            1.2056769160806433,
            1.2532956177796795,
            1.318926904374679,
            1.498581581727975,
            1.2868345895613313,
            1.118540146166099,
            1.458985901505039,
            2.0285460938110966,
            1.052154741904983,
            1.3893497263797976,
            1.1862567166275142,
            1.6747059438238734,
            0.9678062503467758,
            1.2653395614295204,
            1.164772143683436,
            0.903482430348725,
            0.9014615140741211,
            1.4422296600298288,
            1.0106306274078094,
            1.376534005843018,
            1.1520851583302794,
            1.5052355582431975,
            0.8410914594301168,
            1.1237969633118887,
            1.5059490079208524,
            1.4442956590980998,
            1.1024543699670502,
            0.8713108779506273,
            1.1527969824306121,
            1.4744655800197377,
            1.1340946474603428,
            1.2177252745356895,
            1.5039132216533098,
            1.5173631542829944,
            1.252680690484919,
            1.1473965601082603,
            1.0998378111958302,
            1.3029010809622361,
            1.0341124170231413
           ]
          },
          {
           "axis": {
            "matches": true
           },
           "label": "LD2",
           "values": [
            0.7395157780493791,
            -0.015415699015000933,
            0.16183901713103702,
            -0.11990227297328844,
            0.2857825389218386,
            -0.06045599041358893,
            -0.17776338513301965,
            -0.3364433292826228,
            -0.4822988149726533,
            0.9436766108064899,
            0.4682132453320981,
            -0.07366780289834161,
            0.2887003371212437,
            -0.036639654799861844,
            0.5513942183420057,
            0.6967151314902668,
            -0.009561555390849423,
            0.6100719329847448,
            -0.26234364465636256,
            -0.7509186302266472,
            0.5721553919941768,
            0.22117012085235568,
            -0.34107489225063625,
            -0.042774743004324225,
            0.4487748447249248,
            -0.013476708264714104,
            0.06411360383693958,
            0.1813058197179895,
            0.10059732463921103,
            -0.295780972890589,
            -0.24732656748504453,
            0.5135691003467855,
            0.19886716522951728,
            -0.32728039573545636,
            -0.7416653590450599,
            0.3001265944283085,
            0.8470203425959317,
            0.0647483687675691,
            0.21273345215377668,
            0.39789026445662434,
            0.6252413603677348,
            0.6921652136857727,
            -0.015415699015000933,
            0.5058477563814275,
            0.8418542070861488,
            0.5818244961033333,
            -0.1280047539078176,
            0.28471339383829863,
            0.812756557124258,
            0.11384739385818209
           ]
          },
          {
           "axis": {
            "matches": true
           },
           "label": "LD3",
           "values": [
            0.1321789449390492,
            0.04715790969584501,
            -0.05795534925714249,
            0.19960827931001301,
            0.04275327798324541,
            0.0513639036088894,
            0.13634178293031055,
            0.15058432756960038,
            0.012327943004717618,
            -0.011790759075848093,
            -0.05423735052911031,
            -0.06637894798260972,
            -0.11589940219183412,
            -0.07901704790492084,
            -0.17390052200032974,
            -0.09929089484665972,
            0.13230369366015027,
            0.28102855318837144,
            -0.10480446473331113,
            -0.021504919207322393,
            -0.10468412375454618,
            0.017224669443792775,
            0.040458100740236556,
            -0.136594558397173,
            0.09505479693079807,
            0.17035105706903475,
            -0.10889322128316928,
            0.029553293797469012,
            -0.019527724816748387,
            0.12746713771045787,
            -0.04289521568102853,
            0.20511023829728672,
            -0.07059344917945437,
            0.12734779265757815,
            0.3643978882513505,
            -0.27362365566100927,
            0.06456488372055134,
            0.1982425246987939,
            0.02298444079411815,
            -0.15153534692040796,
            -0.16492025031666857,
            -0.3683792774197385,
            0.04715790969584501,
            0.0034595050160220343,
            -0.10920810052002533,
            -0.3010746917698755,
            -0.21796316906994861,
            -0.08454023683918002,
            0.07082426115526723,
            0.16936556348932563
           ]
          },
          {
           "axis": {
            "matches": true
           },
           "label": "LD4",
           "values": [
            0.1321789449390492,
            0.04715790969584501,
            -0.05795534925714249,
            0.19960827931001301,
            0.04275327798324541,
            0.0513639036088894,
            0.13634178293031055,
            0.15058432756960038,
            0.012327943004717618,
            -0.011790759075848093,
            -0.05423735052911031,
            -0.06637894798260972,
            -0.11589940219183412,
            -0.07901704790492084,
            -0.17390052200032974,
            -0.09929089484665972,
            0.13230369366015027,
            0.28102855318837144,
            -0.10480446473331113,
            -0.021504919207322393,
            -0.10468412375454618,
            0.017224669443792775,
            0.040458100740236556,
            -0.136594558397173,
            0.09505479693079807,
            0.17035105706903475,
            -0.10889322128316928,
            0.029553293797469012,
            -0.019527724816748387,
            0.12746713771045787,
            -0.04289521568102853,
            0.20511023829728672,
            -0.07059344917945437,
            0.12734779265757815,
            0.3643978882513505,
            -0.27362365566100927,
            0.06456488372055134,
            0.1982425246987939,
            0.02298444079411815,
            -0.15153534692040796,
            -0.16492025031666857,
            -0.3683792774197385,
            0.04715790969584501,
            0.0034595050160220343,
            -0.10920810052002533,
            -0.3010746917698755,
            -0.21796316906994861,
            -0.08454023683918002,
            0.07082426115526723,
            0.16936556348932563
           ]
          }
         ],
         "hovertemplate": "species=Iris-virginica<br>%{xaxis.title.text}=%{x}<br>%{yaxis.title.text}=%{y}<extra></extra>",
         "legendgroup": "Iris-virginica",
         "marker": {
          "color": "#00cc96",
          "symbol": "circle"
         },
         "name": "Iris-virginica",
         "showlegend": true,
         "type": "splom"
        }
       ],
       "layout": {
        "dragmode": "select",
        "legend": {
         "title": {
          "text": "species"
         },
         "tracegroupgap": 0
        },
        "template": {
         "data": {
          "bar": [
           {
            "error_x": {
             "color": "#2a3f5f"
            },
            "error_y": {
             "color": "#2a3f5f"
            },
            "marker": {
             "line": {
              "color": "#E5ECF6",
              "width": 0.5
             },
             "pattern": {
              "fillmode": "overlay",
              "size": 10,
              "solidity": 0.2
             }
            },
            "type": "bar"
           }
          ],
          "barpolar": [
           {
            "marker": {
             "line": {
              "color": "#E5ECF6",
              "width": 0.5
             },
             "pattern": {
              "fillmode": "overlay",
              "size": 10,
              "solidity": 0.2
             }
            },
            "type": "barpolar"
           }
          ],
          "carpet": [
           {
            "aaxis": {
             "endlinecolor": "#2a3f5f",
             "gridcolor": "white",
             "linecolor": "white",
             "minorgridcolor": "white",
             "startlinecolor": "#2a3f5f"
            },
            "baxis": {
             "endlinecolor": "#2a3f5f",
             "gridcolor": "white",
             "linecolor": "white",
             "minorgridcolor": "white",
             "startlinecolor": "#2a3f5f"
            },
            "type": "carpet"
           }
          ],
          "choropleth": [
           {
            "colorbar": {
             "outlinewidth": 0,
             "ticks": ""
            },
            "type": "choropleth"
           }
          ],
          "contour": [
           {
            "colorbar": {
             "outlinewidth": 0,
             "ticks": ""
            },
            "colorscale": [
             [
              0,
              "#0d0887"
             ],
             [
              0.1111111111111111,
              "#46039f"
             ],
             [
              0.2222222222222222,
              "#7201a8"
             ],
             [
              0.3333333333333333,
              "#9c179e"
             ],
             [
              0.4444444444444444,
              "#bd3786"
             ],
             [
              0.5555555555555556,
              "#d8576b"
             ],
             [
              0.6666666666666666,
              "#ed7953"
             ],
             [
              0.7777777777777778,
              "#fb9f3a"
             ],
             [
              0.8888888888888888,
              "#fdca26"
             ],
             [
              1,
              "#f0f921"
             ]
            ],
            "type": "contour"
           }
          ],
          "contourcarpet": [
           {
            "colorbar": {
             "outlinewidth": 0,
             "ticks": ""
            },
            "type": "contourcarpet"
           }
          ],
          "heatmap": [
           {
            "colorbar": {
             "outlinewidth": 0,
             "ticks": ""
            },
            "colorscale": [
             [
              0,
              "#0d0887"
             ],
             [
              0.1111111111111111,
              "#46039f"
             ],
             [
              0.2222222222222222,
              "#7201a8"
             ],
             [
              0.3333333333333333,
              "#9c179e"
             ],
             [
              0.4444444444444444,
              "#bd3786"
             ],
             [
              0.5555555555555556,
              "#d8576b"
             ],
             [
              0.6666666666666666,
              "#ed7953"
             ],
             [
              0.7777777777777778,
              "#fb9f3a"
             ],
             [
              0.8888888888888888,
              "#fdca26"
             ],
             [
              1,
              "#f0f921"
             ]
            ],
            "type": "heatmap"
           }
          ],
          "heatmapgl": [
           {
            "colorbar": {
             "outlinewidth": 0,
             "ticks": ""
            },
            "colorscale": [
             [
              0,
              "#0d0887"
             ],
             [
              0.1111111111111111,
              "#46039f"
             ],
             [
              0.2222222222222222,
              "#7201a8"
             ],
             [
              0.3333333333333333,
              "#9c179e"
             ],
             [
              0.4444444444444444,
              "#bd3786"
             ],
             [
              0.5555555555555556,
              "#d8576b"
             ],
             [
              0.6666666666666666,
              "#ed7953"
             ],
             [
              0.7777777777777778,
              "#fb9f3a"
             ],
             [
              0.8888888888888888,
              "#fdca26"
             ],
             [
              1,
              "#f0f921"
             ]
            ],
            "type": "heatmapgl"
           }
          ],
          "histogram": [
           {
            "marker": {
             "pattern": {
              "fillmode": "overlay",
              "size": 10,
              "solidity": 0.2
             }
            },
            "type": "histogram"
           }
          ],
          "histogram2d": [
           {
            "colorbar": {
             "outlinewidth": 0,
             "ticks": ""
            },
            "colorscale": [
             [
              0,
              "#0d0887"
             ],
             [
              0.1111111111111111,
              "#46039f"
             ],
             [
              0.2222222222222222,
              "#7201a8"
             ],
             [
              0.3333333333333333,
              "#9c179e"
             ],
             [
              0.4444444444444444,
              "#bd3786"
             ],
             [
              0.5555555555555556,
              "#d8576b"
             ],
             [
              0.6666666666666666,
              "#ed7953"
             ],
             [
              0.7777777777777778,
              "#fb9f3a"
             ],
             [
              0.8888888888888888,
              "#fdca26"
             ],
             [
              1,
              "#f0f921"
             ]
            ],
            "type": "histogram2d"
           }
          ],
          "histogram2dcontour": [
           {
            "colorbar": {
             "outlinewidth": 0,
             "ticks": ""
            },
            "colorscale": [
             [
              0,
              "#0d0887"
             ],
             [
              0.1111111111111111,
              "#46039f"
             ],
             [
              0.2222222222222222,
              "#7201a8"
             ],
             [
              0.3333333333333333,
              "#9c179e"
             ],
             [
              0.4444444444444444,
              "#bd3786"
             ],
             [
              0.5555555555555556,
              "#d8576b"
             ],
             [
              0.6666666666666666,
              "#ed7953"
             ],
             [
              0.7777777777777778,
              "#fb9f3a"
             ],
             [
              0.8888888888888888,
              "#fdca26"
             ],
             [
              1,
              "#f0f921"
             ]
            ],
            "type": "histogram2dcontour"
           }
          ],
          "mesh3d": [
           {
            "colorbar": {
             "outlinewidth": 0,
             "ticks": ""
            },
            "type": "mesh3d"
           }
          ],
          "parcoords": [
           {
            "line": {
             "colorbar": {
              "outlinewidth": 0,
              "ticks": ""
             }
            },
            "type": "parcoords"
           }
          ],
          "pie": [
           {
            "automargin": true,
            "type": "pie"
           }
          ],
          "scatter": [
           {
            "fillpattern": {
             "fillmode": "overlay",
             "size": 10,
             "solidity": 0.2
            },
            "type": "scatter"
           }
          ],
          "scatter3d": [
           {
            "line": {
             "colorbar": {
              "outlinewidth": 0,
              "ticks": ""
             }
            },
            "marker": {
             "colorbar": {
              "outlinewidth": 0,
              "ticks": ""
             }
            },
            "type": "scatter3d"
           }
          ],
          "scattercarpet": [
           {
            "marker": {
             "colorbar": {
              "outlinewidth": 0,
              "ticks": ""
             }
            },
            "type": "scattercarpet"
           }
          ],
          "scattergeo": [
           {
            "marker": {
             "colorbar": {
              "outlinewidth": 0,
              "ticks": ""
             }
            },
            "type": "scattergeo"
           }
          ],
          "scattergl": [
           {
            "marker": {
             "colorbar": {
              "outlinewidth": 0,
              "ticks": ""
             }
            },
            "type": "scattergl"
           }
          ],
          "scattermapbox": [
           {
            "marker": {
             "colorbar": {
              "outlinewidth": 0,
              "ticks": ""
             }
            },
            "type": "scattermapbox"
           }
          ],
          "scatterpolar": [
           {
            "marker": {
             "colorbar": {
              "outlinewidth": 0,
              "ticks": ""
             }
            },
            "type": "scatterpolar"
           }
          ],
          "scatterpolargl": [
           {
            "marker": {
             "colorbar": {
              "outlinewidth": 0,
              "ticks": ""
             }
            },
            "type": "scatterpolargl"
           }
          ],
          "scatterternary": [
           {
            "marker": {
             "colorbar": {
              "outlinewidth": 0,
              "ticks": ""
             }
            },
            "type": "scatterternary"
           }
          ],
          "surface": [
           {
            "colorbar": {
             "outlinewidth": 0,
             "ticks": ""
            },
            "colorscale": [
             [
              0,
              "#0d0887"
             ],
             [
              0.1111111111111111,
              "#46039f"
             ],
             [
              0.2222222222222222,
              "#7201a8"
             ],
             [
              0.3333333333333333,
              "#9c179e"
             ],
             [
              0.4444444444444444,
              "#bd3786"
             ],
             [
              0.5555555555555556,
              "#d8576b"
             ],
             [
              0.6666666666666666,
              "#ed7953"
             ],
             [
              0.7777777777777778,
              "#fb9f3a"
             ],
             [
              0.8888888888888888,
              "#fdca26"
             ],
             [
              1,
              "#f0f921"
             ]
            ],
            "type": "surface"
           }
          ],
          "table": [
           {
            "cells": {
             "fill": {
              "color": "#EBF0F8"
             },
             "line": {
              "color": "white"
             }
            },
            "header": {
             "fill": {
              "color": "#C8D4E3"
             },
             "line": {
              "color": "white"
             }
            },
            "type": "table"
           }
          ]
         },
         "layout": {
          "annotationdefaults": {
           "arrowcolor": "#2a3f5f",
           "arrowhead": 0,
           "arrowwidth": 1
          },
          "autotypenumbers": "strict",
          "coloraxis": {
           "colorbar": {
            "outlinewidth": 0,
            "ticks": ""
           }
          },
          "colorscale": {
           "diverging": [
            [
             0,
             "#8e0152"
            ],
            [
             0.1,
             "#c51b7d"
            ],
            [
             0.2,
             "#de77ae"
            ],
            [
             0.3,
             "#f1b6da"
            ],
            [
             0.4,
             "#fde0ef"
            ],
            [
             0.5,
             "#f7f7f7"
            ],
            [
             0.6,
             "#e6f5d0"
            ],
            [
             0.7,
             "#b8e186"
            ],
            [
             0.8,
             "#7fbc41"
            ],
            [
             0.9,
             "#4d9221"
            ],
            [
             1,
             "#276419"
            ]
           ],
           "sequential": [
            [
             0,
             "#0d0887"
            ],
            [
             0.1111111111111111,
             "#46039f"
            ],
            [
             0.2222222222222222,
             "#7201a8"
            ],
            [
             0.3333333333333333,
             "#9c179e"
            ],
            [
             0.4444444444444444,
             "#bd3786"
            ],
            [
             0.5555555555555556,
             "#d8576b"
            ],
            [
             0.6666666666666666,
             "#ed7953"
            ],
            [
             0.7777777777777778,
             "#fb9f3a"
            ],
            [
             0.8888888888888888,
             "#fdca26"
            ],
            [
             1,
             "#f0f921"
            ]
           ],
           "sequentialminus": [
            [
             0,
             "#0d0887"
            ],
            [
             0.1111111111111111,
             "#46039f"
            ],
            [
             0.2222222222222222,
             "#7201a8"
            ],
            [
             0.3333333333333333,
             "#9c179e"
            ],
            [
             0.4444444444444444,
             "#bd3786"
            ],
            [
             0.5555555555555556,
             "#d8576b"
            ],
            [
             0.6666666666666666,
             "#ed7953"
            ],
            [
             0.7777777777777778,
             "#fb9f3a"
            ],
            [
             0.8888888888888888,
             "#fdca26"
            ],
            [
             1,
             "#f0f921"
            ]
           ]
          },
          "colorway": [
           "#636efa",
           "#EF553B",
           "#00cc96",
           "#ab63fa",
           "#FFA15A",
           "#19d3f3",
           "#FF6692",
           "#B6E880",
           "#FF97FF",
           "#FECB52"
          ],
          "font": {
           "color": "#2a3f5f"
          },
          "geo": {
           "bgcolor": "white",
           "lakecolor": "white",
           "landcolor": "#E5ECF6",
           "showlakes": true,
           "showland": true,
           "subunitcolor": "white"
          },
          "hoverlabel": {
           "align": "left"
          },
          "hovermode": "closest",
          "mapbox": {
           "style": "light"
          },
          "paper_bgcolor": "white",
          "plot_bgcolor": "#E5ECF6",
          "polar": {
           "angularaxis": {
            "gridcolor": "white",
            "linecolor": "white",
            "ticks": ""
           },
           "bgcolor": "#E5ECF6",
           "radialaxis": {
            "gridcolor": "white",
            "linecolor": "white",
            "ticks": ""
           }
          },
          "scene": {
           "xaxis": {
            "backgroundcolor": "#E5ECF6",
            "gridcolor": "white",
            "gridwidth": 2,
            "linecolor": "white",
            "showbackground": true,
            "ticks": "",
            "zerolinecolor": "white"
           },
           "yaxis": {
            "backgroundcolor": "#E5ECF6",
            "gridcolor": "white",
            "gridwidth": 2,
            "linecolor": "white",
            "showbackground": true,
            "ticks": "",
            "zerolinecolor": "white"
           },
           "zaxis": {
            "backgroundcolor": "#E5ECF6",
            "gridcolor": "white",
            "gridwidth": 2,
            "linecolor": "white",
            "showbackground": true,
            "ticks": "",
            "zerolinecolor": "white"
           }
          },
          "shapedefaults": {
           "line": {
            "color": "#2a3f5f"
           }
          },
          "ternary": {
           "aaxis": {
            "gridcolor": "white",
            "linecolor": "white",
            "ticks": ""
           },
           "baxis": {
            "gridcolor": "white",
            "linecolor": "white",
            "ticks": ""
           },
           "bgcolor": "#E5ECF6",
           "caxis": {
            "gridcolor": "white",
            "linecolor": "white",
            "ticks": ""
           }
          },
          "title": {
           "x": 0.05
          },
          "xaxis": {
           "automargin": true,
           "gridcolor": "white",
           "linecolor": "white",
           "ticks": "",
           "title": {
            "standoff": 15
           },
           "zerolinecolor": "white",
           "zerolinewidth": 2
          },
          "yaxis": {
           "automargin": true,
           "gridcolor": "white",
           "linecolor": "white",
           "ticks": "",
           "title": {
            "standoff": 15
           },
           "zerolinecolor": "white",
           "zerolinewidth": 2
          }
         }
        },
        "title": {
         "text": "LDA on IRIS dataset"
        }
       }
      }
     },
     "metadata": {},
     "output_type": "display_data"
    }
   ],
   "source": [
    "#for 4 components\n",
    "transformed_data = LDA(iris,4)\n",
    "fig = px.scatter_matrix(transformed_data, dimensions=[\"LD1\", \"LD2\", \"LD3\", \"LD4\"], color=\"species\", title=\"LDA on IRIS dataset\")\n",
    "fig.show()"
   ]
  }
 ],
 "metadata": {
  "kernelspec": {
   "display_name": "Python 3",
   "language": "python",
   "name": "python3"
  },
  "language_info": {
   "codemirror_mode": {
    "name": "ipython",
    "version": 3
   },
   "file_extension": ".py",
   "mimetype": "text/x-python",
   "name": "python",
   "nbconvert_exporter": "python",
   "pygments_lexer": "ipython3",
   "version": "3.11.2"
  },
  "orig_nbformat": 4,
  "vscode": {
   "interpreter": {
    "hash": "dde5da77d57e2d32aeafdd4b57e534404740344324fdbcc2311bc5433eb333a8"
   }
  }
 },
 "nbformat": 4,
 "nbformat_minor": 2
}
